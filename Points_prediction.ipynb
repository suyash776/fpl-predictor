{
 "cells": [
  {
   "cell_type": "markdown",
   "metadata": {},
   "source": [
    "# Import the libraries that will be used throughout the examination of the data"
   ]
  },
  {
   "cell_type": "code",
   "execution_count": 1,
   "metadata": {},
   "outputs": [],
   "source": [
    "# Importing important Libraries used by all\n",
    "import numpy as np\n",
    "import matplotlib.pyplot as plt\n",
    "import pandas as pd\n",
    "\n",
    "# Import library for split and train\n",
    "from sklearn.model_selection import train_test_split\n",
    "\n",
    "# Import for linear Regression\n",
    "from sklearn.linear_model import LinearRegression\n",
    "\n",
    "# Import for PCA\n",
    "from sklearn.decomposition import PCA\n",
    "\n",
    "# Import for Random Forest\n",
    "from sklearn.ensemble import RandomForestRegressor\n",
    "\n",
    "# Import for Decision Tree Reg\n",
    "from sklearn.tree import DecisionTreeRegressor\n",
    "\n",
    "# Import for K-Fold\n",
    "from sklearn.svm import SVC\n",
    "\n",
    "# K-Fold cross validation\n",
    "from sklearn.model_selection import cross_val_score\n",
    "\n",
    "# Import for normalizing\n",
    "from sklearn.preprocessing import StandardScaler\n",
    "\n",
    "# Import for finding the error of the model\n",
    "from sklearn import metrics\n",
    "\n",
    "# Import for Polynomial Regression\n",
    "from sklearn.preprocessing import PolynomialFeatures\n",
    "\n",
    "#Backward Elimination\n",
    "import statsmodels.api as sm\n",
    "\n",
    "#K-Fold Cross Validation\n",
    "from sklearn.model_selection import cross_val_score\n",
    "\n",
    "#Applying PCA\n",
    "from sklearn.decomposition import PCA"
   ]
  },
  {
   "cell_type": "markdown",
   "metadata": {},
   "source": [
    "# Load in the premier league data set and clean it up so it can be examined"
   ]
  },
  {
   "cell_type": "code",
   "execution_count": 2,
   "metadata": {},
   "outputs": [
    {
     "name": "stderr",
     "output_type": "stream",
     "text": [
      "/Users/suyash/anaconda3/lib/python3.7/site-packages/IPython/core/interactiveshell.py:3057: DtypeWarning: Columns (12,30,52) have mixed types. Specify dtype option on import or set low_memory=False.\n",
      "  interactivity=interactivity, compiler=compiler, result=result)\n"
     ]
    }
   ],
   "source": [
    "# Loading in the data set being used\n",
    "dataset = pd.read_csv('complete_gws.csv', encoding=\"ISO-8859-1\")\n",
    "dataset_test = pd.read_csv('complete_gws.csv', encoding=\"ISO-8859-1\")\n",
    "\n",
    "# Clean up the data\n",
    "# DROP VALUES:\n",
    "dataset.drop([\"name\", \"kickoff_time\", \"kickoff_time_formatted\"], axis=1, inplace=True)\n",
    "\n",
    "dataset_test.drop([\"name\", \"kickoff_time\", \"kickoff_time_formatted\"], axis=1, inplace=True)\n",
    "\n",
    "#dataset_all.drop([\"name\", \"kickoff_time\", \"kickoff_time_formatted\"], axis=1, inplace=True)\n",
    "\n",
    "#dataset_test_all.drop([\"name\", \"kickoff_time\", \"kickoff_time_formatted\"], axis=1, inplace=True)\n",
    "\n",
    "# Remove bad instances located near bottom of set\n",
    "dataset=dataset.iloc[:67936,:]\n",
    "\n",
    "# Remove all players with minutes = 0\n",
    "dataset = dataset[dataset.minutes!=0]\n",
    "\n",
    "# Set the target y as goal_scored and x as remaining columns\n",
    "dataset_test.drop([\"goals_scored\"], axis=1, inplace=True)\n",
    "X = dataset.iloc[:,dataset.columns != \"goals_scored\"].values\n",
    "y = dataset.iloc[:,dataset.columns == \"goals_scored\"].values"
   ]
  },
  {
   "cell_type": "markdown",
   "metadata": {},
   "source": [
    "# Split for train(.70) and test(.30) data"
   ]
  },
  {
   "cell_type": "code",
   "execution_count": 3,
   "metadata": {},
   "outputs": [],
   "source": [
    "# Splitting the data into training and testing set\n",
    "X_train, X_test, y_train, y_test = train_test_split(X,y,test_size=0.3,random_state=5)"
   ]
  },
  {
   "cell_type": "markdown",
   "metadata": {},
   "source": [
    "# Lets examine the data before setting it to the different models selected"
   ]
  },
  {
   "cell_type": "code",
   "execution_count": 4,
   "metadata": {},
   "outputs": [
    {
     "name": "stdout",
     "output_type": "stream",
     "text": [
      "[   2   11   56  165 1045 7241 6274 1673  391  796 1663  710  611  408\n",
      "  220  182  152  137   58   96   41   18   11    9    3    7    1]\n"
     ]
    },
    {
     "data": {
      "text/plain": [
       "<BarContainer object of 27 artists>"
      ]
     },
     "execution_count": 4,
     "metadata": {},
     "output_type": "execute_result"
    },
    {
     "data": {
      "image/png": "[encoded data removed]",
      "text/plain": [
       "<Figure size 432x288 with 1 Axes>"
      ]
     },
     "metadata": {
      "needs_background": "light"
     },
     "output_type": "display_data"
    }
   ],
   "source": [
    "total_goals = np.unique(y_train, return_counts=True)\n",
    "\n",
    "print(total_goals[1])\n",
    "plt.bar(total_goals[0],total_goals[1])"
   ]
  },
  {
   "cell_type": "markdown",
   "metadata": {},
   "source": [
    " # Fitting the data to a Multiple Linear Regression Model Without normalization"
   ]
  },
  {
   "cell_type": "code",
   "execution_count": 5,
   "metadata": {},
   "outputs": [
    {
     "name": "stdout",
     "output_type": "stream",
     "text": [
      "The weight parameters are:\n",
      "(0) assists: 1.4726668284470161\n",
      "(1) attempted_passes: 0.01545744613064909\n",
      "(2) big_chances_created: -0.5208636403074328\n",
      "(3) big_chances_missed: 0.458141203889362\n",
      "(4) bonus: 1.1020962227269555\n",
      "(5) bps: 0.1652418198356562\n",
      "(6) clean_sheets: 1.1481031723496198\n",
      "(7) clearances_blocks_interceptions: -0.07507771146228384\n",
      "(8) completed_passes: -0.02544478566964795\n",
      "(9) creativity: 0.03851719290111244\n",
      "(10) dribbles: -0.14204465667581517\n",
      "(11) ea_index: -1.2933126791736527e-12\n",
      "(12) element: -4.7404750993074174e-05\n",
      "(13) errors_leading_to_goal: 0.2032060445783611\n",
      "(14) errors_leading_to_goal_attempt: 0.1454980481257589\n",
      "(15) fixture: -0.0007909944988526742\n",
      "(16) fouls: 0.1471355776862056\n",
      "(17) goals_conceded: -0.2644660613842095\n",
      "(18) goals_scored: 1.4511637621615607\n",
      "(19) ict_index: -0.34507141946938447\n",
      "(20) id: 1.629433677763359e-06\n",
      "(21) influence: 0.03304132073752403\n",
      "(22) key_passes: -0.20090347125218538\n",
      "(23) loaned_in: 1.4190038033490282e-15\n",
      "(24) loaned_out: 5.007279313407054e-15\n",
      "(25) minutes: 0.0067525648933278795\n",
      "(26) offside: 0.11363152423925682\n",
      "(27) open_play_crosses: -0.15657277437965061\n",
      "(28) opponent_team: -0.001284047104063866\n",
      "(29) own_goals: -1.3176689969679911\n",
      "(30) penalties_conceded: 0.3885657897299564\n",
      "(31) penalties_missed: -0.9418581676211749\n",
      "(32) penalties_saved: 2.479222248735636\n",
      "(33) recoveries: -0.054119076841568775\n",
      "(34) red_cards: -1.4487062120142284\n",
      "(35) round: 0.006159940126337112\n",
      "(36) saves: -0.09758811241573269\n",
      "(37) selected: 3.778849638758075e-08\n",
      "(38) tackled: 0.18013812669713908\n",
      "(39) tackles: -0.33986982876114086\n",
      "(40) target_missed: 0.14120716036252667\n",
      "(41) team_a_score: 0.005148725675742857\n",
      "(42) team_h_score: 0.010375000830139838\n",
      "(43) threat: 0.032910071945432356\n",
      "(44) transfers_balance: 0.0002219317952185662\n",
      "(45) transfers_in: -0.00022251075250545593\n",
      "(46) transfers_out: 0.00022137274002642648\n",
      "(47) value: -0.004168712959195603\n",
      "(48) was_home: 0.012187883914919964\n",
      "(49) winning_goals: -0.7263209793530488\n",
      "(50) yellow_cards: -0.48911368139103734\n"
     ]
    }
   ],
   "source": [
    "# Fitting the data to a Multiple Linear Regression Model\n",
    "\n",
    "# Fitting the multiple linear regresion to the training set\n",
    "mlr_obj_no_norm = LinearRegression()\n",
    "mlr_obj_no_norm.fit(X_train, y_train)\n",
    "\n",
    "num_culmn_raw  = X_train[0,:]\n",
    "\n",
    "print(\"The weight parameters are:\")\n",
    "\n",
    "for idx, col_name in enumerate(dataset_test.columns[:len(num_culmn_raw)]):\n",
    "    print(\"({}) {}: {}\".format(idx, col_name, mlr_obj_no_norm.coef_[0][idx]))\n",
    "\n",
    "# Predicting on the test set\n",
    "mlr_y_pred_no_norm = mlr_obj_no_norm.predict(X_test)\n"
   ]
  },
  {
   "cell_type": "markdown",
   "metadata": {},
   "source": [
    "# Calculate the Mean Squared Error for the model"
   ]
  },
  {
   "cell_type": "code",
   "execution_count": 6,
   "metadata": {},
   "outputs": [
    {
     "name": "stdout",
     "output_type": "stream",
     "text": [
      "Mean Squared Error for MLR: 0.456945754855707\n"
     ]
    }
   ],
   "source": [
    "print(\"Mean Squared Error for MLR:\", metrics.mean_squared_error(y_test, mlr_y_pred_no_norm))"
   ]
  },
  {
   "cell_type": "markdown",
   "metadata": {},
   "source": [
    "# Normalizing the data to make sure no one variable pulls to much on the prediction. (Do We Need to Normalize)"
   ]
  },
  {
   "cell_type": "code",
   "execution_count": 7,
   "metadata": {},
   "outputs": [],
   "source": [
    "# #Normalizing the features\n",
    "# sc_X = StandardScaler()\n",
    "# X_train = sc_X.fit_transform(X_train)\n",
    "# X_test = sc_X.transform(X_test)"
   ]
  },
  {
   "cell_type": "markdown",
   "metadata": {},
   "source": [
    "# Fitting the data to a Multiple Linear Regression Model"
   ]
  },
  {
   "cell_type": "code",
   "execution_count": 8,
   "metadata": {
    "scrolled": true
   },
   "outputs": [
    {
     "name": "stdout",
     "output_type": "stream",
     "text": [
      "The weight parameters are:\n",
      "(0) assists: 0.4570656466860118\n",
      "(1) attempted_passes: 0.33966109521645593\n",
      "(2) big_chances_created: -0.16567312877747742\n",
      "(3) big_chances_missed: 0.13275176407211708\n",
      "(4) bonus: 0.7696469494591232\n",
      "(5) bps: 1.7793728276277467\n",
      "(6) clean_sheets: 0.48270164112965164\n",
      "(7) clearances_blocks_interceptions: -0.2600158945708556\n",
      "(8) completed_passes: -0.5089270877867001\n",
      "(9) creativity: 0.542925397800265\n",
      "(10) dribbles: -0.1637328865455977\n",
      "(11) ea_index: -1.0352274593117272e-12\n",
      "(12) element: -0.007755455742339545\n",
      "(13) errors_leading_to_goal: 0.02263905909529091\n",
      "(14) errors_leading_to_goal_attempt: 0.0211735003686839\n",
      "(15) fixture: -0.08688253689977166\n",
      "(16) fouls: 0.14560689226819207\n",
      "(17) goals_conceded: -0.31634754962435774\n",
      "(18) goals_scored: 0.4844815778871821\n",
      "(19) ict_index: -1.2290879648349322\n",
      "(20) id: 0.010691661162996913\n",
      "(21) influence: 0.5009741774857551\n",
      "(22) key_passes: -0.20968383144438402\n",
      "(23) loaned_in: -3.874095488853868e-12\n",
      "(24) loaned_out: 5.977440764581843e-13\n",
      "(25) minutes: 0.19645810391577148\n",
      "(26) offside: 0.05316727195548729\n",
      "(27) open_play_crosses: -0.0840654795735033\n",
      "(28) opponent_team: -0.007440348429026071\n",
      "(29) own_goals: -0.07528984573719189\n",
      "(30) penalties_conceded: 0.037352767884356194\n",
      "(31) penalties_missed: -0.045315050245576825\n",
      "(32) penalties_saved: 0.10955682227356855\n",
      "(33) recoveries: -0.17705433092899997\n",
      "(34) red_cards: -0.09503375207240417\n",
      "(35) round: 0.0683509990814879\n",
      "(36) saves: -0.0905845078291995\n",
      "(37) selected: 0.014886479155010734\n",
      "(38) tackled: 0.29458532973580864\n",
      "(39) tackles: -0.3344030357720664\n",
      "(40) target_missed: 0.09395235988219378\n",
      "(41) team_a_score: 0.006149412447453817\n",
      "(42) team_h_score: 0.013693341994275854\n",
      "(43) threat: 0.594775374701726\n",
      "(44) transfers_balance: 10.019274411611507\n",
      "(45) transfers_in: -9.500672672356943\n",
      "(46) transfers_out: 5.908259763658614\n",
      "(47) value: -0.06126352875375199\n",
      "(48) was_home: 0.006093932377017941\n",
      "(49) winning_goals: -0.12053285869071789\n",
      "(50) yellow_cards: -0.1585593120190505\n"
     ]
    }
   ],
   "source": [
    "# Fitting the multiple linear regresion to the training set\n",
    "mlr_obj = LinearRegression()\n",
    "mlr_obj.fit(X_train, y_train)\n",
    "\n",
    "\n",
    "num_culmn_raw  = X_train[0,:]\n",
    "\n",
    "print(\"The weight parameters are:\")\n",
    "\n",
    "for idx, col_name in enumerate(dataset_test.columns[:len(num_culmn_raw)]):\n",
    "    print(\"({}) {}: {}\".format(idx, col_name, mlr_obj.coef_[0][idx]))\n",
    "\n",
    "# Predicting on the test set\n",
    "mlr_y_pred = mlr_obj.predict(X_test)\n"
   ]
  },
  {
   "cell_type": "markdown",
   "metadata": {},
   "source": [
    "# Calculate the Mean Squared Error for the model"
   ]
  },
  {
   "cell_type": "code",
   "execution_count": 9,
   "metadata": {},
   "outputs": [
    {
     "name": "stdout",
     "output_type": "stream",
     "text": [
      "Mean Squared Error for MLR: 0.45694575485574146\n"
     ]
    }
   ],
   "source": [
    "print(\"Mean Squared Error for MLR:\", metrics.mean_squared_error(y_test, mlr_y_pred))"
   ]
  },
  {
   "cell_type": "markdown",
   "metadata": {},
   "source": [
    "# Using backwards elimination to trim the data"
   ]
  },
  {
   "cell_type": "code",
   "execution_count": 10,
   "metadata": {},
   "outputs": [],
   "source": [
    "def backwardElimination(x, sl):\n",
    "    \n",
    "    numVars = len(x[0])\n",
    "    for i in range(0, numVars):\n",
    "        \n",
    "        #print(\"check:\", i)\n",
    "\n",
    "        obj_OLS = sm.OLS(endog = y, exog = x).fit()\n",
    "        maxVar = max(obj_OLS.pvalues).astype(float)\n",
    "        #print(maxVar)\n",
    "\n",
    "        if maxVar > sl:\n",
    "            \n",
    "            for j in range(0, numVars - i):\n",
    "                \n",
    "                if (obj_OLS.pvalues[j].astype(float) == maxVar):\n",
    "                    x = np.delete(x, j, 1)\n",
    "                    dataset_test.drop([dataset_test.columns[j]], axis=1, inplace=True)\n",
    "                    \n",
    "                    \n",
    "    obj_OLS.summary()\n",
    "    return x\n",
    "\n",
    "\n",
    "X = X.astype(float)\n",
    "SL = 0.05\n",
    "X_sig = X[:,:]\n",
    "X_Modeled = backwardElimination(X_sig, SL)"
   ]
  },
  {
   "cell_type": "markdown",
   "metadata": {},
   "source": [
    "# Now run the trimed data with a linear regression model"
   ]
  },
  {
   "cell_type": "code",
   "execution_count": 11,
   "metadata": {
    "scrolled": true
   },
   "outputs": [
    {
     "name": "stdout",
     "output_type": "stream",
     "text": [
      "The weight parameters are:\n",
      "(0) assists: 1.4928480477880086\n",
      "(1) attempted_passes: 0.015312117386343223\n",
      "(2) big_chances_created: -0.5227978516927808\n",
      "(3) big_chances_missed: 0.45218084242672607\n",
      "(4) bonus: 1.120711237792643\n",
      "(5) bps: 0.16258620102459376\n",
      "(6) clean_sheets: 1.1750856080921797\n",
      "(7) clearances_blocks_interceptions: -0.0734590868780265\n",
      "(8) completed_passes: -0.026052353815877734\n",
      "(9) creativity: 0.039300998245864804\n",
      "(10) dribbles: -0.1417206628231629\n",
      "(11) element: -2.0142711165460625e-05\n",
      "(12) errors_leading_to_goal: 0.1899546790290933\n",
      "(13) errors_leading_to_goal_attempt: 0.15176627161044065\n",
      "(14) fixture: -0.0004595169890682562\n",
      "(15) fouls: 0.14568445091052318\n",
      "(16) goals_conceded: -0.2640026736052145\n",
      "(17) goals_scored: 1.463992597765598\n",
      "(18) ict_index: -0.3340646826622143\n",
      "(19) id: -1.1800763879854514e-05\n",
      "(20) influence: 0.0319867478440351\n",
      "(21) key_passes: -0.21865226521641665\n",
      "(22) loaned_in: 3.3534980348193244e-13\n",
      "(23) loaned_out: 2.065930759798107e-12\n",
      "(24) minutes: 0.007058164446902097\n",
      "(25) offside: 0.10763173411130225\n",
      "(26) open_play_crosses: -0.16079927991554233\n",
      "(27) opponent_team: 0.00040389589697277083\n",
      "(28) own_goals: -1.3452698758351582\n",
      "(29) penalties_conceded: 0.38076947018766294\n",
      "(30) penalties_missed: -1.0144194791542867\n",
      "(31) penalties_saved: 2.437982054327874\n",
      "(32) recoveries: -0.05125138986659386\n",
      "(33) red_cards: -1.4385403482729149\n",
      "(34) round: 0.011172139609320016\n",
      "(35) saves: -0.10238943974391956\n",
      "(36) selected: 4.7264107752575946e-08\n",
      "(37) tackled: 0.18205278453454135\n",
      "(38) tackles: -0.33209084450467696\n",
      "(39) target_missed: 0.13756100234512844\n",
      "(40) team_a_score: 0.00932707150910061\n",
      "(41) team_h_score: 0.01661534273429559\n",
      "(42) threat: 0.03186992096836483\n",
      "(43) transfers_balance: 5.224219028487909e-07\n",
      "(44) transfers_in: -1.1728950457534637e-06\n",
      "(45) value: -0.004512730607800608\n",
      "(46) was_home: 0.0017219315059435324\n",
      "(47) winning_goals: -0.8680928389101604\n",
      "(48) yellow_cards: -0.4955644152324886\n"
     ]
    }
   ],
   "source": [
    "# Split the data\n",
    "X_sig_train, X_sig_test, y_sig_train, y_sig_test = train_test_split(\n",
    "    X_Modeled, y, test_size = 0.3)\n",
    "\n",
    "mlr_bw_obj = LinearRegression()\n",
    "mlr_bw_obj.fit(X_sig_train, y_sig_train)\n",
    "\n",
    "y_sig_pred = mlr_bw_obj.predict(X_sig_test)\n",
    "\n",
    "num_culmn_sig  = X_Modeled[0,:]\n",
    "\n",
    "print(\"The weight parameters are:\")\n",
    "\n",
    "for idx, col_name in enumerate(dataset_test.columns[:len(num_culmn_sig)]):\n",
    "    print(\"({}) {}: {}\".format(idx, col_name, mlr_bw_obj.coef_[0][idx]))\n",
    "\n",
    "#print(\"Mean Squared Error for MLR and Backward Elimination:\", metrics.mean_squared_error(y_sig_test, y_sig_pred))"
   ]
  },
  {
   "cell_type": "markdown",
   "metadata": {},
   "source": [
    "# MLR and Backward Elimination Mean Squared Error"
   ]
  },
  {
   "cell_type": "code",
   "execution_count": 12,
   "metadata": {},
   "outputs": [
    {
     "name": "stdout",
     "output_type": "stream",
     "text": [
      "Mean Squared Error for MLR and Backward Elimination: 0.4491866517910291\n"
     ]
    }
   ],
   "source": [
    "print(\"Mean Squared Error for MLR and Backward Elimination:\", metrics.mean_squared_error(y_sig_test, y_sig_pred))"
   ]
  },
  {
   "cell_type": "markdown",
   "metadata": {},
   "source": [
    "# Examine a Decison Tree regresion"
   ]
  },
  {
   "cell_type": "code",
   "execution_count": 13,
   "metadata": {},
   "outputs": [
    {
     "name": "stdout",
     "output_type": "stream",
     "text": [
      "Mean Squared Error for Decision Tree: 0.4673601528500159\n"
     ]
    }
   ],
   "source": [
    "dtr_obj = DecisionTreeRegressor()\n",
    "dtr_obj.fit(X_train, y_train)\n",
    "\n",
    "dtr_y_pred = dtr_obj.predict(X_test)\n",
    "\n",
    "print(\"Mean Squared Error for Decision Tree:\", metrics.mean_squared_error(y_test, dtr_y_pred))"
   ]
  },
  {
   "cell_type": "markdown",
   "metadata": {},
   "source": [
    "# Examine a Random Forrest model"
   ]
  },
  {
   "cell_type": "code",
   "execution_count": 14,
   "metadata": {},
   "outputs": [
    {
     "name": "stderr",
     "output_type": "stream",
     "text": [
      "/Users/suyash/anaconda3/lib/python3.7/site-packages/ipykernel_launcher.py:9: DataConversionWarning: A column-vector y was passed when a 1d array was expected. Please change the shape of y to (n_samples,), for example using ravel().\n",
      "  if __name__ == '__main__':\n",
      "/Users/suyash/anaconda3/lib/python3.7/site-packages/ipykernel_launcher.py:9: DataConversionWarning: A column-vector y was passed when a 1d array was expected. Please change the shape of y to (n_samples,), for example using ravel().\n",
      "  if __name__ == '__main__':\n",
      "/Users/suyash/anaconda3/lib/python3.7/site-packages/ipykernel_launcher.py:9: DataConversionWarning: A column-vector y was passed when a 1d array was expected. Please change the shape of y to (n_samples,), for example using ravel().\n",
      "  if __name__ == '__main__':\n",
      "/Users/suyash/anaconda3/lib/python3.7/site-packages/ipykernel_launcher.py:9: DataConversionWarning: A column-vector y was passed when a 1d array was expected. Please change the shape of y to (n_samples,), for example using ravel().\n",
      "  if __name__ == '__main__':\n",
      "/Users/suyash/anaconda3/lib/python3.7/site-packages/ipykernel_launcher.py:9: DataConversionWarning: A column-vector y was passed when a 1d array was expected. Please change the shape of y to (n_samples,), for example using ravel().\n",
      "  if __name__ == '__main__':\n",
      "/Users/suyash/anaconda3/lib/python3.7/site-packages/ipykernel_launcher.py:9: DataConversionWarning: A column-vector y was passed when a 1d array was expected. Please change the shape of y to (n_samples,), for example using ravel().\n",
      "  if __name__ == '__main__':\n",
      "/Users/suyash/anaconda3/lib/python3.7/site-packages/ipykernel_launcher.py:9: DataConversionWarning: A column-vector y was passed when a 1d array was expected. Please change the shape of y to (n_samples,), for example using ravel().\n",
      "  if __name__ == '__main__':\n",
      "/Users/suyash/anaconda3/lib/python3.7/site-packages/ipykernel_launcher.py:9: DataConversionWarning: A column-vector y was passed when a 1d array was expected. Please change the shape of y to (n_samples,), for example using ravel().\n",
      "  if __name__ == '__main__':\n",
      "/Users/suyash/anaconda3/lib/python3.7/site-packages/ipykernel_launcher.py:9: DataConversionWarning: A column-vector y was passed when a 1d array was expected. Please change the shape of y to (n_samples,), for example using ravel().\n",
      "  if __name__ == '__main__':\n",
      "/Users/suyash/anaconda3/lib/python3.7/site-packages/ipykernel_launcher.py:9: DataConversionWarning: A column-vector y was passed when a 1d array was expected. Please change the shape of y to (n_samples,), for example using ravel().\n",
      "  if __name__ == '__main__':\n",
      "/Users/suyash/anaconda3/lib/python3.7/site-packages/ipykernel_launcher.py:9: DataConversionWarning: A column-vector y was passed when a 1d array was expected. Please change the shape of y to (n_samples,), for example using ravel().\n",
      "  if __name__ == '__main__':\n",
      "/Users/suyash/anaconda3/lib/python3.7/site-packages/ipykernel_launcher.py:9: DataConversionWarning: A column-vector y was passed when a 1d array was expected. Please change the shape of y to (n_samples,), for example using ravel().\n",
      "  if __name__ == '__main__':\n",
      "/Users/suyash/anaconda3/lib/python3.7/site-packages/ipykernel_launcher.py:9: DataConversionWarning: A column-vector y was passed when a 1d array was expected. Please change the shape of y to (n_samples,), for example using ravel().\n",
      "  if __name__ == '__main__':\n",
      "/Users/suyash/anaconda3/lib/python3.7/site-packages/ipykernel_launcher.py:9: DataConversionWarning: A column-vector y was passed when a 1d array was expected. Please change the shape of y to (n_samples,), for example using ravel().\n",
      "  if __name__ == '__main__':\n",
      "/Users/suyash/anaconda3/lib/python3.7/site-packages/ipykernel_launcher.py:9: DataConversionWarning: A column-vector y was passed when a 1d array was expected. Please change the shape of y to (n_samples,), for example using ravel().\n",
      "  if __name__ == '__main__':\n",
      "/Users/suyash/anaconda3/lib/python3.7/site-packages/ipykernel_launcher.py:9: DataConversionWarning: A column-vector y was passed when a 1d array was expected. Please change the shape of y to (n_samples,), for example using ravel().\n",
      "  if __name__ == '__main__':\n",
      "/Users/suyash/anaconda3/lib/python3.7/site-packages/ipykernel_launcher.py:9: DataConversionWarning: A column-vector y was passed when a 1d array was expected. Please change the shape of y to (n_samples,), for example using ravel().\n",
      "  if __name__ == '__main__':\n",
      "/Users/suyash/anaconda3/lib/python3.7/site-packages/ipykernel_launcher.py:9: DataConversionWarning: A column-vector y was passed when a 1d array was expected. Please change the shape of y to (n_samples,), for example using ravel().\n",
      "  if __name__ == '__main__':\n",
      "/Users/suyash/anaconda3/lib/python3.7/site-packages/ipykernel_launcher.py:9: DataConversionWarning: A column-vector y was passed when a 1d array was expected. Please change the shape of y to (n_samples,), for example using ravel().\n",
      "  if __name__ == '__main__':\n",
      "/Users/suyash/anaconda3/lib/python3.7/site-packages/ipykernel_launcher.py:9: DataConversionWarning: A column-vector y was passed when a 1d array was expected. Please change the shape of y to (n_samples,), for example using ravel().\n",
      "  if __name__ == '__main__':\n",
      "/Users/suyash/anaconda3/lib/python3.7/site-packages/ipykernel_launcher.py:9: DataConversionWarning: A column-vector y was passed when a 1d array was expected. Please change the shape of y to (n_samples,), for example using ravel().\n",
      "  if __name__ == '__main__':\n",
      "/Users/suyash/anaconda3/lib/python3.7/site-packages/ipykernel_launcher.py:9: DataConversionWarning: A column-vector y was passed when a 1d array was expected. Please change the shape of y to (n_samples,), for example using ravel().\n",
      "  if __name__ == '__main__':\n",
      "/Users/suyash/anaconda3/lib/python3.7/site-packages/ipykernel_launcher.py:9: DataConversionWarning: A column-vector y was passed when a 1d array was expected. Please change the shape of y to (n_samples,), for example using ravel().\n",
      "  if __name__ == '__main__':\n",
      "/Users/suyash/anaconda3/lib/python3.7/site-packages/ipykernel_launcher.py:9: DataConversionWarning: A column-vector y was passed when a 1d array was expected. Please change the shape of y to (n_samples,), for example using ravel().\n",
      "  if __name__ == '__main__':\n",
      "/Users/suyash/anaconda3/lib/python3.7/site-packages/ipykernel_launcher.py:9: DataConversionWarning: A column-vector y was passed when a 1d array was expected. Please change the shape of y to (n_samples,), for example using ravel().\n",
      "  if __name__ == '__main__':\n",
      "/Users/suyash/anaconda3/lib/python3.7/site-packages/ipykernel_launcher.py:9: DataConversionWarning: A column-vector y was passed when a 1d array was expected. Please change the shape of y to (n_samples,), for example using ravel().\n",
      "  if __name__ == '__main__':\n",
      "/Users/suyash/anaconda3/lib/python3.7/site-packages/ipykernel_launcher.py:9: DataConversionWarning: A column-vector y was passed when a 1d array was expected. Please change the shape of y to (n_samples,), for example using ravel().\n",
      "  if __name__ == '__main__':\n",
      "/Users/suyash/anaconda3/lib/python3.7/site-packages/ipykernel_launcher.py:9: DataConversionWarning: A column-vector y was passed when a 1d array was expected. Please change the shape of y to (n_samples,), for example using ravel().\n",
      "  if __name__ == '__main__':\n",
      "/Users/suyash/anaconda3/lib/python3.7/site-packages/ipykernel_launcher.py:9: DataConversionWarning: A column-vector y was passed when a 1d array was expected. Please change the shape of y to (n_samples,), for example using ravel().\n",
      "  if __name__ == '__main__':\n",
      "/Users/suyash/anaconda3/lib/python3.7/site-packages/ipykernel_launcher.py:9: DataConversionWarning: A column-vector y was passed when a 1d array was expected. Please change the shape of y to (n_samples,), for example using ravel().\n",
      "  if __name__ == '__main__':\n"
     ]
    },
    {
     "name": "stdout",
     "output_type": "stream",
     "text": [
      "Lowest testing error = 0.22195223768708203\n",
      "Associated number of trees (n_estimator) = 160\n"
     ]
    }
   ],
   "source": [
    "num_tree = []\n",
    "msqe = []\n",
    "\n",
    "for n in range (10, 301, 10):\n",
    "    \n",
    "    num_tree.append(n)\n",
    "    \n",
    "    randf_obj = RandomForestRegressor(n_estimators=n)\n",
    "    randf_obj.fit(X_train, y_train)\n",
    "    \n",
    "    randf_y_pred = randf_obj.predict(X_test)\n",
    "    \n",
    "    mean_sqr_eror = metrics.mean_squared_error(y_test, \n",
    "                                               randf_y_pred)\n",
    "    \n",
    "    # print(mean_sqr_eror)\n",
    "    \n",
    "    msqe.append(mean_sqr_eror)\n",
    "    \n",
    "print('Lowest testing error =', min(msqe))\n",
    "print('Associated number of trees (n_estimator) =', \n",
    "      num_tree[msqe.index(min(msqe))])"
   ]
  },
  {
   "cell_type": "code",
   "execution_count": 15,
   "metadata": {},
   "outputs": [
    {
     "name": "stdout",
     "output_type": "stream",
     "text": [
      "Lowest testing error = 0.22195223768708203\n",
      "Associated number of trees (n_estimator) = 160\n"
     ]
    }
   ],
   "source": [
    "print('Lowest testing error =', min(msqe))\n",
    "print('Associated number of trees (n_estimator) =', \n",
    "      num_tree[msqe.index(min(msqe))])"
   ]
  },
  {
   "cell_type": "markdown",
   "metadata": {},
   "source": [
    "# PCA model examination"
   ]
  },
  {
   "cell_type": "code",
   "execution_count": 16,
   "metadata": {},
   "outputs": [
    {
     "name": "stdout",
     "output_type": "stream",
     "text": [
      "Lowest testing error = 0.4569440207096578\n",
      "Associated number of components (n_components) = 47\n"
     ]
    }
   ],
   "source": [
    "num_tree_pca = []\n",
    "pca_error = []\n",
    "\n",
    "for n in range(1, len(num_culmn_raw)):\n",
    "    num_tree_pca.append(n)\n",
    "    \n",
    "    pca_obj = PCA(n_components=n)\n",
    "    X_PCA_train = pca_obj.fit_transform(X_train)\n",
    "    X_PCA_test = pca_obj.transform(X_test)\n",
    "    components_variance = pca_obj.explained_variance_ratio_\n",
    "\n",
    "    # Fit a linear regression to the training set\n",
    "    mlr_pca_obj = LinearRegression()\n",
    "    mlr_pca_obj.fit(X_PCA_train, y_train)\n",
    "\n",
    "    y_mlr_pca_pred = mlr_pca_obj.predict(X_PCA_test)\n",
    "    \n",
    "    pca_error.append(metrics.mean_squared_error(y_test, y_mlr_pca_pred))\n",
    "    \n",
    "    #print(n)\n",
    "    #print(metrics.mean_squared_error(y_test, y_mlr_pca_pred))\n",
    "    \n",
    "print('Lowest testing error =', min(pca_error))\n",
    "print('Associated number of components (n_components) =', \n",
    "      num_tree_pca[pca_error.index(min(pca_error))])"
   ]
  },
  {
   "cell_type": "markdown",
   "metadata": {},
   "source": [
    "# K-Fold Tests"
   ]
  },
  {
   "cell_type": "code",
   "execution_count": 17,
   "metadata": {
    "scrolled": true
   },
   "outputs": [
    {
     "name": "stdout",
     "output_type": "stream",
     "text": [
      "MLR Mean: 0.9468272096126711\n",
      "MLR Standard Deviation: 0.0025675732600164195\n",
      "\n",
      "MLR/Backward Elimination Mean: 0.9468272096126711\n",
      "MLR/Backward Elimination Deviation: 0.0025675732600164195\n",
      "\n",
      "Decission Tree Mean: 0.9482898010660454\n",
      "Decission Tree Deviation: 0.004477841599959785\n",
      "\n"
     ]
    },
    {
     "name": "stderr",
     "output_type": "stream",
     "text": [
      "/Users/suyash/anaconda3/lib/python3.7/site-packages/sklearn/model_selection/_validation.py:514: DataConversionWarning: A column-vector y was passed when a 1d array was expected. Please change the shape of y to (n_samples,), for example using ravel().\n",
      "  estimator.fit(X_train, y_train, **fit_params)\n",
      "/Users/suyash/anaconda3/lib/python3.7/site-packages/sklearn/model_selection/_validation.py:514: DataConversionWarning: A column-vector y was passed when a 1d array was expected. Please change the shape of y to (n_samples,), for example using ravel().\n",
      "  estimator.fit(X_train, y_train, **fit_params)\n",
      "/Users/suyash/anaconda3/lib/python3.7/site-packages/sklearn/model_selection/_validation.py:514: DataConversionWarning: A column-vector y was passed when a 1d array was expected. Please change the shape of y to (n_samples,), for example using ravel().\n",
      "  estimator.fit(X_train, y_train, **fit_params)\n",
      "/Users/suyash/anaconda3/lib/python3.7/site-packages/sklearn/model_selection/_validation.py:514: DataConversionWarning: A column-vector y was passed when a 1d array was expected. Please change the shape of y to (n_samples,), for example using ravel().\n",
      "  estimator.fit(X_train, y_train, **fit_params)\n",
      "/Users/suyash/anaconda3/lib/python3.7/site-packages/sklearn/model_selection/_validation.py:514: DataConversionWarning: A column-vector y was passed when a 1d array was expected. Please change the shape of y to (n_samples,), for example using ravel().\n",
      "  estimator.fit(X_train, y_train, **fit_params)\n",
      "/Users/suyash/anaconda3/lib/python3.7/site-packages/sklearn/model_selection/_validation.py:514: DataConversionWarning: A column-vector y was passed when a 1d array was expected. Please change the shape of y to (n_samples,), for example using ravel().\n",
      "  estimator.fit(X_train, y_train, **fit_params)\n",
      "/Users/suyash/anaconda3/lib/python3.7/site-packages/sklearn/model_selection/_validation.py:514: DataConversionWarning: A column-vector y was passed when a 1d array was expected. Please change the shape of y to (n_samples,), for example using ravel().\n",
      "  estimator.fit(X_train, y_train, **fit_params)\n",
      "/Users/suyash/anaconda3/lib/python3.7/site-packages/sklearn/model_selection/_validation.py:514: DataConversionWarning: A column-vector y was passed when a 1d array was expected. Please change the shape of y to (n_samples,), for example using ravel().\n",
      "  estimator.fit(X_train, y_train, **fit_params)\n",
      "/Users/suyash/anaconda3/lib/python3.7/site-packages/sklearn/model_selection/_validation.py:514: DataConversionWarning: A column-vector y was passed when a 1d array was expected. Please change the shape of y to (n_samples,), for example using ravel().\n",
      "  estimator.fit(X_train, y_train, **fit_params)\n",
      "/Users/suyash/anaconda3/lib/python3.7/site-packages/sklearn/model_selection/_validation.py:514: DataConversionWarning: A column-vector y was passed when a 1d array was expected. Please change the shape of y to (n_samples,), for example using ravel().\n",
      "  estimator.fit(X_train, y_train, **fit_params)\n"
     ]
    },
    {
     "name": "stdout",
     "output_type": "stream",
     "text": [
      "Random Forest Mean: 0.9743497619684035\n",
      "Random Forest Standard Deviation: 0.0017494717171341542\n",
      "\n",
      "MLR/PCA Mean: 0.9468048051957456\n",
      "MLR/PCA Standard Deviation: 0.0005443265027909932\n"
     ]
    }
   ],
   "source": [
    "# Multiple Linear Regression Raw\n",
    "modelAccuracies = cross_val_score(estimator=mlr_obj, X=X_train, y=y_train, cv=10)\n",
    "print(\"MLR Mean:\", modelAccuracies.mean())\n",
    "print(\"MLR Standard Deviation:\", modelAccuracies.std())\n",
    "\n",
    "print()\n",
    "\n",
    "# Multilinear Regression with Backward Elimination\n",
    "modelAccuracies = cross_val_score(estimator=mlr_bw_obj, X=X_train, y=y_train, cv=10)\n",
    "print(\"MLR/Backward Elimination Mean:\", modelAccuracies.mean())\n",
    "print(\"MLR/Backward Elimination Deviation:\", modelAccuracies.std())\n",
    "\n",
    "print()\n",
    "\n",
    "# Decision Tree Model\n",
    "modelAccuracies = cross_val_score(estimator=dtr_obj, X=X_train, y=y_train, cv=10)\n",
    "print(\"Decission Tree Mean:\", modelAccuracies.mean())\n",
    "print(\"Decission Tree Deviation:\", modelAccuracies.std())\n",
    "\n",
    "print()\n",
    "\n",
    "# Random Forest Model\n",
    "randf_obj = RandomForestRegressor(n_estimators=num_tree[msqe.index(min(msqe))])\n",
    "modelAccuracies = cross_val_score(estimator=randf_obj, X=X_train, y=y_train, cv=10)\n",
    "print(\"Random Forest Mean:\", modelAccuracies.mean())\n",
    "print(\"Random Forest Standard Deviation:\", modelAccuracies.std())\n",
    "\n",
    "print()\n",
    "\n",
    "# PCA Model\n",
    "modelAccuracies = cross_val_score(estimator=mlr_pca_obj, X=X_train, y=y_train, cv=5)\n",
    "print(\"MLR/PCA Mean:\", modelAccuracies.mean())\n",
    "print(\"MLR/PCA Standard Deviation:\", modelAccuracies.std())"
   ]
  }
 ],
 "metadata": {
  "kernelspec": {
   "display_name": "Python 3",
   "language": "python",
   "name": "python3"
  },
  "language_info": {
   "codemirror_mode": {
    "name": "ipython",
    "version": 3
   },
   "file_extension": ".py",
   "mimetype": "text/x-python",
   "name": "python",
   "nbconvert_exporter": "python",
   "pygments_lexer": "ipython3",
   "version": "3.7.3"
  }
 },
 "nbformat": 4,
 "nbformat_minor": 2
}
