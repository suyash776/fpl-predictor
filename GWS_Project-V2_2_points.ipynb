{
 "cells": [
  {
   "cell_type": "markdown",
   "metadata": {},
   "source": [
    "# Import the libraries that will be used throughout the examination of the data"
   ]
  },
  {
   "cell_type": "code",
   "execution_count": 25,
   "metadata": {},
   "outputs": [],
   "source": [
    "# Importing important Libraries used by all\n",
    "import numpy as np\n",
    "import matplotlib.pyplot as plt\n",
    "import pandas as pd\n",
    "\n",
    "# Import library for split and train\n",
    "from sklearn.model_selection import train_test_split\n",
    "\n",
    "# Import for linear Regression\n",
    "from sklearn.linear_model import LinearRegression\n",
    "\n",
    "# Import for PCA\n",
    "from sklearn.decomposition import PCA\n",
    "\n",
    "# Import for Random Forest\n",
    "from sklearn.ensemble import RandomForestRegressor\n",
    "\n",
    "# Import for Decision Tree Reg\n",
    "from sklearn.tree import DecisionTreeRegressor\n",
    "\n",
    "# Import for K-Fold\n",
    "from sklearn.svm import SVC\n",
    "\n",
    "# K-Fold cross validation\n",
    "from sklearn.model_selection import cross_val_score\n",
    "\n",
    "# Import for normalizing\n",
    "from sklearn.preprocessing import StandardScaler\n",
    "\n",
    "# Import for finding the error of the model\n",
    "from sklearn import metrics\n",
    "\n",
    "# Import for Polynomial Regression\n",
    "from sklearn.preprocessing import PolynomialFeatures\n",
    "\n",
    "#Backward Elimination\n",
    "import statsmodels.api as sm\n",
    "\n",
    "#K-Fold Cross Validation\n",
    "from sklearn.model_selection import cross_val_score\n",
    "\n",
    "#Applying PCA\n",
    "from sklearn.decomposition import PCA"
   ]
  },
  {
   "cell_type": "markdown",
   "metadata": {},
   "source": [
    "# Load in the premier league data set and clean it up so it can be examined"
   ]
  },
  {
   "cell_type": "code",
   "execution_count": 18,
   "metadata": {},
   "outputs": [
    {
     "name": "stderr",
     "output_type": "stream",
     "text": [
      "/Users/suyash/anaconda3/lib/python3.7/site-packages/IPython/core/interactiveshell.py:3057: DtypeWarning: Columns (12,30,52) have mixed types. Specify dtype option on import or set low_memory=False.\n",
      "  interactivity=interactivity, compiler=compiler, result=result)\n"
     ]
    }
   ],
   "source": [
    "# Loading in the data set being used\n",
    "dataset = pd.read_csv('complete_gws.csv', encoding=\"ISO-8859-1\")\n",
    "dataset_test = pd.read_csv('complete_gws.csv', encoding=\"ISO-8859-1\")\n",
    "\n",
    "# Clean up the data\n",
    "# DROP VALUES:\n",
    "dataset.drop([\"name\", \"kickoff_time\", \"kickoff_time_formatted\"], axis=1, inplace=True)\n",
    "\n",
    "dataset_test.drop([\"name\", \"kickoff_time\", \"kickoff_time_formatted\"], axis=1, inplace=True)\n",
    "\n",
    "#dataset_all.drop([\"name\", \"kickoff_time\", \"kickoff_time_formatted\"], axis=1, inplace=True)\n",
    "\n",
    "#dataset_test_all.drop([\"name\", \"kickoff_time\", \"kickoff_time_formatted\"], axis=1, inplace=True)\n",
    "\n",
    "# Remove bad instances located near bottom of set\n",
    "dataset=dataset.iloc[:67936,:]\n",
    "\n",
    "# Remove all players with minutes = 0\n",
    "dataset = dataset[dataset.minutes!=0]\n",
    "\n",
    "# Set the target y as total_points and x as remaining columns\n",
    "dataset_test.drop([\"goals_scored\"], axis=1, inplace=True)\n",
    "X = dataset.iloc[:,dataset.columns != \"total_points\"].values\n",
    "y = dataset.iloc[:,dataset.columns == \"total_points\"].values"
   ]
  },
  {
   "cell_type": "markdown",
   "metadata": {},
   "source": [
    "# Split for train(.70) and test(.30) data"
   ]
  },
  {
   "cell_type": "code",
   "execution_count": 19,
   "metadata": {},
   "outputs": [
    {
     "name": "stdout",
     "output_type": "stream",
     "text": [
      "[-4. -2. -1.  0.  1.  2.  3.  4.  5.  6.  7.  8.  9. 10. 11. 12. 13. 14.\n",
      " 15. 16. 17. 18. 19. 20. 21. 23. 24.] 21981 21981\n"
     ]
    }
   ],
   "source": [
    "# Splitting the data into training and testing set\n",
    "X_train, X_test, y_train, y_test = train_test_split(X,y,test_size=0.3)\n",
    "\n",
    "print(np.unique(y_test), len(X_train), len(y_train))"
   ]
  },
  {
   "cell_type": "markdown",
   "metadata": {},
   "source": [
    "# Lets examine the data before setting it to the different models selected"
   ]
  },
  {
   "cell_type": "code",
   "execution_count": 20,
   "metadata": {},
   "outputs": [
    {
     "name": "stdout",
     "output_type": "stream",
     "text": [
      "[  14   44  156 1043 7134 6291 1715  382  828 1703  718  607  405  229\n",
      "  195  148  130   64   90   37   17   10    6    4    9    1    1]\n"
     ]
    },
    {
     "data": {
      "text/plain": [
       "<BarContainer object of 27 artists>"
      ]
     },
     "execution_count": 20,
     "metadata": {},
     "output_type": "execute_result"
    },
    {
     "data": {
      "image/png": "[encoded data removed]",
      "text/plain": [
       "<Figure size 432x288 with 1 Axes>"
      ]
     },
     "metadata": {
      "needs_background": "light"
     },
     "output_type": "display_data"
    }
   ],
   "source": [
    "total_goals = np.unique(y_train, return_counts=True)\n",
    "\n",
    "print(total_goals[1])\n",
    "plt.bar(total_goals[0],total_goals[1])"
   ]
  },
  {
   "cell_type": "markdown",
   "metadata": {},
   "source": [
    "# Normalizing the data to make sure no one variable pulls to much on the prediction. (Do We Need to Normalize)"
   ]
  },
  {
   "cell_type": "code",
   "execution_count": 21,
   "metadata": {},
   "outputs": [],
   "source": [
    "# Normalizing the features\n",
    "sc_X = StandardScaler()\n",
    "X_train = sc_X.fit_transform(X_train)\n",
    "X_test = sc_X.transform(X_test)"
   ]
  },
  {
   "cell_type": "markdown",
   "metadata": {},
   "source": [
    "# Fitting the data to a Multiple Linear Regression Model"
   ]
  },
  {
   "cell_type": "code",
   "execution_count": 30,
   "metadata": {
    "scrolled": true
   },
   "outputs": [
    {
     "name": "stdout",
     "output_type": "stream",
     "text": [
      "480471 9421\n"
     ]
    },
    {
     "ename": "ValueError",
     "evalue": "x and y must be the same size",
     "output_type": "error",
     "traceback": [
      "\u001b[0;31m---------------------------------------------------------------------------\u001b[0m",
      "\u001b[0;31mValueError\u001b[0m                                Traceback (most recent call last)",
      "\u001b[0;32m<ipython-input-30-3ac41e3c0d5f>\u001b[0m in \u001b[0;36m<module>\u001b[0;34m\u001b[0m\n\u001b[1;32m     14\u001b[0m \u001b[0mmlr_y_pred\u001b[0m \u001b[0;34m=\u001b[0m \u001b[0mmlr_obj\u001b[0m\u001b[0;34m.\u001b[0m\u001b[0mpredict\u001b[0m\u001b[0;34m(\u001b[0m\u001b[0mX_test\u001b[0m\u001b[0;34m)\u001b[0m\u001b[0;34m\u001b[0m\u001b[0;34m\u001b[0m\u001b[0m\n\u001b[1;32m     15\u001b[0m \u001b[0mprint\u001b[0m\u001b[0;34m(\u001b[0m\u001b[0mX_test\u001b[0m\u001b[0;34m.\u001b[0m\u001b[0msize\u001b[0m\u001b[0;34m,\u001b[0m\u001b[0mmlr_y_pred\u001b[0m\u001b[0;34m.\u001b[0m\u001b[0msize\u001b[0m\u001b[0;34m)\u001b[0m\u001b[0;34m\u001b[0m\u001b[0;34m\u001b[0m\u001b[0m\n\u001b[0;32m---> 16\u001b[0;31m \u001b[0mplt\u001b[0m\u001b[0;34m.\u001b[0m\u001b[0mscatter\u001b[0m\u001b[0;34m(\u001b[0m\u001b[0mX_test\u001b[0m\u001b[0;34m,\u001b[0m \u001b[0my_test\u001b[0m\u001b[0;34m,\u001b[0m  \u001b[0mcolor\u001b[0m\u001b[0;34m=\u001b[0m\u001b[0;34m'black'\u001b[0m\u001b[0;34m)\u001b[0m\u001b[0;34m\u001b[0m\u001b[0;34m\u001b[0m\u001b[0m\n\u001b[0m\u001b[1;32m     17\u001b[0m \u001b[0mplt\u001b[0m\u001b[0;34m.\u001b[0m\u001b[0mplot\u001b[0m\u001b[0;34m(\u001b[0m\u001b[0mX_test\u001b[0m\u001b[0;34m,\u001b[0m \u001b[0my_pred\u001b[0m\u001b[0;34m,\u001b[0m \u001b[0mcolor\u001b[0m\u001b[0;34m=\u001b[0m\u001b[0;34m'blue'\u001b[0m\u001b[0;34m,\u001b[0m \u001b[0mlinewidth\u001b[0m\u001b[0;34m=\u001b[0m\u001b[0;36m3\u001b[0m\u001b[0;34m)\u001b[0m\u001b[0;34m\u001b[0m\u001b[0;34m\u001b[0m\u001b[0m\n",
      "\u001b[0;32m~/anaconda3/lib/python3.7/site-packages/matplotlib/pyplot.py\u001b[0m in \u001b[0;36mscatter\u001b[0;34m(x, y, s, c, marker, cmap, norm, vmin, vmax, alpha, linewidths, verts, edgecolors, plotnonfinite, data, **kwargs)\u001b[0m\n\u001b[1;32m   2839\u001b[0m         \u001b[0mverts\u001b[0m\u001b[0;34m=\u001b[0m\u001b[0mverts\u001b[0m\u001b[0;34m,\u001b[0m \u001b[0medgecolors\u001b[0m\u001b[0;34m=\u001b[0m\u001b[0medgecolors\u001b[0m\u001b[0;34m,\u001b[0m\u001b[0;34m\u001b[0m\u001b[0;34m\u001b[0m\u001b[0m\n\u001b[1;32m   2840\u001b[0m         plotnonfinite=plotnonfinite, **({\"data\": data} if data is not\n\u001b[0;32m-> 2841\u001b[0;31m         None else {}), **kwargs)\n\u001b[0m\u001b[1;32m   2842\u001b[0m     \u001b[0msci\u001b[0m\u001b[0;34m(\u001b[0m\u001b[0m__ret\u001b[0m\u001b[0;34m)\u001b[0m\u001b[0;34m\u001b[0m\u001b[0;34m\u001b[0m\u001b[0m\n\u001b[1;32m   2843\u001b[0m     \u001b[0;32mreturn\u001b[0m \u001b[0m__ret\u001b[0m\u001b[0;34m\u001b[0m\u001b[0;34m\u001b[0m\u001b[0m\n",
      "\u001b[0;32m~/anaconda3/lib/python3.7/site-packages/matplotlib/__init__.py\u001b[0m in \u001b[0;36minner\u001b[0;34m(ax, data, *args, **kwargs)\u001b[0m\n\u001b[1;32m   1587\u001b[0m     \u001b[0;32mdef\u001b[0m \u001b[0minner\u001b[0m\u001b[0;34m(\u001b[0m\u001b[0max\u001b[0m\u001b[0;34m,\u001b[0m \u001b[0;34m*\u001b[0m\u001b[0margs\u001b[0m\u001b[0;34m,\u001b[0m \u001b[0mdata\u001b[0m\u001b[0;34m=\u001b[0m\u001b[0;32mNone\u001b[0m\u001b[0;34m,\u001b[0m \u001b[0;34m**\u001b[0m\u001b[0mkwargs\u001b[0m\u001b[0;34m)\u001b[0m\u001b[0;34m:\u001b[0m\u001b[0;34m\u001b[0m\u001b[0;34m\u001b[0m\u001b[0m\n\u001b[1;32m   1588\u001b[0m         \u001b[0;32mif\u001b[0m \u001b[0mdata\u001b[0m \u001b[0;32mis\u001b[0m \u001b[0;32mNone\u001b[0m\u001b[0;34m:\u001b[0m\u001b[0;34m\u001b[0m\u001b[0;34m\u001b[0m\u001b[0m\n\u001b[0;32m-> 1589\u001b[0;31m             \u001b[0;32mreturn\u001b[0m \u001b[0mfunc\u001b[0m\u001b[0;34m(\u001b[0m\u001b[0max\u001b[0m\u001b[0;34m,\u001b[0m \u001b[0;34m*\u001b[0m\u001b[0mmap\u001b[0m\u001b[0;34m(\u001b[0m\u001b[0msanitize_sequence\u001b[0m\u001b[0;34m,\u001b[0m \u001b[0margs\u001b[0m\u001b[0;34m)\u001b[0m\u001b[0;34m,\u001b[0m \u001b[0;34m**\u001b[0m\u001b[0mkwargs\u001b[0m\u001b[0;34m)\u001b[0m\u001b[0;34m\u001b[0m\u001b[0;34m\u001b[0m\u001b[0m\n\u001b[0m\u001b[1;32m   1590\u001b[0m \u001b[0;34m\u001b[0m\u001b[0m\n\u001b[1;32m   1591\u001b[0m         \u001b[0mbound\u001b[0m \u001b[0;34m=\u001b[0m \u001b[0mnew_sig\u001b[0m\u001b[0;34m.\u001b[0m\u001b[0mbind\u001b[0m\u001b[0;34m(\u001b[0m\u001b[0max\u001b[0m\u001b[0;34m,\u001b[0m \u001b[0;34m*\u001b[0m\u001b[0margs\u001b[0m\u001b[0;34m,\u001b[0m \u001b[0;34m**\u001b[0m\u001b[0mkwargs\u001b[0m\u001b[0;34m)\u001b[0m\u001b[0;34m\u001b[0m\u001b[0;34m\u001b[0m\u001b[0m\n",
      "\u001b[0;32m~/anaconda3/lib/python3.7/site-packages/matplotlib/axes/_axes.py\u001b[0m in \u001b[0;36mscatter\u001b[0;34m(self, x, y, s, c, marker, cmap, norm, vmin, vmax, alpha, linewidths, verts, edgecolors, plotnonfinite, **kwargs)\u001b[0m\n\u001b[1;32m   4434\u001b[0m         \u001b[0my\u001b[0m \u001b[0;34m=\u001b[0m \u001b[0mnp\u001b[0m\u001b[0;34m.\u001b[0m\u001b[0mma\u001b[0m\u001b[0;34m.\u001b[0m\u001b[0mravel\u001b[0m\u001b[0;34m(\u001b[0m\u001b[0my\u001b[0m\u001b[0;34m)\u001b[0m\u001b[0;34m\u001b[0m\u001b[0;34m\u001b[0m\u001b[0m\n\u001b[1;32m   4435\u001b[0m         \u001b[0;32mif\u001b[0m \u001b[0mx\u001b[0m\u001b[0;34m.\u001b[0m\u001b[0msize\u001b[0m \u001b[0;34m!=\u001b[0m \u001b[0my\u001b[0m\u001b[0;34m.\u001b[0m\u001b[0msize\u001b[0m\u001b[0;34m:\u001b[0m\u001b[0;34m\u001b[0m\u001b[0;34m\u001b[0m\u001b[0m\n\u001b[0;32m-> 4436\u001b[0;31m             \u001b[0;32mraise\u001b[0m \u001b[0mValueError\u001b[0m\u001b[0;34m(\u001b[0m\u001b[0;34m\"x and y must be the same size\"\u001b[0m\u001b[0;34m)\u001b[0m\u001b[0;34m\u001b[0m\u001b[0;34m\u001b[0m\u001b[0m\n\u001b[0m\u001b[1;32m   4437\u001b[0m \u001b[0;34m\u001b[0m\u001b[0m\n\u001b[1;32m   4438\u001b[0m         \u001b[0;32mif\u001b[0m \u001b[0ms\u001b[0m \u001b[0;32mis\u001b[0m \u001b[0;32mNone\u001b[0m\u001b[0;34m:\u001b[0m\u001b[0;34m\u001b[0m\u001b[0;34m\u001b[0m\u001b[0m\n",
      "\u001b[0;31mValueError\u001b[0m: x and y must be the same size"
     ]
    },
    {
     "data": {
      "image/png": "[encoded data removed]",
      "text/plain": [
       "<Figure size 432x288 with 1 Axes>"
      ]
     },
     "metadata": {
      "needs_background": "light"
     },
     "output_type": "display_data"
    }
   ],
   "source": [
    "# Fitting the multiple linear regresion to the training set\n",
    "mlr_obj = LinearRegression()\n",
    "mlr_obj.fit(X_train, y_train)\n",
    "\n",
    "\n",
    "num_culmn_raw  = X_train[0,:]\n",
    "\n",
    "# print(\"The weight parameters are:\")\n",
    "\n",
    "# for idx, col_name in enumerate(dataset_test.columns[:len(num_culmn_raw)]):\n",
    "#     print(\"({}) {}: {}\".format(idx, col_name, mlr_obj.coef_[0][idx]))\n",
    "\n",
    "# Predicting on the test set\n",
    "mlr_y_pred = mlr_obj.predict(X_test)\n",
    "print(X_test.size,y_test)\n",
    "plt.scatter(X_test, y_test,  color='black')\n",
    "plt.plot(X_test, y_pred, color='blue', linewidth=3)"
   ]
  },
  {
   "cell_type": "code",
   "execution_count": 32,
   "metadata": {},
   "outputs": [
    {
     "name": "stdout",
     "output_type": "stream",
     "text": [
      "[[ 1.  0.  3. ...  0.  0.  0.]\n",
      " [ 1.  0. 26. ...  0.  0.  0.]\n",
      " [ 1.  1. 15. ...  0.  0.  0.]\n",
      " ...\n",
      " [ 1.  0. 11. ...  0.  0.  0.]\n",
      " [ 1.  0.  6. ...  0.  0.  0.]\n",
      " [ 1.  0. 31. ...  0.  0.  0.]] [[1.]\n",
      " [2.]\n",
      " [5.]\n",
      " ...\n",
      " [2.]\n",
      " [1.]\n",
      " [2.]]\n"
     ]
    },
    {
     "data": {
      "text/plain": [
       "LinearRegression(copy_X=True, fit_intercept=True, n_jobs=None, normalize=False)"
      ]
     },
     "execution_count": 32,
     "metadata": {},
     "output_type": "execute_result"
    }
   ],
   "source": [
    "from sklearn.preprocessing import PolynomialFeatures\n",
    "polyFeatureObj = PolynomialFeatures(degree=2)\n",
    "X_poly = polyFeatureObj.fit_transform(X)\n",
    "prObj = LinearRegression()\n",
    "print(X_poly, y)\n",
    "prObj.fit(X_poly, y)\n",
    "# y_pred_pol = prObj.predict(X_test)\n",
    "# print(\"Mean Square Error:\",metrics.mean_squared_error(y_test, y_pred))"
   ]
  },
  {
   "cell_type": "markdown",
   "metadata": {},
   "source": [
    "# Calculate the Mean Squared Error for the model"
   ]
  },
  {
   "cell_type": "code",
   "execution_count": 7,
   "metadata": {},
   "outputs": [
    {
     "name": "stdout",
     "output_type": "stream",
     "text": [
      "Mean Squared Error for MLR: 0.47544522474519063\n"
     ]
    }
   ],
   "source": [
    "print(\"Mean Squared Error for MLR:\", metrics.mean_squared_error(y_test, mlr_y_pred))"
   ]
  },
  {
   "cell_type": "markdown",
   "metadata": {},
   "source": [
    "# Using backwards elimination to trim the data"
   ]
  },
  {
   "cell_type": "code",
   "execution_count": 8,
   "metadata": {},
   "outputs": [],
   "source": [
    "def backwardElimination(x, sl):\n",
    "    \n",
    "    numVars = len(x[0])\n",
    "    for i in range(0, numVars):\n",
    "        \n",
    "        #print(\"check:\", i)\n",
    "\n",
    "        obj_OLS = sm.OLS(endog = y, exog = x).fit()\n",
    "        maxVar = max(obj_OLS.pvalues).astype(float)\n",
    "        #print(maxVar)\n",
    "\n",
    "        if maxVar > sl:\n",
    "            \n",
    "            for j in range(0, numVars - i):\n",
    "                \n",
    "                if (obj_OLS.pvalues[j].astype(float) == maxVar):\n",
    "                    x = np.delete(x, j, 1)\n",
    "                    dataset_test.drop([dataset_test.columns[j]], axis=1, inplace=True)\n",
    "                    \n",
    "                    \n",
    "    obj_OLS.summary()\n",
    "    return x\n",
    "\n",
    "\n",
    "X = X.astype(float)\n",
    "SL = 0.05\n",
    "X_sig = X[:,:]\n",
    "X_Modeled = backwardElimination(X_sig, SL)"
   ]
  },
  {
   "cell_type": "markdown",
   "metadata": {},
   "source": [
    "# Now run the trimed data with a linear regression model"
   ]
  },
  {
   "cell_type": "code",
   "execution_count": 9,
   "metadata": {
    "scrolled": true
   },
   "outputs": [
    {
     "name": "stdout",
     "output_type": "stream",
     "text": [
      "The weight parameters are:\n",
      "(0) assists: 1.5011462932732282\n",
      "(1) attempted_passes: 0.016844924293924264\n",
      "(2) big_chances_created: -0.5000895114112597\n",
      "(3) big_chances_missed: 0.4741551225398429\n",
      "(4) bonus: 1.1180876821039687\n",
      "(5) bps: 0.16505482991861542\n",
      "(6) clean_sheets: 1.1541801025906255\n",
      "(7) clearances_blocks_interceptions: -0.0687909677887996\n",
      "(8) completed_passes: -0.02693289825104716\n",
      "(9) creativity: 0.03893216867094057\n",
      "(10) dribbles: -0.1392527647977627\n",
      "(11) element: -1.0179219929851158e-05\n",
      "(12) errors_leading_to_goal: 0.19235109448776838\n",
      "(13) errors_leading_to_goal_attempt: 0.13759482435087073\n",
      "(14) fixture: -0.0009037308044712519\n",
      "(15) fouls: 0.14784132583740242\n",
      "(16) goals_conceded: -0.25987357203521944\n",
      "(17) ict_index: 1.538518902372128\n",
      "(18) id: -0.3469950745773519\n",
      "(19) influence: -1.374689186750544e-05\n",
      "(20) key_passes: 0.030856728364621\n",
      "(21) loaned_in: -0.20661378814759723\n",
      "(22) loaned_out: 2.79033046668431e-12\n",
      "(23) minutes: -2.8000241014680682e-12\n",
      "(24) offside: 0.006679555170311633\n",
      "(25) open_play_crosses: 0.10172089056266166\n",
      "(26) opponent_team: -0.1563305045795453\n",
      "(27) own_goals: 0.00015238669893729868\n",
      "(28) penalties_conceded: -1.2618530399028434\n",
      "(29) penalties_missed: 0.35768047298655403\n",
      "(30) penalties_saved: -0.8576605376185663\n",
      "(31) recoveries: 2.443813331634995\n",
      "(32) red_cards: -0.05386673985809868\n",
      "(33) round: -1.4735605348456846\n",
      "(34) saves: 0.016642088644983108\n",
      "(35) selected: -0.08056432850974149\n",
      "(36) tackled: 2.839271716348346e-08\n",
      "(37) tackles: 0.1828595710426628\n",
      "(38) target_missed: -0.33208585872627416\n",
      "(39) team_a_score: 0.13948471629762701\n",
      "(40) team_h_score: 0.006969699483646608\n",
      "(41) threat: 0.004931343675527097\n",
      "(42) total_points: 0.033281597632436044\n",
      "(43) transfers_balance: 6.442860596145294e-07\n",
      "(44) transfers_in: -1.378358692655235e-06\n",
      "(45) value: -0.0036740752959145973\n",
      "(46) was_home: -0.001419646847824866\n",
      "(47) winning_goals: -0.8421809974840515\n",
      "(48) yellow_cards: -0.5014368387502188\n"
     ]
    }
   ],
   "source": [
    "# Split the data\n",
    "X_sig_train, X_sig_test, y_sig_train, y_sig_test = train_test_split(\n",
    "    X_Modeled, y, test_size = 0.3)\n",
    "\n",
    "mlr_bw_obj = LinearRegression()\n",
    "mlr_bw_obj.fit(X_sig_train, y_sig_train)\n",
    "\n",
    "y_sig_pred = mlr_bw_obj.predict(X_sig_test)\n",
    "\n",
    "num_culmn_sig  = X_Modeled[0,:]\n",
    "\n",
    "print(\"The weight parameters are:\")\n",
    "\n",
    "for idx, col_name in enumerate(dataset_test.columns[:len(num_culmn_sig)]):\n",
    "    print(\"({}) {}: {}\".format(idx, col_name, mlr_bw_obj.coef_[0][idx]))\n",
    "\n",
    "#print(\"Mean Squared Error for MLR and Backward Elimination:\", metrics.mean_squared_error(y_sig_test, y_sig_pred))"
   ]
  },
  {
   "cell_type": "markdown",
   "metadata": {},
   "source": [
    "# MLR and Backward Elimination Mean Squared Error"
   ]
  },
  {
   "cell_type": "code",
   "execution_count": 10,
   "metadata": {},
   "outputs": [
    {
     "name": "stdout",
     "output_type": "stream",
     "text": [
      "Mean Squared Error for MLR and Backward Elimination: 0.4670315125039519\n"
     ]
    }
   ],
   "source": [
    "print(\"Mean Squared Error for MLR and Backward Elimination:\", metrics.mean_squared_error(y_sig_test, y_sig_pred))"
   ]
  },
  {
   "cell_type": "markdown",
   "metadata": {},
   "source": [
    "# Examine a Decison Tree regresion"
   ]
  },
  {
   "cell_type": "code",
   "execution_count": 11,
   "metadata": {},
   "outputs": [
    {
     "name": "stdout",
     "output_type": "stream",
     "text": [
      "Mean Squared Error for Decision Tree: 0.4605668188090436\n"
     ]
    }
   ],
   "source": [
    "dtr_obj = DecisionTreeRegressor()\n",
    "dtr_obj.fit(X_train, y_train)\n",
    "\n",
    "dtr_y_pred = dtr_obj.predict(X_test)\n",
    "\n",
    "print(\"Mean Squared Error for Decision Tree:\", metrics.mean_squared_error(y_test, dtr_y_pred))"
   ]
  },
  {
   "cell_type": "markdown",
   "metadata": {},
   "source": [
    "# Examine a Random Forrest model"
   ]
  },
  {
   "cell_type": "code",
   "execution_count": 12,
   "metadata": {},
   "outputs": [
    {
     "name": "stderr",
     "output_type": "stream",
     "text": [
      "/Users/suyash/anaconda3/lib/python3.7/site-packages/ipykernel_launcher.py:9: DataConversionWarning: A column-vector y was passed when a 1d array was expected. Please change the shape of y to (n_samples,), for example using ravel().\n",
      "  if __name__ == '__main__':\n",
      "/Users/suyash/anaconda3/lib/python3.7/site-packages/ipykernel_launcher.py:9: DataConversionWarning: A column-vector y was passed when a 1d array was expected. Please change the shape of y to (n_samples,), for example using ravel().\n",
      "  if __name__ == '__main__':\n",
      "/Users/suyash/anaconda3/lib/python3.7/site-packages/ipykernel_launcher.py:9: DataConversionWarning: A column-vector y was passed when a 1d array was expected. Please change the shape of y to (n_samples,), for example using ravel().\n",
      "  if __name__ == '__main__':\n",
      "/Users/suyash/anaconda3/lib/python3.7/site-packages/ipykernel_launcher.py:9: DataConversionWarning: A column-vector y was passed when a 1d array was expected. Please change the shape of y to (n_samples,), for example using ravel().\n",
      "  if __name__ == '__main__':\n",
      "/Users/suyash/anaconda3/lib/python3.7/site-packages/ipykernel_launcher.py:9: DataConversionWarning: A column-vector y was passed when a 1d array was expected. Please change the shape of y to (n_samples,), for example using ravel().\n",
      "  if __name__ == '__main__':\n",
      "/Users/suyash/anaconda3/lib/python3.7/site-packages/ipykernel_launcher.py:9: DataConversionWarning: A column-vector y was passed when a 1d array was expected. Please change the shape of y to (n_samples,), for example using ravel().\n",
      "  if __name__ == '__main__':\n",
      "/Users/suyash/anaconda3/lib/python3.7/site-packages/ipykernel_launcher.py:9: DataConversionWarning: A column-vector y was passed when a 1d array was expected. Please change the shape of y to (n_samples,), for example using ravel().\n",
      "  if __name__ == '__main__':\n",
      "/Users/suyash/anaconda3/lib/python3.7/site-packages/ipykernel_launcher.py:9: DataConversionWarning: A column-vector y was passed when a 1d array was expected. Please change the shape of y to (n_samples,), for example using ravel().\n",
      "  if __name__ == '__main__':\n",
      "/Users/suyash/anaconda3/lib/python3.7/site-packages/ipykernel_launcher.py:9: DataConversionWarning: A column-vector y was passed when a 1d array was expected. Please change the shape of y to (n_samples,), for example using ravel().\n",
      "  if __name__ == '__main__':\n",
      "/Users/suyash/anaconda3/lib/python3.7/site-packages/ipykernel_launcher.py:9: DataConversionWarning: A column-vector y was passed when a 1d array was expected. Please change the shape of y to (n_samples,), for example using ravel().\n",
      "  if __name__ == '__main__':\n",
      "/Users/suyash/anaconda3/lib/python3.7/site-packages/ipykernel_launcher.py:9: DataConversionWarning: A column-vector y was passed when a 1d array was expected. Please change the shape of y to (n_samples,), for example using ravel().\n",
      "  if __name__ == '__main__':\n",
      "/Users/suyash/anaconda3/lib/python3.7/site-packages/ipykernel_launcher.py:9: DataConversionWarning: A column-vector y was passed when a 1d array was expected. Please change the shape of y to (n_samples,), for example using ravel().\n",
      "  if __name__ == '__main__':\n",
      "/Users/suyash/anaconda3/lib/python3.7/site-packages/ipykernel_launcher.py:9: DataConversionWarning: A column-vector y was passed when a 1d array was expected. Please change the shape of y to (n_samples,), for example using ravel().\n",
      "  if __name__ == '__main__':\n",
      "/Users/suyash/anaconda3/lib/python3.7/site-packages/ipykernel_launcher.py:9: DataConversionWarning: A column-vector y was passed when a 1d array was expected. Please change the shape of y to (n_samples,), for example using ravel().\n",
      "  if __name__ == '__main__':\n",
      "/Users/suyash/anaconda3/lib/python3.7/site-packages/ipykernel_launcher.py:9: DataConversionWarning: A column-vector y was passed when a 1d array was expected. Please change the shape of y to (n_samples,), for example using ravel().\n",
      "  if __name__ == '__main__':\n",
      "/Users/suyash/anaconda3/lib/python3.7/site-packages/ipykernel_launcher.py:9: DataConversionWarning: A column-vector y was passed when a 1d array was expected. Please change the shape of y to (n_samples,), for example using ravel().\n",
      "  if __name__ == '__main__':\n",
      "/Users/suyash/anaconda3/lib/python3.7/site-packages/ipykernel_launcher.py:9: DataConversionWarning: A column-vector y was passed when a 1d array was expected. Please change the shape of y to (n_samples,), for example using ravel().\n",
      "  if __name__ == '__main__':\n",
      "/Users/suyash/anaconda3/lib/python3.7/site-packages/ipykernel_launcher.py:9: DataConversionWarning: A column-vector y was passed when a 1d array was expected. Please change the shape of y to (n_samples,), for example using ravel().\n",
      "  if __name__ == '__main__':\n",
      "/Users/suyash/anaconda3/lib/python3.7/site-packages/ipykernel_launcher.py:9: DataConversionWarning: A column-vector y was passed when a 1d array was expected. Please change the shape of y to (n_samples,), for example using ravel().\n",
      "  if __name__ == '__main__':\n",
      "/Users/suyash/anaconda3/lib/python3.7/site-packages/ipykernel_launcher.py:9: DataConversionWarning: A column-vector y was passed when a 1d array was expected. Please change the shape of y to (n_samples,), for example using ravel().\n",
      "  if __name__ == '__main__':\n",
      "/Users/suyash/anaconda3/lib/python3.7/site-packages/ipykernel_launcher.py:9: DataConversionWarning: A column-vector y was passed when a 1d array was expected. Please change the shape of y to (n_samples,), for example using ravel().\n",
      "  if __name__ == '__main__':\n",
      "/Users/suyash/anaconda3/lib/python3.7/site-packages/ipykernel_launcher.py:9: DataConversionWarning: A column-vector y was passed when a 1d array was expected. Please change the shape of y to (n_samples,), for example using ravel().\n",
      "  if __name__ == '__main__':\n",
      "/Users/suyash/anaconda3/lib/python3.7/site-packages/ipykernel_launcher.py:9: DataConversionWarning: A column-vector y was passed when a 1d array was expected. Please change the shape of y to (n_samples,), for example using ravel().\n",
      "  if __name__ == '__main__':\n",
      "/Users/suyash/anaconda3/lib/python3.7/site-packages/ipykernel_launcher.py:9: DataConversionWarning: A column-vector y was passed when a 1d array was expected. Please change the shape of y to (n_samples,), for example using ravel().\n",
      "  if __name__ == '__main__':\n",
      "/Users/suyash/anaconda3/lib/python3.7/site-packages/ipykernel_launcher.py:9: DataConversionWarning: A column-vector y was passed when a 1d array was expected. Please change the shape of y to (n_samples,), for example using ravel().\n",
      "  if __name__ == '__main__':\n",
      "/Users/suyash/anaconda3/lib/python3.7/site-packages/ipykernel_launcher.py:9: DataConversionWarning: A column-vector y was passed when a 1d array was expected. Please change the shape of y to (n_samples,), for example using ravel().\n",
      "  if __name__ == '__main__':\n",
      "/Users/suyash/anaconda3/lib/python3.7/site-packages/ipykernel_launcher.py:9: DataConversionWarning: A column-vector y was passed when a 1d array was expected. Please change the shape of y to (n_samples,), for example using ravel().\n",
      "  if __name__ == '__main__':\n",
      "/Users/suyash/anaconda3/lib/python3.7/site-packages/ipykernel_launcher.py:9: DataConversionWarning: A column-vector y was passed when a 1d array was expected. Please change the shape of y to (n_samples,), for example using ravel().\n",
      "  if __name__ == '__main__':\n",
      "/Users/suyash/anaconda3/lib/python3.7/site-packages/ipykernel_launcher.py:9: DataConversionWarning: A column-vector y was passed when a 1d array was expected. Please change the shape of y to (n_samples,), for example using ravel().\n",
      "  if __name__ == '__main__':\n",
      "/Users/suyash/anaconda3/lib/python3.7/site-packages/ipykernel_launcher.py:9: DataConversionWarning: A column-vector y was passed when a 1d array was expected. Please change the shape of y to (n_samples,), for example using ravel().\n",
      "  if __name__ == '__main__':\n"
     ]
    },
    {
     "name": "stdout",
     "output_type": "stream",
     "text": [
      "Lowest testing error = 0.21604428404627957\n",
      "Associated number of trees (n_estimator) = 50\n"
     ]
    }
   ],
   "source": [
    "num_tree = []\n",
    "msqe = []\n",
    "\n",
    "for n in range (10, 301, 10):\n",
    "    \n",
    "    num_tree.append(n)\n",
    "    \n",
    "    randf_obj = RandomForestRegressor(n_estimators=n)\n",
    "    randf_obj.fit(X_train, y_train)\n",
    "    \n",
    "    randf_y_pred = randf_obj.predict(X_test)\n",
    "    \n",
    "    mean_sqr_eror = metrics.mean_squared_error(y_test, \n",
    "                                               randf_y_pred)\n",
    "    \n",
    "    # print(mean_sqr_eror)\n",
    "    \n",
    "    msqe.append(mean_sqr_eror)\n",
    "    \n",
    "print('Lowest testing error =', min(msqe))\n",
    "print('Associated number of trees (n_estimator) =', \n",
    "      num_tree[msqe.index(min(msqe))])"
   ]
  },
  {
   "cell_type": "code",
   "execution_count": 13,
   "metadata": {},
   "outputs": [
    {
     "name": "stdout",
     "output_type": "stream",
     "text": [
      "Lowest testing error = 0.21604428404627957\n",
      "Associated number of trees (n_estimator) = 50\n"
     ]
    }
   ],
   "source": [
    "print('Lowest testing error =', min(msqe))\n",
    "print('Associated number of trees (n_estimator) =', \n",
    "      num_tree[msqe.index(min(msqe))])"
   ]
  },
  {
   "cell_type": "markdown",
   "metadata": {},
   "source": [
    "# PCA model examination"
   ]
  },
  {
   "cell_type": "code",
   "execution_count": 14,
   "metadata": {},
   "outputs": [
    {
     "name": "stdout",
     "output_type": "stream",
     "text": [
      "Lowest testing error = 0.475418157642694\n",
      "Associated number of components (n_components) = 46\n"
     ]
    }
   ],
   "source": [
    "num_tree_pca = []\n",
    "pca_error = []\n",
    "\n",
    "for n in range(1, len(num_culmn_raw)):\n",
    "    num_tree_pca.append(n)\n",
    "    \n",
    "    pca_obj = PCA(n_components=n)\n",
    "    X_PCA_train = pca_obj.fit_transform(X_train)\n",
    "    X_PCA_test = pca_obj.transform(X_test)\n",
    "    components_variance = pca_obj.explained_variance_ratio_\n",
    "\n",
    "    # Fit a linear regression to the training set\n",
    "    mlr_pca_obj = LinearRegression()\n",
    "    mlr_pca_obj.fit(X_PCA_train, y_train)\n",
    "\n",
    "    y_mlr_pca_pred = mlr_pca_obj.predict(X_PCA_test)\n",
    "    \n",
    "    pca_error.append(metrics.mean_squared_error(y_test, y_mlr_pca_pred))\n",
    "    \n",
    "    #print(n)\n",
    "    #print(metrics.mean_squared_error(y_test, y_mlr_pca_pred))\n",
    "    \n",
    "print('Lowest testing error =', min(pca_error))\n",
    "print('Associated number of components (n_components) =', \n",
    "      num_tree_pca[pca_error.index(min(pca_error))])"
   ]
  },
  {
   "cell_type": "markdown",
   "metadata": {},
   "source": [
    "# K-Fold Tests"
   ]
  },
  {
   "cell_type": "code",
   "execution_count": 15,
   "metadata": {
    "scrolled": true
   },
   "outputs": [
    {
     "name": "stdout",
     "output_type": "stream",
     "text": [
      "MLR Mean: -3.1942301554667674e+17\n",
      "MLR Standard Deviation: 9.582690466400301e+17\n",
      "\n",
      "MLR/Backward Elimination Mean: -3.1942301554667674e+17\n",
      "MLR/Backward Elimination Deviation: 9.582690466400301e+17\n",
      "\n",
      "Decission Tree Mean: 0.9486520927859553\n",
      "Decission Tree Deviation: 0.004316587537908581\n",
      "\n"
     ]
    },
    {
     "name": "stderr",
     "output_type": "stream",
     "text": [
      "/Users/suyash/anaconda3/lib/python3.7/site-packages/sklearn/model_selection/_validation.py:514: DataConversionWarning: A column-vector y was passed when a 1d array was expected. Please change the shape of y to (n_samples,), for example using ravel().\n",
      "  estimator.fit(X_train, y_train, **fit_params)\n",
      "/Users/suyash/anaconda3/lib/python3.7/site-packages/sklearn/model_selection/_validation.py:514: DataConversionWarning: A column-vector y was passed when a 1d array was expected. Please change the shape of y to (n_samples,), for example using ravel().\n",
      "  estimator.fit(X_train, y_train, **fit_params)\n",
      "/Users/suyash/anaconda3/lib/python3.7/site-packages/sklearn/model_selection/_validation.py:514: DataConversionWarning: A column-vector y was passed when a 1d array was expected. Please change the shape of y to (n_samples,), for example using ravel().\n",
      "  estimator.fit(X_train, y_train, **fit_params)\n",
      "/Users/suyash/anaconda3/lib/python3.7/site-packages/sklearn/model_selection/_validation.py:514: DataConversionWarning: A column-vector y was passed when a 1d array was expected. Please change the shape of y to (n_samples,), for example using ravel().\n",
      "  estimator.fit(X_train, y_train, **fit_params)\n",
      "/Users/suyash/anaconda3/lib/python3.7/site-packages/sklearn/model_selection/_validation.py:514: DataConversionWarning: A column-vector y was passed when a 1d array was expected. Please change the shape of y to (n_samples,), for example using ravel().\n",
      "  estimator.fit(X_train, y_train, **fit_params)\n",
      "/Users/suyash/anaconda3/lib/python3.7/site-packages/sklearn/model_selection/_validation.py:514: DataConversionWarning: A column-vector y was passed when a 1d array was expected. Please change the shape of y to (n_samples,), for example using ravel().\n",
      "  estimator.fit(X_train, y_train, **fit_params)\n",
      "/Users/suyash/anaconda3/lib/python3.7/site-packages/sklearn/model_selection/_validation.py:514: DataConversionWarning: A column-vector y was passed when a 1d array was expected. Please change the shape of y to (n_samples,), for example using ravel().\n",
      "  estimator.fit(X_train, y_train, **fit_params)\n",
      "/Users/suyash/anaconda3/lib/python3.7/site-packages/sklearn/model_selection/_validation.py:514: DataConversionWarning: A column-vector y was passed when a 1d array was expected. Please change the shape of y to (n_samples,), for example using ravel().\n",
      "  estimator.fit(X_train, y_train, **fit_params)\n",
      "/Users/suyash/anaconda3/lib/python3.7/site-packages/sklearn/model_selection/_validation.py:514: DataConversionWarning: A column-vector y was passed when a 1d array was expected. Please change the shape of y to (n_samples,), for example using ravel().\n",
      "  estimator.fit(X_train, y_train, **fit_params)\n",
      "/Users/suyash/anaconda3/lib/python3.7/site-packages/sklearn/model_selection/_validation.py:514: DataConversionWarning: A column-vector y was passed when a 1d array was expected. Please change the shape of y to (n_samples,), for example using ravel().\n",
      "  estimator.fit(X_train, y_train, **fit_params)\n"
     ]
    },
    {
     "name": "stdout",
     "output_type": "stream",
     "text": [
      "Random Forest Mean: 0.9742435770230042\n",
      "Random Forest Standard Deviation: 0.0032764066725015214\n",
      "\n",
      "MLR/PCA Mean: 0.9475317315488306\n",
      "MLR/PCA Standard Deviation: 0.0013744882569620349\n"
     ]
    }
   ],
   "source": [
    "# Multiple Linear Regression Raw\n",
    "modelAccuracies = cross_val_score(estimator=mlr_obj, X=X_train, y=y_train, cv=10)\n",
    "print(\"MLR Mean:\", modelAccuracies.mean())\n",
    "print(\"MLR Standard Deviation:\", modelAccuracies.std())\n",
    "\n",
    "print()\n",
    "\n",
    "# Multilinear Regression with Backward Elimination\n",
    "modelAccuracies = cross_val_score(estimator=mlr_bw_obj, X=X_train, y=y_train, cv=10)\n",
    "print(\"MLR/Backward Elimination Mean:\", modelAccuracies.mean())\n",
    "print(\"MLR/Backward Elimination Deviation:\", modelAccuracies.std())\n",
    "\n",
    "print()\n",
    "\n",
    "# Decision Tree Model\n",
    "modelAccuracies = cross_val_score(estimator=dtr_obj, X=X_train, y=y_train, cv=10)\n",
    "print(\"Decission Tree Mean:\", modelAccuracies.mean())\n",
    "print(\"Decission Tree Deviation:\", modelAccuracies.std())\n",
    "\n",
    "print()\n",
    "\n",
    "# Random Forest Model\n",
    "randf_obj = RandomForestRegressor(n_estimators=num_tree[msqe.index(min(msqe))])\n",
    "modelAccuracies = cross_val_score(estimator=randf_obj, X=X_train, y=y_train, cv=10)\n",
    "print(\"Random Forest Mean:\", modelAccuracies.mean())\n",
    "print(\"Random Forest Standard Deviation:\", modelAccuracies.std())\n",
    "\n",
    "print()\n",
    "\n",
    "# PCA Model\n",
    "modelAccuracies = cross_val_score(estimator=mlr_pca_obj, X=X_train, y=y_train, cv=5)\n",
    "print(\"MLR/PCA Mean:\", modelAccuracies.mean())\n",
    "print(\"MLR/PCA Standard Deviation:\", modelAccuracies.std())"
   ]
  }
 ],
 "metadata": {
  "kernelspec": {
   "display_name": "Python 3",
   "language": "python",
   "name": "python3"
  },
  "language_info": {
   "codemirror_mode": {
    "name": "ipython",
    "version": 3
   },
   "file_extension": ".py",
   "mimetype": "text/x-python",
   "name": "python",
   "nbconvert_exporter": "python",
   "pygments_lexer": "ipython3",
   "version": "3.7.3"
  }
 },
 "nbformat": 4,
 "nbformat_minor": 2
}
