{
 "cells": [
  {
   "cell_type": "markdown",
   "metadata": {},
   "source": [
    "Load and preparer the data. Remove dates from dataset for modeling"
   ]
  },
  {
   "cell_type": "code",
   "execution_count": 1,
   "metadata": {},
   "outputs": [
    {
     "name": "stdout",
     "output_type": "stream",
     "text": [
      "31402\n",
      "31402 31402\n"
     ]
    },
    {
     "name": "stderr",
     "output_type": "stream",
     "text": [
      "/Users/suyash/anaconda3/lib/python3.7/site-packages/IPython/core/interactiveshell.py:3057: DtypeWarning: Columns (12,30,52) have mixed types. Specify dtype option on import or set low_memory=False.\n",
      "  interactivity=interactivity, compiler=compiler, result=result)\n"
     ]
    }
   ],
   "source": [
    "# Import important libraries\n",
    "import numpy as np\n",
    "import matplotlib.pyplot as plt\n",
    "import pandas as pd\n",
    "\n",
    "# Load the dataset\n",
    "dataset = pd.read_csv('complete_gws.csv', encoding=\"ISO-8859-1\")\n",
    "\n",
    "#drop date columns\n",
    "dataset.drop([\"name\",\"kickoff_time\",'kickoff_time_formatted'], axis=1,inplace=True )\n",
    "dataset=dataset.iloc[:67936,:]\n",
    "dataset=dataset[dataset.minutes!=0]\n",
    "print(len(dataset))\n",
    "\n",
    "#set target y as goal_scored and X as every other column\n",
    "X = dataset.iloc[:67936,dataset.columns != 'goals_scored'].values\n",
    "y = dataset.iloc[:67936,dataset.columns == 'goals_scored'].values\n",
    "print(len(X),len(y))"
   ]
  },
  {
   "cell_type": "markdown",
   "metadata": {},
   "source": [
    "Split train and test data"
   ]
  },
  {
   "cell_type": "code",
   "execution_count": 6,
   "metadata": {},
   "outputs": [
    {
     "name": "stdout",
     "output_type": "stream",
     "text": [
      "[0 1 2 3 4] 21981 21981\n"
     ]
    }
   ],
   "source": [
    "from sklearn.model_selection import train_test_split\n",
    "\n",
    "# Splitting the data into training and testing set\n",
    "X_train, X_test, y_train, y_test = train_test_split(X,y,test_size=0.3)\n",
    "print(np.unique(y_test),len(X_train),len(y_train))"
   ]
  },
  {
   "cell_type": "markdown",
   "metadata": {},
   "source": [
    "Try linear regression"
   ]
  },
  {
   "cell_type": "code",
   "execution_count": 7,
   "metadata": {},
   "outputs": [
    {
     "name": "stdout",
     "output_type": "stream",
     "text": [
      "Max of weight: 0.23532728197244165\n",
      "( 0 ) assists:  -0.36747115056793406\n",
      "( 1 ) attempted_passes:  0.001236556013347603\n",
      "( 2 ) big_chances_created:  -0.053650476982465764\n",
      "( 3 ) big_chances_missed:  0.012877747495468553\n",
      "( 4 ) bonus:  -0.01374289971531339\n",
      "( 5 ) bps:  0.010900931777279136\n",
      "( 6 ) clean_sheets:  -0.10985399594378775\n",
      "( 7 ) clearances_blocks_interceptions:  -0.03645039755456004\n",
      "( 8 ) completed_passes:  -0.004180799453708394\n",
      "( 9 ) creativity:  -0.0035750010511857444\n",
      "( 10 ) dribbles:  -0.02529536547558099\n",
      "( 11 ) ea_index:  -8.847186871996371e-12\n",
      "( 12 ) element:  -1.6395848702346894e-05\n",
      "( 13 ) errors_leading_to_goal:  0.11806772862686703\n",
      "( 14 ) errors_leading_to_goal_attempt:  0.04918982311701947\n",
      "( 15 ) fixture:  0.0001734343760593179\n",
      "( 16 ) fouls:  0.028024652406316256\n",
      "( 17 ) goals_conceded:  0.004505295824436505\n",
      "( 19 ) ict_index:  2.1502143910693758e-05\n",
      "( 20 ) id:  0.010000564334357054\n",
      "( 21 ) influence:  -0.0684684427357714\n",
      "( 22 ) key_passes:  -3.6828179394987615e-15\n",
      "( 23 ) loaned_in:  2.0877397033380873e-15\n",
      "( 24 ) loaned_out:  -0.0010449422945063847\n",
      "( 25 ) minutes:  0.020625317501561425\n",
      "( 26 ) offside:  -0.05111190488313082\n",
      "( 27 ) open_play_crosses:  -9.40802656572993e-05\n",
      "( 28 ) opponent_team:  0.2215899347219482\n",
      "( 29 ) own_goals:  0.11891414463635865\n",
      "( 30 ) penalties_conceded:  0.1194750610645746\n",
      "( 31 ) penalties_missed:  -0.6377661550832874\n",
      "( 32 ) penalties_saved:  -0.0029289255726648554\n",
      "( 33 ) recoveries:  0.23532728197244165\n",
      "( 34 ) red_cards:  -0.01447303811046636\n",
      "( 35 ) round:  -0.12990335609960543\n",
      "( 36 ) saves:  -1.6271266035927656e-08\n",
      "( 37 ) selected:  0.015331610270999286\n",
      "( 38 ) tackled:  -0.04531562224611487\n",
      "( 39 ) tackles:  0.0461578832526751\n",
      "( 40 ) target_missed:  0.006076330381630687\n",
      "( 41 ) team_a_score:  0.005680143952851635\n",
      "( 42 ) team_h_score:  -0.005597288933898093\n",
      "( 43 ) threat:  0.024709003179452037\n",
      "( 44 ) total_points:  -2.5150637563559064e-07\n",
      "( 45 ) transfers_balance:  2.651703432249297e-07\n",
      "( 46 ) transfers_in:  -2.2860446283884395e-07\n",
      "( 47 ) transfers_out:  0.0006289326385536245\n",
      "( 48 ) value:  -0.0017328950776028319\n",
      "( 49 ) was_home:  0.11123796058786545\n",
      "( 50 ) winning_goals:  0.07191838915544602\n",
      "Mean Square Error: 0.007949960394536328\n"
     ]
    }
   ],
   "source": [
    "# Fitting Multiple linear regression to training set\n",
    "from sklearn.linear_model import LinearRegression\n",
    "\n",
    "mlrObj = LinearRegression()\n",
    "mlrObj.fit(X_train,y_train)\n",
    "\n",
    "#Predicting on the Test Set\n",
    "y_pred = mlrObj.predict(X_test)\n",
    "\n",
    "\n",
    "print(\"Max of weight:\",max(mlrObj.coef_[0]))\n",
    "\"The weights of the parameters are:\"\n",
    "for idx, col_name in enumerate(dataset.columns[:18]):\n",
    "    print(\"( {} ) {}:  {}\".format(idx,col_name, mlrObj.coef_[0][idx]))\n",
    "    \n",
    "for idx, col_name in enumerate(dataset.columns[19:-1]):\n",
    "    print(\"( {} ) {}:  {}\".format((dataset.columns).get_loc(col_name),col_name, mlrObj.coef_[0][(dataset.columns).get_loc(col_name)]))\n",
    "# Calculate the error\n",
    "\n",
    "from sklearn import metrics\n",
    "\n",
    "print(\"Mean Square Error:\",metrics.mean_squared_error(y_test, y_pred))"
   ]
  },
  {
   "cell_type": "code",
   "execution_count": 10,
   "metadata": {},
   "outputs": [
    {
     "name": "stdout",
     "output_type": "stream",
     "text": [
      "[0 1 2 3 4] 21981 21981\n"
     ]
    },
    {
     "ename": "ValueError",
     "evalue": "x and y must be the same size",
     "output_type": "error",
     "traceback": [
      "\u001b[0;31m---------------------------------------------------------------------------\u001b[0m",
      "\u001b[0;31mValueError\u001b[0m                                Traceback (most recent call last)",
      "\u001b[0;32m<ipython-input-10-030f127e597c>\u001b[0m in \u001b[0;36m<module>\u001b[0;34m\u001b[0m\n\u001b[1;32m      1\u001b[0m \u001b[0mprint\u001b[0m\u001b[0;34m(\u001b[0m\u001b[0mnp\u001b[0m\u001b[0;34m.\u001b[0m\u001b[0munique\u001b[0m\u001b[0;34m(\u001b[0m\u001b[0my_test\u001b[0m\u001b[0;34m)\u001b[0m\u001b[0;34m,\u001b[0m\u001b[0mlen\u001b[0m\u001b[0;34m(\u001b[0m\u001b[0mX_train\u001b[0m\u001b[0;34m)\u001b[0m\u001b[0;34m,\u001b[0m\u001b[0mlen\u001b[0m\u001b[0;34m(\u001b[0m\u001b[0my_train\u001b[0m\u001b[0;34m)\u001b[0m\u001b[0;34m)\u001b[0m\u001b[0;34m\u001b[0m\u001b[0;34m\u001b[0m\u001b[0m\n\u001b[0;32m----> 2\u001b[0;31m \u001b[0mplt\u001b[0m\u001b[0;34m.\u001b[0m\u001b[0mscatter\u001b[0m\u001b[0;34m(\u001b[0m\u001b[0mX_train\u001b[0m\u001b[0;34m,\u001b[0m\u001b[0my_train\u001b[0m\u001b[0;34m,\u001b[0m\u001b[0mcolor\u001b[0m\u001b[0;34m=\u001b[0m\u001b[0;34m'red'\u001b[0m\u001b[0;34m)\u001b[0m\u001b[0;34m\u001b[0m\u001b[0;34m\u001b[0m\u001b[0m\n\u001b[0m\u001b[1;32m      3\u001b[0m \u001b[0mplt\u001b[0m\u001b[0;34m.\u001b[0m\u001b[0mplot\u001b[0m\u001b[0;34m(\u001b[0m\u001b[0mX_train\u001b[0m \u001b[0;34m,\u001b[0m \u001b[0mlrObj\u001b[0m\u001b[0;34m.\u001b[0m\u001b[0mpredict\u001b[0m \u001b[0;34m(\u001b[0m\u001b[0mX_train\u001b[0m \u001b[0;34m)\u001b[0m\u001b[0;34m,\u001b[0m \u001b[0mcolor\u001b[0m\u001b[0;34m=\u001b[0m\u001b[0;34m'blue'\u001b[0m\u001b[0;34m)\u001b[0m\u001b[0;34m\u001b[0m\u001b[0;34m\u001b[0m\u001b[0m\n\u001b[1;32m      4\u001b[0m \u001b[0mplt\u001b[0m\u001b[0;34m.\u001b[0m\u001b[0mtitle\u001b[0m\u001b[0;34m(\u001b[0m\u001b[0;34m'List Price vs Best Price on Training'\u001b[0m\u001b[0;34m)\u001b[0m\u001b[0;34m\u001b[0m\u001b[0;34m\u001b[0m\u001b[0m\n\u001b[1;32m      5\u001b[0m \u001b[0mplt\u001b[0m\u001b[0;34m.\u001b[0m\u001b[0mxlabel\u001b[0m\u001b[0;34m(\u001b[0m\u001b[0;34m'List'\u001b[0m\u001b[0;34m)\u001b[0m\u001b[0;34m\u001b[0m\u001b[0;34m\u001b[0m\u001b[0m\n",
      "\u001b[0;32m~/anaconda3/lib/python3.7/site-packages/matplotlib/pyplot.py\u001b[0m in \u001b[0;36mscatter\u001b[0;34m(x, y, s, c, marker, cmap, norm, vmin, vmax, alpha, linewidths, verts, edgecolors, plotnonfinite, data, **kwargs)\u001b[0m\n\u001b[1;32m   2839\u001b[0m         \u001b[0mverts\u001b[0m\u001b[0;34m=\u001b[0m\u001b[0mverts\u001b[0m\u001b[0;34m,\u001b[0m \u001b[0medgecolors\u001b[0m\u001b[0;34m=\u001b[0m\u001b[0medgecolors\u001b[0m\u001b[0;34m,\u001b[0m\u001b[0;34m\u001b[0m\u001b[0;34m\u001b[0m\u001b[0m\n\u001b[1;32m   2840\u001b[0m         plotnonfinite=plotnonfinite, **({\"data\": data} if data is not\n\u001b[0;32m-> 2841\u001b[0;31m         None else {}), **kwargs)\n\u001b[0m\u001b[1;32m   2842\u001b[0m     \u001b[0msci\u001b[0m\u001b[0;34m(\u001b[0m\u001b[0m__ret\u001b[0m\u001b[0;34m)\u001b[0m\u001b[0;34m\u001b[0m\u001b[0;34m\u001b[0m\u001b[0m\n\u001b[1;32m   2843\u001b[0m     \u001b[0;32mreturn\u001b[0m \u001b[0m__ret\u001b[0m\u001b[0;34m\u001b[0m\u001b[0;34m\u001b[0m\u001b[0m\n",
      "\u001b[0;32m~/anaconda3/lib/python3.7/site-packages/matplotlib/__init__.py\u001b[0m in \u001b[0;36minner\u001b[0;34m(ax, data, *args, **kwargs)\u001b[0m\n\u001b[1;32m   1587\u001b[0m     \u001b[0;32mdef\u001b[0m \u001b[0minner\u001b[0m\u001b[0;34m(\u001b[0m\u001b[0max\u001b[0m\u001b[0;34m,\u001b[0m \u001b[0;34m*\u001b[0m\u001b[0margs\u001b[0m\u001b[0;34m,\u001b[0m \u001b[0mdata\u001b[0m\u001b[0;34m=\u001b[0m\u001b[0;32mNone\u001b[0m\u001b[0;34m,\u001b[0m \u001b[0;34m**\u001b[0m\u001b[0mkwargs\u001b[0m\u001b[0;34m)\u001b[0m\u001b[0;34m:\u001b[0m\u001b[0;34m\u001b[0m\u001b[0;34m\u001b[0m\u001b[0m\n\u001b[1;32m   1588\u001b[0m         \u001b[0;32mif\u001b[0m \u001b[0mdata\u001b[0m \u001b[0;32mis\u001b[0m \u001b[0;32mNone\u001b[0m\u001b[0;34m:\u001b[0m\u001b[0;34m\u001b[0m\u001b[0;34m\u001b[0m\u001b[0m\n\u001b[0;32m-> 1589\u001b[0;31m             \u001b[0;32mreturn\u001b[0m \u001b[0mfunc\u001b[0m\u001b[0;34m(\u001b[0m\u001b[0max\u001b[0m\u001b[0;34m,\u001b[0m \u001b[0;34m*\u001b[0m\u001b[0mmap\u001b[0m\u001b[0;34m(\u001b[0m\u001b[0msanitize_sequence\u001b[0m\u001b[0;34m,\u001b[0m \u001b[0margs\u001b[0m\u001b[0;34m)\u001b[0m\u001b[0;34m,\u001b[0m \u001b[0;34m**\u001b[0m\u001b[0mkwargs\u001b[0m\u001b[0;34m)\u001b[0m\u001b[0;34m\u001b[0m\u001b[0;34m\u001b[0m\u001b[0m\n\u001b[0m\u001b[1;32m   1590\u001b[0m \u001b[0;34m\u001b[0m\u001b[0m\n\u001b[1;32m   1591\u001b[0m         \u001b[0mbound\u001b[0m \u001b[0;34m=\u001b[0m \u001b[0mnew_sig\u001b[0m\u001b[0;34m.\u001b[0m\u001b[0mbind\u001b[0m\u001b[0;34m(\u001b[0m\u001b[0max\u001b[0m\u001b[0;34m,\u001b[0m \u001b[0;34m*\u001b[0m\u001b[0margs\u001b[0m\u001b[0;34m,\u001b[0m \u001b[0;34m**\u001b[0m\u001b[0mkwargs\u001b[0m\u001b[0;34m)\u001b[0m\u001b[0;34m\u001b[0m\u001b[0;34m\u001b[0m\u001b[0m\n",
      "\u001b[0;32m~/anaconda3/lib/python3.7/site-packages/matplotlib/axes/_axes.py\u001b[0m in \u001b[0;36mscatter\u001b[0;34m(self, x, y, s, c, marker, cmap, norm, vmin, vmax, alpha, linewidths, verts, edgecolors, plotnonfinite, **kwargs)\u001b[0m\n\u001b[1;32m   4434\u001b[0m         \u001b[0my\u001b[0m \u001b[0;34m=\u001b[0m \u001b[0mnp\u001b[0m\u001b[0;34m.\u001b[0m\u001b[0mma\u001b[0m\u001b[0;34m.\u001b[0m\u001b[0mravel\u001b[0m\u001b[0;34m(\u001b[0m\u001b[0my\u001b[0m\u001b[0;34m)\u001b[0m\u001b[0;34m\u001b[0m\u001b[0;34m\u001b[0m\u001b[0m\n\u001b[1;32m   4435\u001b[0m         \u001b[0;32mif\u001b[0m \u001b[0mx\u001b[0m\u001b[0;34m.\u001b[0m\u001b[0msize\u001b[0m \u001b[0;34m!=\u001b[0m \u001b[0my\u001b[0m\u001b[0;34m.\u001b[0m\u001b[0msize\u001b[0m\u001b[0;34m:\u001b[0m\u001b[0;34m\u001b[0m\u001b[0;34m\u001b[0m\u001b[0m\n\u001b[0;32m-> 4436\u001b[0;31m             \u001b[0;32mraise\u001b[0m \u001b[0mValueError\u001b[0m\u001b[0;34m(\u001b[0m\u001b[0;34m\"x and y must be the same size\"\u001b[0m\u001b[0;34m)\u001b[0m\u001b[0;34m\u001b[0m\u001b[0;34m\u001b[0m\u001b[0m\n\u001b[0m\u001b[1;32m   4437\u001b[0m \u001b[0;34m\u001b[0m\u001b[0m\n\u001b[1;32m   4438\u001b[0m         \u001b[0;32mif\u001b[0m \u001b[0ms\u001b[0m \u001b[0;32mis\u001b[0m \u001b[0;32mNone\u001b[0m\u001b[0;34m:\u001b[0m\u001b[0;34m\u001b[0m\u001b[0;34m\u001b[0m\u001b[0m\n",
      "\u001b[0;31mValueError\u001b[0m: x and y must be the same size"
     ]
    },
    {
     "data": {
      "image/png": "[encoded data removed]",
      "text/plain": [
       "<Figure size 432x288 with 1 Axes>"
      ]
     },
     "metadata": {
      "needs_background": "light"
     },
     "output_type": "display_data"
    }
   ],
   "source": [
    "print(np.unique(y_test),len(X_train),len(y_train))\n",
    "plt.scatter(X_train,y_train,color='red')\n",
    "plt.plot(X_train , lrObj.predict (X_train ), color='blue')\n",
    "plt.title('List Price vs Best Price on Training')\n",
    "plt.xlabel('List')\n",
    "plt.ylabel('Best')\n",
    "plt.show()"
   ]
  },
  {
   "cell_type": "markdown",
   "metadata": {},
   "source": [
    "Logistic Regression"
   ]
  },
  {
   "cell_type": "code",
   "execution_count": 4,
   "metadata": {},
   "outputs": [
    {
     "name": "stderr",
     "output_type": "stream",
     "text": [
      "/Users/suyash/anaconda3/lib/python3.7/site-packages/sklearn/linear_model/logistic.py:432: FutureWarning: Default solver will be changed to 'lbfgs' in 0.22. Specify a solver to silence this warning.\n",
      "  FutureWarning)\n",
      "/Users/suyash/anaconda3/lib/python3.7/site-packages/sklearn/utils/validation.py:724: DataConversionWarning: A column-vector y was passed when a 1d array was expected. Please change the shape of y to (n_samples, ), for example using ravel().\n",
      "  y = column_or_1d(y, warn=True)\n",
      "/Users/suyash/anaconda3/lib/python3.7/site-packages/sklearn/linear_model/logistic.py:469: FutureWarning: Default multi_class will be changed to 'auto' in 0.22. Specify the multi_class option to silence this warning.\n",
      "  \"this warning.\", FutureWarning)\n"
     ]
    },
    {
     "name": "stdout",
     "output_type": "stream",
     "text": [
      "[[4635  500  584 1640 1257]\n",
      " [   0  503  132   47   26]\n",
      " [   0   70   13    0    0]\n",
      " [   0    9    3    0    0]\n",
      " [   0    2    0    0    0]]\n",
      "0.5467572444538796\n"
     ]
    },
    {
     "name": "stderr",
     "output_type": "stream",
     "text": [
      "/Users/suyash/anaconda3/lib/python3.7/site-packages/sklearn/svm/base.py:929: ConvergenceWarning: Liblinear failed to converge, increase the number of iterations.\n",
      "  \"the number of iterations.\", ConvergenceWarning)\n"
     ]
    }
   ],
   "source": [
    "#Fitting Logistic Regression to Training Set\n",
    "from sklearn.linear_model import LogisticRegression\n",
    "classifierObj = LogisticRegression(random_state=0)\n",
    "classifierObj.fit(X_train, y_train)\n",
    "\n",
    "#Normalizing the features\n",
    "from sklearn.preprocessing import StandardScaler\n",
    "sc_X = StandardScaler()\n",
    "X_train = sc_X.fit_transform(X_train)\n",
    "X_test = sc_X.transform(X_test)\n",
    "\n",
    "# Make a prediction\n",
    "y_pred = classifierObj.predict(X_test)\n",
    "\n",
    "# Find the misclassification rate\n",
    "from sklearn import metrics\n",
    "from sklearn.metrics import confusion_matrix\n",
    "\n",
    "cm = confusion_matrix(y_test,y_pred)\n",
    "\n",
    "print(cm)\n",
    "\n",
    "print(classifierObj.score(X_test,y_test))"
   ]
  },
  {
   "cell_type": "code",
   "execution_count": 5,
   "metadata": {},
   "outputs": [
    {
     "name": "stderr",
     "output_type": "stream",
     "text": [
      "'c' argument looks like a single numeric RGB or RGBA sequence, which should be avoided as value-mapping will have precedence in case its length matches with 'x' & 'y'.  Please use a 2-D array with a single row if you really want to specify the same RGB or RGBA value for all points.\n",
      "'c' argument looks like a single numeric RGB or RGBA sequence, which should be avoided as value-mapping will have precedence in case its length matches with 'x' & 'y'.  Please use a 2-D array with a single row if you really want to specify the same RGB or RGBA value for all points.\n",
      "'c' argument looks like a single numeric RGB or RGBA sequence, which should be avoided as value-mapping will have precedence in case its length matches with 'x' & 'y'.  Please use a 2-D array with a single row if you really want to specify the same RGB or RGBA value for all points.\n",
      "'c' argument looks like a single numeric RGB or RGBA sequence, which should be avoided as value-mapping will have precedence in case its length matches with 'x' & 'y'.  Please use a 2-D array with a single row if you really want to specify the same RGB or RGBA value for all points.\n",
      "'c' argument looks like a single numeric RGB or RGBA sequence, which should be avoided as value-mapping will have precedence in case its length matches with 'x' & 'y'.  Please use a 2-D array with a single row if you really want to specify the same RGB or RGBA value for all points.\n"
     ]
    },
    {
     "data": {
      "image/png": "[encoded data removed]",
      "text/plain": [
       "<Figure size 432x288 with 1 Axes>"
      ]
     },
     "metadata": {
      "needs_background": "light"
     },
     "output_type": "display_data"
    }
   ],
   "source": [
    "from sklearn.decomposition import PCA\n",
    "from matplotlib.colors import ListedColormap\n",
    "pcaObj = PCA(n_components=2)\n",
    "X_set1, y_set1 = X_train, y_train\n",
    "X_set1 = pcaObj.fit_transform(X_set1)\n",
    "X_test_2n = pcaObj.transform(X_test)\n",
    "components_variance = pcaObj.explained_variance_ratio_\n",
    "\n",
    "\n",
    "for i, j in enumerate(np.unique(y_set1)):\n",
    "    plt.scatter(X_set1[(y_set1 == j).flatten(), 0], X_set1[(y_set1 == j).flatten(), 1],\n",
    "                c = ListedColormap(('red', 'green','blue','yellow','black'))(i), label = j)    \n",
    "\n",
    "plt.title('Dataset based on class label after PCA')\n",
    "plt.xlabel('Column 1')\n",
    "plt.ylabel('Column 2')\n",
    "plt.legend()\n",
    "plt.show()"
   ]
  },
  {
   "cell_type": "code",
   "execution_count": 6,
   "metadata": {},
   "outputs": [
    {
     "name": "stdout",
     "output_type": "stream",
     "text": [
      "The accuracy is: 0.9196475957966246\n"
     ]
    },
    {
     "name": "stderr",
     "output_type": "stream",
     "text": [
      "/Users/suyash/anaconda3/lib/python3.7/site-packages/sklearn/linear_model/logistic.py:432: FutureWarning: Default solver will be changed to 'lbfgs' in 0.22. Specify a solver to silence this warning.\n",
      "  FutureWarning)\n",
      "/Users/suyash/anaconda3/lib/python3.7/site-packages/sklearn/utils/validation.py:724: DataConversionWarning: A column-vector y was passed when a 1d array was expected. Please change the shape of y to (n_samples, ), for example using ravel().\n",
      "  y = column_or_1d(y, warn=True)\n",
      "/Users/suyash/anaconda3/lib/python3.7/site-packages/sklearn/linear_model/logistic.py:469: FutureWarning: Default multi_class will be changed to 'auto' in 0.22. Specify the multi_class option to silence this warning.\n",
      "  \"this warning.\", FutureWarning)\n"
     ]
    }
   ],
   "source": [
    "from sklearn.linear_model import LogisticRegression\n",
    "classifierObj2 = LogisticRegression(random_state=0)\n",
    "classifierObj2.fit(X_set1, y_set1)\n",
    "\n",
    "log_accuracy=classifierObj2.score(X_test_2n,y_test)\n",
    "print(\"The accuracy is:\",log_accuracy)"
   ]
  },
  {
   "cell_type": "code",
   "execution_count": 7,
   "metadata": {},
   "outputs": [
    {
     "name": "stderr",
     "output_type": "stream",
     "text": [
      "'c' argument looks like a single numeric RGB or RGBA sequence, which should be avoided as value-mapping will have precedence in case its length matches with 'x' & 'y'.  Please use a 2-D array with a single row if you really want to specify the same RGB or RGBA value for all points.\n",
      "'c' argument looks like a single numeric RGB or RGBA sequence, which should be avoided as value-mapping will have precedence in case its length matches with 'x' & 'y'.  Please use a 2-D array with a single row if you really want to specify the same RGB or RGBA value for all points.\n",
      "'c' argument looks like a single numeric RGB or RGBA sequence, which should be avoided as value-mapping will have precedence in case its length matches with 'x' & 'y'.  Please use a 2-D array with a single row if you really want to specify the same RGB or RGBA value for all points.\n",
      "'c' argument looks like a single numeric RGB or RGBA sequence, which should be avoided as value-mapping will have precedence in case its length matches with 'x' & 'y'.  Please use a 2-D array with a single row if you really want to specify the same RGB or RGBA value for all points.\n",
      "'c' argument looks like a single numeric RGB or RGBA sequence, which should be avoided as value-mapping will have precedence in case its length matches with 'x' & 'y'.  Please use a 2-D array with a single row if you really want to specify the same RGB or RGBA value for all points.\n"
     ]
    },
    {
     "data": {
      "image/png": "[encoded data removed]",
      "text/plain": [
       "<Figure size 432x288 with 1 Axes>"
      ]
     },
     "metadata": {
      "needs_background": "light"
     },
     "output_type": "display_data"
    }
   ],
   "source": [
    "from sklearn.decomposition import PCA\n",
    "pcaObj = PCA(n_components=1)\n",
    "X_set2, y_set2 = X_train, y_train\n",
    "X_set2 = pcaObj.fit_transform(X_set2)\n",
    "X_test_1n = pcaObj.transform(X_test)\n",
    "components_variance = pcaObj.explained_variance_ratio_\n",
    "\n",
    "for i, j in enumerate(np.unique(y_set2)):\n",
    "    plt.scatter(X_set2[y_set2 == j],y_set2[y_set2 == j],\n",
    "                c = ListedColormap(np.array([\"red\", \"green\"]))(i), label = j)\n",
    "plt.title('Dataset based on class label after 1 componentPCA')\n",
    "plt.xlabel('Selected Column')\n",
    "plt.ylabel('Class')\n",
    "plt.legend()\n",
    "plt.show()"
   ]
  },
  {
   "cell_type": "code",
   "execution_count": 8,
   "metadata": {},
   "outputs": [
    {
     "name": "stdout",
     "output_type": "stream",
     "text": [
      "The accuracy is: 0.9197537416410148\n"
     ]
    },
    {
     "name": "stderr",
     "output_type": "stream",
     "text": [
      "/Users/suyash/anaconda3/lib/python3.7/site-packages/sklearn/linear_model/logistic.py:432: FutureWarning: Default solver will be changed to 'lbfgs' in 0.22. Specify a solver to silence this warning.\n",
      "  FutureWarning)\n",
      "/Users/suyash/anaconda3/lib/python3.7/site-packages/sklearn/utils/validation.py:724: DataConversionWarning: A column-vector y was passed when a 1d array was expected. Please change the shape of y to (n_samples, ), for example using ravel().\n",
      "  y = column_or_1d(y, warn=True)\n",
      "/Users/suyash/anaconda3/lib/python3.7/site-packages/sklearn/linear_model/logistic.py:469: FutureWarning: Default multi_class will be changed to 'auto' in 0.22. Specify the multi_class option to silence this warning.\n",
      "  \"this warning.\", FutureWarning)\n"
     ]
    }
   ],
   "source": [
    "from sklearn.linear_model import LogisticRegression\n",
    "classifierObj3 = LogisticRegression(random_state=0)\n",
    "classifierObj3.fit(X_set2, y_set2)\n",
    "\n",
    "log_accuracy=classifierObj3.score(X_test_1n,y_test)\n",
    "print(\"The accuracy is:\",log_accuracy)"
   ]
  },
  {
   "cell_type": "code",
   "execution_count": 9,
   "metadata": {},
   "outputs": [],
   "source": [
    "# from sklearn.decomposition import KernelPCA\n",
    "# kernelPCAObj = KernelPCA(n_components=3, kernel='rbf')\n",
    "# X_set4, y_set4 = X_train, y_train\n",
    "# X_set4 = kernelPCAObj.fit_transform(X_set4)\n",
    "# X_test_kpca = kernelPCAObj.transform(X_test)\n",
    "\n",
    "# X1, X2 = np.meshgrid(np.arange(start = X_set4[:, 0].min() - 1, stop = X_set4[:, 0].max() + 1, step = 0.01),\n",
    "#                      np.arange(start = X_set4[:, 1].min() - 1, stop = X_set4[:, 1].max() + 1, step = 0.01))\n",
    "\n",
    "# plt.xlim(X1.min(), X1.max())\n",
    "# plt.ylim(X2.min(), X2.max())\n",
    "# for i, j in enumerate(np.unique(y_set4)):\n",
    "#     plt.scatter(X_set4[y_set4 == j, 0], X_set4[y_set4 == j, 1],\n",
    "#                 c = ListedColormap(('red', 'green'))(i), label = j)    \n",
    "\n",
    "# plt.title('Dataset based on class label after KernalPCA')\n",
    "# plt.xlabel('Column 1')\n",
    "# plt.ylabel('Column 2')\n",
    "# plt.legend()\n",
    "# plt.show()"
   ]
  },
  {
   "cell_type": "code",
   "execution_count": 10,
   "metadata": {},
   "outputs": [
    {
     "name": "stdout",
     "output_type": "stream",
     "text": [
      "Index(['assists', 'attempted_passes', 'big_chances_created',\n",
      "       'big_chances_missed', 'bonus', 'bps', 'clean_sheets',\n",
      "       'clearances_blocks_interceptions', 'completed_passes', 'creativity',\n",
      "       'dribbles', 'ea_index', 'element', 'errors_leading_to_goal',\n",
      "       'errors_leading_to_goal_attempt', 'fixture', 'fouls', 'goals_conceded',\n",
      "       'goals_scored', 'ict_index', 'id', 'influence', 'key_passes',\n",
      "       'loaned_in', 'loaned_out', 'minutes', 'offside', 'open_play_crosses',\n",
      "       'opponent_team', 'own_goals', 'penalties_conceded', 'penalties_missed',\n",
      "       'penalties_saved', 'recoveries', 'red_cards', 'round', 'saves',\n",
      "       'selected', 'tackled', 'tackles', 'target_missed', 'team_a_score',\n",
      "       'team_h_score', 'threat', 'total_points', 'transfers_balance',\n",
      "       'transfers_in', 'transfers_out', 'value', 'was_home', 'winning_goals',\n",
      "       'yellow_cards'],\n",
      "      dtype='object')\n"
     ]
    }
   ],
   "source": [
    "print(dataset.columns)"
   ]
  },
  {
   "cell_type": "markdown",
   "metadata": {},
   "source": [
    "Data analysis"
   ]
  },
  {
   "cell_type": "code",
   "execution_count": 11,
   "metadata": {},
   "outputs": [
    {
     "name": "stdout",
     "output_type": "stream",
     "text": [
      "total_points\n",
      "-4.0         2\n",
      "-3.0        14\n",
      "-2.0        78\n",
      "-1.0       231\n",
      " 0.0      1498\n",
      " 1.0     10247\n",
      " 2.0      8915\n",
      " 3.0      2476\n",
      " 4.0       560\n",
      " 5.0      1154\n",
      " 6.0      2415\n",
      " 7.0      1006\n",
      " 8.0       855\n",
      " 9.0       591\n",
      " 10.0      336\n",
      " 11.0      277\n",
      " 12.0      215\n",
      " 13.0      186\n",
      " 14.0       96\n",
      " 15.0      125\n",
      " 16.0       56\n",
      " 17.0       24\n",
      " 18.0       15\n",
      " 19.0        9\n",
      " 20.0        6\n",
      " 21.0       11\n",
      " 23.0        2\n",
      " 24.0        1\n",
      " 29.0        1\n",
      "Name: element, dtype: int64\n"
     ]
    },
    {
     "data": {
      "text/plain": [
       "array([[<matplotlib.axes._subplots.AxesSubplot object at 0x1224e5dd8>]],\n",
       "      dtype=object)"
      ]
     },
     "execution_count": 11,
     "metadata": {},
     "output_type": "execute_result"
    },
    {
     "data": {
      "image/png": "[encoded data removed]",
      "text/plain": [
       "<Figure size 432x288 with 1 Axes>"
      ]
     },
     "metadata": {
      "needs_background": "light"
     },
     "output_type": "display_data"
    },
    {
     "data": {
      "image/png": "[encoded data removed]",
      "text/plain": [
       "<Figure size 432x288 with 1 Axes>"
      ]
     },
     "metadata": {
      "needs_background": "light"
     },
     "output_type": "display_data"
    }
   ],
   "source": [
    "\n",
    "#group by total points to see what is the most frequently scored points\n",
    "by_total=dataset.groupby('total_points')\n",
    "ids_grouped_by_total_points=by_total.count().element\n",
    "\n",
    "print(ids_grouped_by_total_points)\n",
    "\n",
    "#plot everything exept 0 to get a better view\n",
    "ids_grouped_by_total_points[ids_grouped_by_total_points<38030].plot(kind='bar')\n",
    "\n",
    "#group by players to get the sum of total_points per player\n",
    "\n",
    "by_ids=dataset.groupby('element')\n",
    "total_points_grouped_by_ids=by_ids['total_points'].sum().reset_index(name ='Total')\n",
    "\n",
    "#again group by total to see the spread of player with total total_points\n",
    "group_by_total_points=total_points_grouped_by_ids.groupby('Total').count().element\n",
    "total_points_grouped_by_ids.hist(column='Total')"
   ]
  }
 ],
 "metadata": {
  "kernelspec": {
   "display_name": "Python 3",
   "language": "python",
   "name": "python3"
  },
  "language_info": {
   "codemirror_mode": {
    "name": "ipython",
    "version": 3
   },
   "file_extension": ".py",
   "mimetype": "text/x-python",
   "name": "python",
   "nbconvert_exporter": "python",
   "pygments_lexer": "ipython3",
   "version": "3.7.3"
  }
 },
 "nbformat": 4,
 "nbformat_minor": 2
}
