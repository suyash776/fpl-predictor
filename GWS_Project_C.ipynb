{
 "cells": [
  {
   "cell_type": "markdown",
   "metadata": {},
   "source": [
    "Import the libraries that will be used throughout the examination of the data"
   ]
  },
  {
   "cell_type": "code",
   "execution_count": 16,
   "metadata": {},
   "outputs": [],
   "source": [
    "# Importing important Libraries used by all\n",
    "import numpy as np\n",
    "import matplotlib.pyplot as plt\n",
    "import pandas as pd\n",
    "\n",
    "# Import library for split and train\n",
    "from sklearn.model_selection import train_test_split\n",
    "\n",
    "# Import for linear Regression\n",
    "from sklearn.linear_model import LinearRegression\n",
    "\n",
    "# Import for PCA\n",
    "from sklearn.decomposition import PCA\n",
    "\n",
    "# Import for Random Forest\n",
    "from sklearn.ensemble import RandomForestRegressor\n",
    "\n",
    "# Import for Decision Tree Reg\n",
    "from sklearn.tree import DecisionTreeRegressor\n",
    "\n",
    "# Import for K-Fold\n",
    "from sklearn.svm import SVC\n",
    "\n",
    "# K-Fold cross validation\n",
    "from sklearn.model_selection import cross_val_score\n",
    "\n",
    "# Import for normalizing\n",
    "from sklearn.preprocessing import StandardScaler\n",
    "\n",
    "# Import for finding the error of the model\n",
    "from sklearn import metrics\n",
    "\n",
    "# Import for Polynomial Regression\n",
    "from sklearn.preprocessing import PolynomialFeatures\n",
    "\n",
    "#Backward Elimination\n",
    "import statsmodels.api as sm\n",
    "\n",
    "#K-Fold Cross Validation\n",
    "from sklearn.model_selection import cross_val_score"
   ]
  },
  {
   "cell_type": "markdown",
   "metadata": {},
   "source": [
    "Load in the premier league data set and clean it up so it can be examined"
   ]
  },
  {
   "cell_type": "code",
   "execution_count": 33,
   "metadata": {},
   "outputs": [
    {
     "name": "stdout",
     "output_type": "stream",
     "text": [
      "(72784, 55)\n"
     ]
    }
   ],
   "source": [
    "# Loading in the data set being used\n",
    "dataset = pd.read_csv('complete_gws.csv', encoding=\"ISO-8859-1\")\n",
    "\n",
    "print(dataset.shape)\n",
    "# Clean up the data\n",
    "# DROP VALUES:\n",
    "dataset.drop([\"name\", \"kickoff_time\", \"kickoff_time_formatted\"]\n",
    "            , axis=1, inplace=True)\n",
    "\n",
    "# Remove bad instances located near bottom of set\n",
    "dataset=dataset.iloc[:67936,:]\n",
    "\n",
    "# Remove all players with minutes = 0\n",
    "dataset = dataset[dataset.minutes!=0]\n",
    "\n",
    "# Set the target y as goal_scored and x as remaining columns\n",
    "X = dataset.iloc[:,dataset.columns != \"goals_scored\"].values\n",
    "y = dataset.iloc[:,dataset.columns == \"goals_scored\"].values.flatten()\n"
   ]
  },
  {
   "cell_type": "markdown",
   "metadata": {},
   "source": [
    "Split for train(.70) and test(.30) data"
   ]
  },
  {
   "cell_type": "code",
   "execution_count": 34,
   "metadata": {},
   "outputs": [
    {
     "name": "stdout",
     "output_type": "stream",
     "text": [
      "[0 1 2 3 4] 21981 21981 [0 3 0 0 0.0 6 0 1 2 0.3 0.0 0 142 0 0 3 0 0 0.9 142 8.2 0 0 0 15 0 0 17\n",
      " 0.0 0.0 0.0 0.0 1.0 0.0 1.0 0.0 13918.0 1.0 2.0 0.0 1.0 1.0 0.0 1.0 0.0\n",
      " 0.0 0.0 60.0 True 0.0 0.0] 0\n"
     ]
    }
   ],
   "source": [
    "# Splitting the data into training and testing set\n",
    "X_train, X_test, y_train, y_test = train_test_split(X,y,test_size=0.3)\n",
    "\n",
    "print(np.unique(y_test), len(X_train), len(y_train),X[0],y[0])"
   ]
  },
  {
   "cell_type": "markdown",
   "metadata": {},
   "source": [
    "Lets examine the data before setting it to the different models selected"
   ]
  },
  {
   "cell_type": "code",
   "execution_count": 35,
   "metadata": {},
   "outputs": [
    {
     "name": "stdout",
     "output_type": "stream",
     "text": [
      "[20055  1717   189    17     3]\n"
     ]
    },
    {
     "data": {
      "text/plain": [
       "<BarContainer object of 5 artists>"
      ]
     },
     "execution_count": 35,
     "metadata": {},
     "output_type": "execute_result"
    },
    {
     "data": {
      "image/png": "[encoded data removed]",
      "text/plain": [
       "<Figure size 432x288 with 1 Axes>"
      ]
     },
     "metadata": {
      "needs_background": "light"
     },
     "output_type": "display_data"
    }
   ],
   "source": [
    "total_goals = np.unique(y_train, return_counts=True)\n",
    "\n",
    "print(total_goals[1])\n",
    "plt.bar(total_goals[0],total_goals[1])"
   ]
  },
  {
   "cell_type": "markdown",
   "metadata": {},
   "source": [
    "Normalizing the data to make sure no one variable pulls to much on the prediction. (Do We Need to Normalize)"
   ]
  },
  {
   "cell_type": "code",
   "execution_count": 36,
   "metadata": {},
   "outputs": [],
   "source": [
    "# Normalizing the features\n",
    "sc_X = StandardScaler()\n",
    "X_train = sc_X.fit_transform(X_train)\n",
    "X_test = sc_X.transform(X_test)"
   ]
  },
  {
   "cell_type": "markdown",
   "metadata": {},
   "source": [
    "Fitting the data to a Multiple Linear Regression Model"
   ]
  },
  {
   "cell_type": "code",
   "execution_count": 44,
   "metadata": {},
   "outputs": [
    {
     "name": "stdout",
     "output_type": "stream",
     "text": [
      "The weight parameters are:\n",
      "(0) assists: -0.1141715686336776\n",
      "(1) attempted_passes: 0.03606970068899537\n",
      "(2) big_chances_created: -0.017335632090511935\n",
      "(3) big_chances_missed: 0.003973182160641471\n",
      "(4) bonus: -0.011791005823273915\n",
      "(5) bps: 0.11747166623446664\n",
      "(6) clean_sheets: -0.04871384641888769\n",
      "(7) clearances_blocks_interceptions: -0.1256885074350298\n",
      "(8) completed_passes: -0.09124202340649773\n",
      "(9) creativity: -0.06065770333379739\n",
      "(10) dribbles: -0.02990006542662177\n",
      "(11) ea_index: -35327477977.06735\n",
      "(12) element: -0.0013670931111485212\n",
      "(13) errors_leading_to_goal: 0.013160101741255283\n",
      "(14) errors_leading_to_goal_attempt: 0.006677371438231584\n",
      "(15) fixture: 0.010819629460143428\n",
      "(16) fouls: 0.02533604716630753\n",
      "(17) goals_conceded: 0.002142934699828479\n",
      "(18) goals_scored: 0.24133434292909728\n",
      "(19) ict_index: 0.14493862401299626\n",
      "(20) id: 0.14070364883629938\n",
      "(21) influence: -0.07237140217185975\n",
      "(22) key_passes: 39455790135.18276\n",
      "(23) loaned_in: -3716035077.1950183\n",
      "(24) loaned_out: -0.026766870983075144\n",
      "(25) minutes: 0.010668560204411068\n",
      "(26) offside: -0.028155365277651445\n",
      "(27) open_play_crosses: -0.0008029027525572677\n",
      "(28) opponent_team: 0.011914098479344454\n",
      "(29) own_goals: 0.011175610673676532\n",
      "(30) penalties_conceded: 0.005444461565704146\n",
      "(31) penalties_missed: -0.025672506513054742\n",
      "(32) penalties_saved: -0.011146742644548265\n",
      "(33) recoveries: 0.01630730328003392\n",
      "(34) red_cards: -0.1569812943891325\n",
      "(35) round: -0.12093491286189037\n",
      "(36) saves: -0.006002041467814141\n",
      "(37) selected: 0.024412341877334515\n",
      "(38) tackled: -0.04519324836169943\n",
      "(39) tackles: 0.030638392725175587\n",
      "(40) target_missed: 0.009255820565439013\n",
      "(41) team_a_score: 0.009362211446985957\n",
      "(42) team_h_score: -0.11187167734899708\n",
      "(43) threat: 0.07722701873915236\n",
      "(44) total_points: -481914970076.46747\n",
      "(45) transfers_balance: 456864426065.7847\n",
      "(46) transfers_in: -284144415424.20105\n",
      "(47) transfers_out: 0.007485994730449686\n",
      "(48) value: 5.7746634088941956e-05\n",
      "(49) was_home: 0.016903039741266185\n",
      "(50) winning_goals: 0.024026247394647145\n"
     ]
    }
   ],
   "source": [
    "# Fitting the multiple linear regresion to the training set\n",
    "mlr_obj = LinearRegression()\n",
    "mlr_obj.fit(X_train, y_train)\n",
    "\n",
    "num_culmn_raw  = X_train[0,:]\n",
    "\n",
    "print(\"The weight parameters are:\")\n",
    "\n",
    "for idx, col_name in enumerate(dataset.columns[:len(num_culmn_raw)]):\n",
    "    print(\"({}) {}: {}\".format(idx, col_name, mlr_obj.coef_[idx]))\n",
    "\n",
    "# Predicting on the test set\n",
    "mlr_y_pred = mlr_obj.predict(X_test)\n"
   ]
  },
  {
   "cell_type": "markdown",
   "metadata": {},
   "source": [
    "Calculate the Mean Squared Error for the model"
   ]
  },
  {
   "cell_type": "code",
   "execution_count": 45,
   "metadata": {},
   "outputs": [
    {
     "name": "stdout",
     "output_type": "stream",
     "text": [
      "Mean Squared Error for MLR: 5.8327551879546984e+16\n"
     ]
    }
   ],
   "source": [
    "print(\"Mean Squared Error for MLR:\", metrics.mean_squared_error(y_test, mlr_y_pred))"
   ]
  },
  {
   "cell_type": "markdown",
   "metadata": {},
   "source": [
    "Using backwards elimination to trim the data"
   ]
  },
  {
   "cell_type": "code",
   "execution_count": 40,
   "metadata": {},
   "outputs": [
    {
     "name": "stdout",
     "output_type": "stream",
     "text": [
      "51\n",
      "47 51\n"
     ]
    }
   ],
   "source": [
    "def backwardElimination(x, sl):\n",
    "    numVars = len(x[0])\n",
    "    for i in range(0, numVars):\n",
    "        obj_OLS = sm.OLS(endog = y, exog = x).fit()\n",
    "        maxVar = max(obj_OLS.pvalues).astype(float)\n",
    "        if maxVar > sl:\n",
    "            for j in range(0, numVars - i):\n",
    "                if (obj_OLS.pvalues[j].astype(float) == maxVar):\n",
    "                    x = np.delete(x, j, 1)\n",
    "    obj_OLS.summary()\n",
    "    return x\n",
    "\n",
    "X = X.astype(float)\n",
    "SL = 0.05\n",
    "X_sig = X[:,:]\n",
    "X_Modeled = backwardElimination(X_sig, SL)\n",
    "\n",
    "print(len(X_sig[0]))\n",
    "\n",
    "print(len(X_Modeled[0]),len(X[0]))\n"
   ]
  },
  {
   "cell_type": "markdown",
   "metadata": {},
   "source": [
    "Now run the trimed data with a linear regression model"
   ]
  },
  {
   "cell_type": "code",
   "execution_count": 42,
   "metadata": {},
   "outputs": [
    {
     "name": "stdout",
     "output_type": "stream",
     "text": [
      "The weight parameters are:\n",
      "(0) assists: -0.3624153876716124\n",
      "(1) attempted_passes: 0.001317931997693756\n",
      "(2) big_chances_created: -0.05255430858848696\n",
      "(3) big_chances_missed: 0.014421165823631028\n",
      "(4) bonus: -0.013563235071732887\n",
      "(5) bps: 0.010916695673273207\n",
      "(6) clean_sheets: -0.1148734638886579\n",
      "(7) clearances_blocks_interceptions: -0.03675928190961181\n",
      "(8) completed_passes: -0.004272153534932417\n",
      "(9) creativity: -0.0037235939968530973\n",
      "(10) dribbles: -0.024954942436540135\n",
      "(11) ea_index: 5.0192273948201915e-11\n",
      "(12) element: -1.8914499374382614e-05\n",
      "(13) errors_leading_to_goal: 0.12476926973376505\n",
      "(14) errors_leading_to_goal_attempt: 0.04818944542581423\n",
      "(15) fixture: 0.00013293795173212686\n",
      "(16) fouls: 0.027645528853397553\n",
      "(17) goals_conceded: 0.0037220640639775418\n",
      "(18) goals_scored: 0.06582683819587584\n",
      "(19) ict_index: 2.3017377760032246e-05\n",
      "(20) id: 0.009363166572434148\n",
      "(21) influence: -0.0738239973850301\n",
      "(22) key_passes: 2.0816681711721685e-16\n",
      "(23) loaned_in: 8.326672684688674e-17\n",
      "(24) loaned_out: -0.0010625777497218572\n",
      "(25) minutes: 0.021486569686177792\n",
      "(26) offside: -0.05256995617928943\n",
      "(27) open_play_crosses: -7.925543418619554e-05\n",
      "(28) opponent_team: 0.21176279927412406\n",
      "(29) own_goals: 0.11724083235219795\n",
      "(30) penalties_conceded: 0.10942707068712601\n",
      "(31) penalties_missed: -0.6378044926218681\n",
      "(32) penalties_saved: -0.003069570412822381\n",
      "(33) recoveries: 0.24217061514670274\n",
      "(34) red_cards: -0.014968629329861165\n",
      "(35) round: -0.13144449828484456\n",
      "(36) saves: -3.346548988851647e-09\n",
      "(37) selected: 0.015928488157780543\n",
      "(38) tackled: -0.045031673689085554\n",
      "(39) tackles: 0.04774896732932061\n",
      "(40) target_missed: 0.006433988717606093\n",
      "(41) team_a_score: 0.005619454872784217\n",
      "(42) team_h_score: -0.005987225970795304\n",
      "(43) threat: 0.025475579857653873\n",
      "(44) total_points: -0.0031346362673222946\n",
      "(45) transfers_balance: 0.10329065557116454\n",
      "(46) transfers_in: 0.07524552645203142\n",
      "Mean Squared Error for MLR: 0.007703134462482002\n"
     ]
    }
   ],
   "source": [
    "# Split the data\n",
    "X_sig_train, X_sig_test, y_sig_train, y_sig_test = train_test_split(\n",
    "    X_Modeled, y, test_size = 0.3)\n",
    "\n",
    "mlr_bw_obj = LinearRegression()\n",
    "mlr_bw_obj.fit(X_sig_train, y_sig_train)\n",
    "\n",
    "y_sig_pred = mlr_bw_obj.predict(X_sig_test)\n",
    "\n",
    "num_culmn  = X_Modeled[0,:]\n",
    "\n",
    "print(\"The weight parameters are:\")\n",
    "\n",
    "for idx, col_name in enumerate(dataset.columns[:len(num_culmn)]):\n",
    "    print(\"({}) {}: {}\".format(idx, col_name, mlr_bw_obj.coef_[idx]))\n",
    "\n",
    "print(\"Mean Squared Error for MLR:\", metrics.mean_squared_error(y_sig_test, y_sig_pred))"
   ]
  },
  {
   "cell_type": "markdown",
   "metadata": {},
   "source": [
    "Examine a Decison Tree regresion"
   ]
  },
  {
   "cell_type": "code",
   "execution_count": 49,
   "metadata": {},
   "outputs": [
    {
     "name": "stdout",
     "output_type": "stream",
     "text": [
      "Mean Squared Error for Decision Tree: 0.005201146375119414\n",
      "Mean Squared Error for Decision Tree: 0.22142023139794076\n"
     ]
    }
   ],
   "source": [
    "dtr_obj = DecisionTreeRegressor()\n",
    "dtr_obj.fit(X_train, y_train)\n",
    "\n",
    "dtr_y_pred = dtr_obj.predict(X_test)\n",
    "\n",
    "print(\"Mean Squared Error for Decision Tree:\", metrics.mean_squared_error(y_test, dtr_y_pred))\n",
    "\n",
    "dtr_obj2 = DecisionTreeRegressor()\n",
    "dtr_obj2.fit(X_sig_train, y_sig_train)\n",
    "dtr_y_pred2 = dtr_obj2.predict(X_sig_test)\n",
    "print(\"Mean Squared Error for Decision Tree:\", metrics.mean_squared_error(y_test, dtr_y_pred2))\n"
   ]
  },
  {
   "cell_type": "markdown",
   "metadata": {},
   "source": [
    "Examine a Random Forrest model"
   ]
  },
  {
   "cell_type": "code",
   "execution_count": 46,
   "metadata": {},
   "outputs": [
    {
     "name": "stdout",
     "output_type": "stream",
     "text": [
      "0.0024565721968651593\n"
     ]
    }
   ],
   "source": [
    "randf_obj = RandomForestRegressor(n_estimators=300)\n",
    "randf_obj.fit(X_train,y_train)\n",
    "\n",
    "randf_y_pred = randf_obj.predict(X_test)\n",
    "\n",
    "print(metrics.mean_squared_error(y_test, randf_y_pred))"
   ]
  },
  {
   "cell_type": "code",
   "execution_count": null,
   "metadata": {},
   "outputs": [],
   "source": [
    "num_tree = []\n",
    "msqe = []\n",
    "\n",
    "for n in range (10, 301, 10):\n",
    "    \n",
    "    num_tree.append(n)\n",
    "    \n",
    "    randf_obj = RandomForestRegressor(n_estimators=n)\n",
    "    randf_obj.fit(X_train, y_train)\n",
    "    \n",
    "    randf_y_pred = randf_obj.predict(X_test)\n",
    "    \n",
    "    mean_sqr_eror = metrics.mean_squared_error(y_test, \n",
    "                                               randf_y_pred)\n",
    "    \n",
    "    # print(mean_sqr_eror)\n",
    "    \n",
    "    msqe.append(mean_sqr_eror)\n",
    "    \n",
    "print('Lowest testing error =', min(msqe))\n",
    "print('Associated number of trees (n_estimator) =', \n",
    "      num_tree[msqe.index(min(msqe))])"
   ]
  },
  {
   "cell_type": "code",
   "execution_count": null,
   "metadata": {},
   "outputs": [],
   "source": [
    "print('Lowest testing error =', min(msqe))\n",
    "print('Associated number of trees (n_estimator) =', \n",
    "      num_tree[msqe.index(min(msqe))])"
   ]
  },
  {
   "cell_type": "markdown",
   "metadata": {},
   "source": [
    "K-Fold Tests"
   ]
  },
  {
   "cell_type": "code",
   "execution_count": null,
   "metadata": {
    "scrolled": true
   },
   "outputs": [],
   "source": [
    "modelAccuracies = cross_val_score(estimator=randf_obj, X=X_train, y=y_train, cv=10)\n",
    "print(modelAccuracies.mean())\n",
    "print(modelAccuracies.std())"
   ]
  },
  {
   "cell_type": "code",
   "execution_count": null,
   "metadata": {},
   "outputs": [],
   "source": [
    "num_tree_pca = []\n",
    "pca_error = []\n",
    "for n in range(1, len(num_culmn_raw)):\n",
    "    num_tree_pca.append(n)\n",
    "    pca_obj = PCA(n_components=n)\n",
    "    X_PCA_train = pca_obj.fit_transform(X_train)\n",
    "    X_PCA_test = pca_obj.transform(X_test)\n",
    "    components_variance = pca_obj.explained_variance_ratio_\n",
    "    # Fit a linear regression to the training set\n",
    "    mlr_pca_obj = LinearRegression()\n",
    "    mlr_pca_obj.fit(X_PCA_train, y_train)\n",
    "    y_mlr_pca_pred = mlr_pca_obj.predict(X_PCA_test)\n",
    "    pca_error.append(metrics.mean_squared_error(y_test, y_mlr_pca_pred))\n",
    "    #print(n)\n",
    "    #print(metrics.mean_squared_error(y_test, y_mlr_pca_pred))\n",
    "print('Lowest testing error =', min(pca_error))\n",
    "print('Associated number of trees (n_estimator) =', \n",
    "      num_tree_pca[pca_error.index(min(pca_error))])"
   ]
  }
 ],
 "metadata": {
  "kernelspec": {
   "display_name": "Python 3",
   "language": "python",
   "name": "python3"
  },
  "language_info": {
   "codemirror_mode": {
    "name": "ipython",
    "version": 3
   },
   "file_extension": ".py",
   "mimetype": "text/x-python",
   "name": "python",
   "nbconvert_exporter": "python",
   "pygments_lexer": "ipython3",
   "version": "3.7.3"
  }
 },
 "nbformat": 4,
 "nbformat_minor": 2
}
