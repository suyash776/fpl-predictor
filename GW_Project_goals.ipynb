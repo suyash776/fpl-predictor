{
 "cells": [
  {
   "cell_type": "markdown",
   "metadata": {},
   "source": [
    "Load and preparer the data. Remove dates from dataset for modeling"
   ]
  },
  {
   "cell_type": "code",
   "execution_count": 1,
   "metadata": {},
   "outputs": [
    {
     "name": "stderr",
     "output_type": "stream",
     "text": [
      "/Users/suyash/anaconda3/lib/python3.7/site-packages/IPython/core/interactiveshell.py:3057: DtypeWarning: Columns (12,30,52) have mixed types. Specify dtype option on import or set low_memory=False.\n",
      "  interactivity=interactivity, compiler=compiler, result=result)\n"
     ]
    }
   ],
   "source": [
    "# Import important libraries\n",
    "import numpy as np\n",
    "import matplotlib.pyplot as plt\n",
    "import pandas as pd\n",
    "\n",
    "# Load the dataset\n",
    "dataset = pd.read_csv('complete_gws.csv', encoding=\"ISO-8859-1\")\n",
    "\n",
    "#drop date columns\n",
    "dataset.drop([\"name\",\"kickoff_time\",'kickoff_time_formatted'], axis=1,inplace=True )\n",
    "\n",
    "#set target y as goal_scored and X as every other column\n",
    "X = dataset.iloc[:67936,dataset.columns != 'goals_scored'].values\n",
    "y = dataset.iloc[:67936,dataset.columns == 'goals_scored'].values\n"
   ]
  },
  {
   "cell_type": "markdown",
   "metadata": {},
   "source": [
    "Split train and test data"
   ]
  },
  {
   "cell_type": "code",
   "execution_count": 2,
   "metadata": {},
   "outputs": [
    {
     "name": "stdout",
     "output_type": "stream",
     "text": [
      "[0 1 2 3 4] 47555 47555\n"
     ]
    }
   ],
   "source": [
    "from sklearn.model_selection import train_test_split\n",
    "\n",
    "# Splitting the data into training and testing set\n",
    "X_train, X_test, y_train, y_test = train_test_split(X,y,test_size=0.3)\n",
    "print(np.unique(y_test),len(X_train),len(y_train))"
   ]
  },
  {
   "cell_type": "markdown",
   "metadata": {},
   "source": [
    "Try linear regression"
   ]
  },
  {
   "cell_type": "code",
   "execution_count": 3,
   "metadata": {},
   "outputs": [
    {
     "name": "stdout",
     "output_type": "stream",
     "text": [
      "Max of weight: 0.22072145775207874\n",
      "( 0 ) assists:  -0.3571835950334993\n",
      "( 1 ) attempted_passes:  0.0011519923102758782\n",
      "( 2 ) big_chances_created:  -0.05574629524945726\n",
      "( 3 ) big_chances_missed:  0.014063944286903886\n",
      "( 4 ) bonus:  -0.007008906203414916\n",
      "( 5 ) bps:  0.011712721585706291\n",
      "( 6 ) clean_sheets:  -0.10547808299272186\n",
      "( 7 ) clearances_blocks_interceptions:  -0.037478667203722164\n",
      "( 8 ) completed_passes:  -0.004142231963445076\n",
      "( 9 ) creativity:  -0.005775413141085196\n",
      "( 10 ) dribbles:  -0.026931994695503444\n",
      "( 11 ) ea_index:  -4.1694356300858715e-12\n",
      "( 12 ) element:  -5.393086484159482e-06\n",
      "( 13 ) errors_leading_to_goal:  0.12889437368215143\n",
      "( 14 ) errors_leading_to_goal_attempt:  0.0505398691123221\n",
      "( 15 ) fixture:  4.6416377958190865e-05\n",
      "( 16 ) fouls:  0.028856950464104657\n",
      "( 17 ) goals_conceded:  0.00544826742084943\n",
      "( 19 ) ict_index:  9.65019934062207e-06\n",
      "( 20 ) id:  0.008042098874798205\n",
      "( 21 ) influence:  -0.07144198546370666\n",
      "( 22 ) key_passes:  2.0261570199409107e-15\n",
      "( 23 ) loaned_in:  6.418476861114186e-16\n",
      "( 24 ) loaned_out:  -0.001433881674535141\n",
      "( 25 ) minutes:  0.020523632730281495\n",
      "( 26 ) offside:  -0.05202774283736138\n",
      "( 27 ) open_play_crosses:  -5.21717706589083e-05\n",
      "( 28 ) opponent_team:  0.21465296618588584\n",
      "( 29 ) own_goals:  0.12406343956083545\n",
      "( 30 ) penalties_conceded:  0.10761784557582689\n",
      "( 31 ) penalties_missed:  -0.617456611250536\n",
      "( 32 ) penalties_saved:  -0.003275166547827118\n",
      "( 33 ) recoveries:  0.22072145775207874\n",
      "( 34 ) red_cards:  -0.0061990216502249\n",
      "( 35 ) round:  -0.1330426477744455\n",
      "( 36 ) saves:  -5.824923383912495e-09\n",
      "( 37 ) selected:  0.016120708698691238\n",
      "( 38 ) tackled:  -0.04834708300651364\n",
      "( 39 ) tackles:  0.047556160956998494\n",
      "( 40 ) target_missed:  0.0024113644827675187\n",
      "( 41 ) team_a_score:  0.0017323664473979903\n",
      "( 42 ) team_h_score:  -0.0077126058238694405\n",
      "( 43 ) threat:  0.0195263955756905\n",
      "( 44 ) total_points:  9.133070743433391e-08\n",
      "( 45 ) transfers_balance:  -7.721514430625298e-08\n",
      "( 46 ) transfers_in:  8.989922749280677e-08\n",
      "( 47 ) transfers_out:  0.00019866392951409066\n",
      "( 48 ) value:  3.544772764683502e-05\n",
      "( 49 ) was_home:  0.10343787098198337\n",
      "( 50 ) winning_goals:  0.06851583520446643\n",
      "Mean Square Error: 0.003917783904601043\n"
     ]
    }
   ],
   "source": [
    "# Fitting Multiple linear regression to training set\n",
    "from sklearn.linear_model import LinearRegression\n",
    "\n",
    "mlrObj = LinearRegression()\n",
    "mlrObj.fit(X_train,y_train)\n",
    "\n",
    "#Predicting on the Test Set\n",
    "y_pred = mlrObj.predict(X_test)\n",
    "\n",
    "\n",
    "print(\"Max of weight:\",max(mlrObj.coef_[0]))\n",
    "\"The weights of the parameters are:\"\n",
    "for idx, col_name in enumerate(dataset.columns[:18]):\n",
    "    print(\"( {} ) {}:  {}\".format(idx,col_name, mlrObj.coef_[0][idx]))\n",
    "    \n",
    "for idx, col_name in enumerate(dataset.columns[19:-1]):\n",
    "    print(\"( {} ) {}:  {}\".format((dataset.columns).get_loc(col_name),col_name, mlrObj.coef_[0][(dataset.columns).get_loc(col_name)]))\n",
    "# Calculate the error\n",
    "\n",
    "from sklearn import metrics\n",
    "\n",
    "print(\"Mean Square Error:\",metrics.mean_squared_error(y_test, y_pred))"
   ]
  },
  {
   "cell_type": "markdown",
   "metadata": {},
   "source": [
    "Logistic Regression"
   ]
  },
  {
   "cell_type": "code",
   "execution_count": 4,
   "metadata": {},
   "outputs": [
    {
     "name": "stderr",
     "output_type": "stream",
     "text": [
      "/Users/suyash/anaconda3/lib/python3.7/site-packages/sklearn/linear_model/logistic.py:432: FutureWarning: Default solver will be changed to 'lbfgs' in 0.22. Specify a solver to silence this warning.\n",
      "  FutureWarning)\n",
      "/Users/suyash/anaconda3/lib/python3.7/site-packages/sklearn/utils/validation.py:724: DataConversionWarning: A column-vector y was passed when a 1d array was expected. Please change the shape of y to (n_samples, ), for example using ravel().\n",
      "  y = column_or_1d(y, warn=True)\n",
      "/Users/suyash/anaconda3/lib/python3.7/site-packages/sklearn/linear_model/logistic.py:469: FutureWarning: Default multi_class will be changed to 'auto' in 0.22. Specify the multi_class option to silence this warning.\n",
      "  \"this warning.\", FutureWarning)\n",
      "/Users/suyash/anaconda3/lib/python3.7/site-packages/sklearn/svm/base.py:929: ConvergenceWarning: Liblinear failed to converge, increase the number of iterations.\n",
      "  \"the number of iterations.\", ConvergenceWarning)\n"
     ]
    },
    {
     "name": "stdout",
     "output_type": "stream",
     "text": [
      "[[10158  1369  1108  5622  1320]\n",
      " [    0   501   179    28     0]\n",
      " [    0    78    10     1     0]\n",
      " [    0     4     0     0     0]\n",
      " [    0     3     0     0     0]]\n",
      "0.5234777488837643\n"
     ]
    }
   ],
   "source": [
    "#Fitting Logistic Regression to Training Set\n",
    "from sklearn.linear_model import LogisticRegression\n",
    "classifierObj = LogisticRegression(random_state=0)\n",
    "classifierObj.fit(X_train, y_train)\n",
    "\n",
    "#Normalizing the features\n",
    "from sklearn.preprocessing import StandardScaler\n",
    "sc_X = StandardScaler()\n",
    "X_train = sc_X.fit_transform(X_train)\n",
    "X_test = sc_X.transform(X_test)\n",
    "\n",
    "# Make a prediction\n",
    "y_pred = classifierObj.predict(X_test)\n",
    "\n",
    "# Find the misclassification rate\n",
    "from sklearn import metrics\n",
    "from sklearn.metrics import confusion_matrix\n",
    "\n",
    "cm = confusion_matrix(y_test,y_pred)\n",
    "\n",
    "print(cm)\n",
    "\n",
    "print(classifierObj.score(X_test,y_test))"
   ]
  },
  {
   "cell_type": "code",
   "execution_count": 5,
   "metadata": {},
   "outputs": [
    {
     "name": "stderr",
     "output_type": "stream",
     "text": [
      "'c' argument looks like a single numeric RGB or RGBA sequence, which should be avoided as value-mapping will have precedence in case its length matches with 'x' & 'y'.  Please use a 2-D array with a single row if you really want to specify the same RGB or RGBA value for all points.\n",
      "'c' argument looks like a single numeric RGB or RGBA sequence, which should be avoided as value-mapping will have precedence in case its length matches with 'x' & 'y'.  Please use a 2-D array with a single row if you really want to specify the same RGB or RGBA value for all points.\n",
      "'c' argument looks like a single numeric RGB or RGBA sequence, which should be avoided as value-mapping will have precedence in case its length matches with 'x' & 'y'.  Please use a 2-D array with a single row if you really want to specify the same RGB or RGBA value for all points.\n",
      "'c' argument looks like a single numeric RGB or RGBA sequence, which should be avoided as value-mapping will have precedence in case its length matches with 'x' & 'y'.  Please use a 2-D array with a single row if you really want to specify the same RGB or RGBA value for all points.\n",
      "'c' argument looks like a single numeric RGB or RGBA sequence, which should be avoided as value-mapping will have precedence in case its length matches with 'x' & 'y'.  Please use a 2-D array with a single row if you really want to specify the same RGB or RGBA value for all points.\n"
     ]
    },
    {
     "data": {
      "image/png": "[encoded data removed]",
      "text/plain": [
       "<Figure size 432x288 with 1 Axes>"
      ]
     },
     "metadata": {
      "needs_background": "light"
     },
     "output_type": "display_data"
    }
   ],
   "source": [
    "from sklearn.decomposition import PCA\n",
    "from matplotlib.colors import ListedColormap\n",
    "pcaObj = PCA(n_components=2)\n",
    "X_set1, y_set1 = X_train, y_train\n",
    "X_set1 = pcaObj.fit_transform(X_set1)\n",
    "X_test_2n = pcaObj.transform(X_test)\n",
    "components_variance = pcaObj.explained_variance_ratio_\n",
    "\n",
    "\n",
    "for i, j in enumerate(np.unique(y_set1)):\n",
    "    plt.scatter(X_set1[(y_set1 == j).flatten(), 0], X_set1[(y_set1 == j).flatten(), 1],\n",
    "                c = ListedColormap(('red', 'green','blue','yellow','black'))(i), label = j)    \n",
    "\n",
    "plt.title('Dataset based on class label after PCA')\n",
    "plt.xlabel('Column 1')\n",
    "plt.ylabel('Column 2')\n",
    "plt.legend()\n",
    "plt.show()"
   ]
  },
  {
   "cell_type": "code",
   "execution_count": 6,
   "metadata": {},
   "outputs": [
    {
     "name": "stdout",
     "output_type": "stream",
     "text": [
      "The accuracy is: 0.9633482164761298\n"
     ]
    },
    {
     "name": "stderr",
     "output_type": "stream",
     "text": [
      "/Users/suyash/anaconda3/lib/python3.7/site-packages/sklearn/linear_model/logistic.py:432: FutureWarning: Default solver will be changed to 'lbfgs' in 0.22. Specify a solver to silence this warning.\n",
      "  FutureWarning)\n",
      "/Users/suyash/anaconda3/lib/python3.7/site-packages/sklearn/utils/validation.py:724: DataConversionWarning: A column-vector y was passed when a 1d array was expected. Please change the shape of y to (n_samples, ), for example using ravel().\n",
      "  y = column_or_1d(y, warn=True)\n",
      "/Users/suyash/anaconda3/lib/python3.7/site-packages/sklearn/linear_model/logistic.py:469: FutureWarning: Default multi_class will be changed to 'auto' in 0.22. Specify the multi_class option to silence this warning.\n",
      "  \"this warning.\", FutureWarning)\n"
     ]
    }
   ],
   "source": [
    "from sklearn.linear_model import LogisticRegression\n",
    "classifierObj2 = LogisticRegression(random_state=0)\n",
    "classifierObj2.fit(X_set1, y_set1)\n",
    "\n",
    "log_accuracy=classifierObj2.score(X_test_2n,y_test)\n",
    "print(\"The accuracy is:\",log_accuracy)"
   ]
  },
  {
   "cell_type": "code",
   "execution_count": 7,
   "metadata": {},
   "outputs": [
    {
     "name": "stderr",
     "output_type": "stream",
     "text": [
      "'c' argument looks like a single numeric RGB or RGBA sequence, which should be avoided as value-mapping will have precedence in case its length matches with 'x' & 'y'.  Please use a 2-D array with a single row if you really want to specify the same RGB or RGBA value for all points.\n",
      "'c' argument looks like a single numeric RGB or RGBA sequence, which should be avoided as value-mapping will have precedence in case its length matches with 'x' & 'y'.  Please use a 2-D array with a single row if you really want to specify the same RGB or RGBA value for all points.\n",
      "'c' argument looks like a single numeric RGB or RGBA sequence, which should be avoided as value-mapping will have precedence in case its length matches with 'x' & 'y'.  Please use a 2-D array with a single row if you really want to specify the same RGB or RGBA value for all points.\n",
      "'c' argument looks like a single numeric RGB or RGBA sequence, which should be avoided as value-mapping will have precedence in case its length matches with 'x' & 'y'.  Please use a 2-D array with a single row if you really want to specify the same RGB or RGBA value for all points.\n",
      "'c' argument looks like a single numeric RGB or RGBA sequence, which should be avoided as value-mapping will have precedence in case its length matches with 'x' & 'y'.  Please use a 2-D array with a single row if you really want to specify the same RGB or RGBA value for all points.\n"
     ]
    },
    {
     "data": {
      "image/png": "[encoded data removed]",
      "text/plain": [
       "<Figure size 432x288 with 1 Axes>"
      ]
     },
     "metadata": {
      "needs_background": "light"
     },
     "output_type": "display_data"
    }
   ],
   "source": [
    "from sklearn.decomposition import PCA\n",
    "pcaObj = PCA(n_components=1)\n",
    "X_set2, y_set2 = X_train, y_train\n",
    "X_set2 = pcaObj.fit_transform(X_set2)\n",
    "X_test_1n = pcaObj.transform(X_test)\n",
    "components_variance = pcaObj.explained_variance_ratio_\n",
    "\n",
    "for i, j in enumerate(np.unique(y_set2)):\n",
    "    plt.scatter(X_set2[y_set2 == j],y_set2[y_set2 == j],\n",
    "                c = ListedColormap(np.array([\"red\", \"green\"]))(i), label = j)\n",
    "plt.title('Dataset based on class label after 1 componentPCA')\n",
    "plt.xlabel('Selected Column')\n",
    "plt.ylabel('Class')\n",
    "plt.legend()\n",
    "plt.show()"
   ]
  },
  {
   "cell_type": "code",
   "execution_count": 8,
   "metadata": {},
   "outputs": [
    {
     "name": "stdout",
     "output_type": "stream",
     "text": [
      "The accuracy is: 0.9632991511702076\n"
     ]
    },
    {
     "name": "stderr",
     "output_type": "stream",
     "text": [
      "/Users/suyash/anaconda3/lib/python3.7/site-packages/sklearn/linear_model/logistic.py:432: FutureWarning: Default solver will be changed to 'lbfgs' in 0.22. Specify a solver to silence this warning.\n",
      "  FutureWarning)\n",
      "/Users/suyash/anaconda3/lib/python3.7/site-packages/sklearn/utils/validation.py:724: DataConversionWarning: A column-vector y was passed when a 1d array was expected. Please change the shape of y to (n_samples, ), for example using ravel().\n",
      "  y = column_or_1d(y, warn=True)\n",
      "/Users/suyash/anaconda3/lib/python3.7/site-packages/sklearn/linear_model/logistic.py:469: FutureWarning: Default multi_class will be changed to 'auto' in 0.22. Specify the multi_class option to silence this warning.\n",
      "  \"this warning.\", FutureWarning)\n"
     ]
    }
   ],
   "source": [
    "from sklearn.linear_model import LogisticRegression\n",
    "classifierObj3 = LogisticRegression(random_state=0)\n",
    "classifierObj3.fit(X_set2, y_set2)\n",
    "\n",
    "log_accuracy=classifierObj3.score(X_test_1n,y_test)\n",
    "print(\"The accuracy is:\",log_accuracy)"
   ]
  },
  {
   "cell_type": "code",
   "execution_count": 9,
   "metadata": {},
   "outputs": [],
   "source": [
    "# from sklearn.decomposition import KernelPCA\n",
    "# kernelPCAObj = KernelPCA(n_components=3, kernel='rbf')\n",
    "# X_set4, y_set4 = X_train, y_train\n",
    "# X_set4 = kernelPCAObj.fit_transform(X_set4)\n",
    "# X_test_kpca = kernelPCAObj.transform(X_test)\n",
    "\n",
    "# X1, X2 = np.meshgrid(np.arange(start = X_set4[:, 0].min() - 1, stop = X_set4[:, 0].max() + 1, step = 0.01),\n",
    "#                      np.arange(start = X_set4[:, 1].min() - 1, stop = X_set4[:, 1].max() + 1, step = 0.01))\n",
    "\n",
    "# plt.xlim(X1.min(), X1.max())\n",
    "# plt.ylim(X2.min(), X2.max())\n",
    "# for i, j in enumerate(np.unique(y_set4)):\n",
    "#     plt.scatter(X_set4[y_set4 == j, 0], X_set4[y_set4 == j, 1],\n",
    "#                 c = ListedColormap(('red', 'green'))(i), label = j)    \n",
    "\n",
    "# plt.title('Dataset based on class label after KernalPCA')\n",
    "# plt.xlabel('Column 1')\n",
    "# plt.ylabel('Column 2')\n",
    "# plt.legend()\n",
    "# plt.show()"
   ]
  },
  {
   "cell_type": "code",
   "execution_count": 10,
   "metadata": {},
   "outputs": [
    {
     "name": "stdout",
     "output_type": "stream",
     "text": [
      "Index(['assists', 'attempted_passes', 'big_chances_created',\n",
      "       'big_chances_missed', 'bonus', 'bps', 'clean_sheets',\n",
      "       'clearances_blocks_interceptions', 'completed_passes', 'creativity',\n",
      "       'dribbles', 'ea_index', 'element', 'errors_leading_to_goal',\n",
      "       'errors_leading_to_goal_attempt', 'fixture', 'fouls', 'goals_conceded',\n",
      "       'goals_scored', 'ict_index', 'id', 'influence', 'key_passes',\n",
      "       'loaned_in', 'loaned_out', 'minutes', 'offside', 'open_play_crosses',\n",
      "       'opponent_team', 'own_goals', 'penalties_conceded', 'penalties_missed',\n",
      "       'penalties_saved', 'recoveries', 'red_cards', 'round', 'saves',\n",
      "       'selected', 'tackled', 'tackles', 'target_missed', 'team_a_score',\n",
      "       'team_h_score', 'threat', 'total_points', 'transfers_balance',\n",
      "       'transfers_in', 'transfers_out', 'value', 'was_home', 'winning_goals',\n",
      "       'yellow_cards'],\n",
      "      dtype='object')\n"
     ]
    }
   ],
   "source": [
    "print(dataset.columns)"
   ]
  },
  {
   "cell_type": "markdown",
   "metadata": {},
   "source": [
    "Data analysis"
   ]
  },
  {
   "cell_type": "code",
   "execution_count": 11,
   "metadata": {},
   "outputs": [
    {
     "name": "stdout",
     "output_type": "stream",
     "text": [
      "total_points\n",
      "-4.0         2\n",
      "-3.0        14\n",
      "-2.0        78\n",
      "-1.0       233\n",
      " 0.0     38030\n",
      " 1.0     10247\n",
      " 2.0      8915\n",
      " 3.0      2476\n",
      " 4.0       560\n",
      " 5.0      1154\n",
      " 6.0      2415\n",
      " 7.0      1006\n",
      " 8.0       855\n",
      " 9.0       591\n",
      " 10.0      336\n",
      " 11.0      277\n",
      " 12.0      215\n",
      " 13.0      186\n",
      " 14.0       96\n",
      " 15.0      125\n",
      " 16.0       56\n",
      " 17.0       24\n",
      " 18.0       15\n",
      " 19.0        9\n",
      " 20.0        6\n",
      " 21.0       11\n",
      " 23.0        2\n",
      " 24.0        1\n",
      " 29.0        1\n",
      "Name: element, dtype: int64\n"
     ]
    },
    {
     "data": {
      "text/plain": [
       "array([[<matplotlib.axes._subplots.AxesSubplot object at 0x125677898>]],\n",
       "      dtype=object)"
      ]
     },
     "execution_count": 11,
     "metadata": {},
     "output_type": "execute_result"
    },
    {
     "data": {
      "image/png": "[encoded data removed]",
      "text/plain": [
       "<Figure size 432x288 with 1 Axes>"
      ]
     },
     "metadata": {
      "needs_background": "light"
     },
     "output_type": "display_data"
    },
    {
     "data": {
      "image/png": "[encoded data removed]",
      "text/plain": [
       "<Figure size 432x288 with 1 Axes>"
      ]
     },
     "metadata": {
      "needs_background": "light"
     },
     "output_type": "display_data"
    }
   ],
   "source": [
    "\n",
    "#group by total points to see what is the most frequently scored points\n",
    "by_total=dataset.groupby('total_points')\n",
    "ids_grouped_by_total_points=by_total.count().element\n",
    "\n",
    "print(ids_grouped_by_total_points)\n",
    "\n",
    "#plot everything exept 0 to get a better view\n",
    "ids_grouped_by_total_points[ids_grouped_by_total_points<38030].plot(kind='bar')\n",
    "\n",
    "#group by players to get the sum of total_points per player\n",
    "\n",
    "by_ids=dataset.groupby('element')\n",
    "total_points_grouped_by_ids=by_ids['total_points'].sum().reset_index(name ='Total')\n",
    "\n",
    "#again group by total to see the spread of player with total total_points\n",
    "group_by_total_points=total_points_grouped_by_ids.groupby('Total').count().element\n",
    "total_points_grouped_by_ids.hist(column='Total')"
   ]
  }
 ],
 "metadata": {
  "kernelspec": {
   "display_name": "Python 3",
   "language": "python",
   "name": "python3"
  },
  "language_info": {
   "codemirror_mode": {
    "name": "ipython",
    "version": 3
   },
   "file_extension": ".py",
   "mimetype": "text/x-python",
   "name": "python",
   "nbconvert_exporter": "python",
   "pygments_lexer": "ipython3",
   "version": "3.7.3"
  }
 },
 "nbformat": 4,
 "nbformat_minor": 2
}
