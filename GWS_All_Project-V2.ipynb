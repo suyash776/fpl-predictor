{
 "cells": [
  {
   "cell_type": "markdown",
   "metadata": {},
   "source": [
    "# Import the libraries that will be used throughout the examination of the data"
   ]
  },
  {
   "cell_type": "code",
   "execution_count": 1,
   "metadata": {},
   "outputs": [],
   "source": [
    "# Importing important Libraries used by all\n",
    "import numpy as np\n",
    "import matplotlib.pyplot as plt\n",
    "import pandas as pd\n",
    "\n",
    "# Import library for split and train\n",
    "from sklearn.model_selection import train_test_split\n",
    "\n",
    "# Import for linear Regression\n",
    "from sklearn.linear_model import LinearRegression\n",
    "\n",
    "# Import for PCA\n",
    "from sklearn.decomposition import PCA\n",
    "\n",
    "# Import for Random Forest\n",
    "from sklearn.ensemble import RandomForestRegressor\n",
    "\n",
    "# Import for Decision Tree Reg\n",
    "from sklearn.tree import DecisionTreeRegressor\n",
    "\n",
    "# Import for K-Fold\n",
    "from sklearn.svm import SVC\n",
    "\n",
    "# K-Fold cross validation\n",
    "from sklearn.model_selection import cross_val_score\n",
    "\n",
    "# Import for normalizing\n",
    "from sklearn.preprocessing import StandardScaler\n",
    "\n",
    "# Import for finding the error of the model\n",
    "from sklearn import metrics\n",
    "\n",
    "# Import for Polynomial Regression\n",
    "from sklearn.preprocessing import PolynomialFeatures\n",
    "\n",
    "#Backward Elimination\n",
    "import statsmodels.api as sm\n",
    "\n",
    "#K-Fold Cross Validation\n",
    "from sklearn.model_selection import cross_val_score\n",
    "\n",
    "#Applying PCA\n",
    "from sklearn.decomposition import PCA"
   ]
  },
  {
   "cell_type": "markdown",
   "metadata": {},
   "source": [
    "# Load in the premier league data set and clean it up so it can be examined"
   ]
  },
  {
   "cell_type": "code",
   "execution_count": 2,
   "metadata": {},
   "outputs": [
    {
     "name": "stderr",
     "output_type": "stream",
     "text": [
      "/Users/suyash/anaconda3/lib/python3.7/site-packages/IPython/core/interactiveshell.py:3057: DtypeWarning: Columns (12,30,52) have mixed types. Specify dtype option on import or set low_memory=False.\n",
      "  interactivity=interactivity, compiler=compiler, result=result)\n"
     ]
    }
   ],
   "source": [
    "# Loading in the data set being used\n",
    "dataset = pd.read_csv('complete_gws.csv', encoding=\"ISO-8859-1\")\n",
    "dataset_test = pd.read_csv('complete_gws.csv', encoding=\"ISO-8859-1\")\n",
    "\n",
    "# Clean up the data\n",
    "# DROP VALUES:\n",
    "dataset.drop([\"name\", \"kickoff_time\", \"kickoff_time_formatted\"], axis=1, inplace=True)\n",
    "\n",
    "dataset_test.drop([\"name\", \"kickoff_time\", \"kickoff_time_formatted\"], axis=1, inplace=True)\n",
    "\n",
    "\n",
    "#dataset_all.drop([\"name\", \"kickoff_time\", \"kickoff_time_formatted\"], axis=1, inplace=True)\n",
    "\n",
    "#dataset_test_all.drop([\"name\", \"kickoff_time\", \"kickoff_time_formatted\"], axis=1, inplace=True)\n",
    "\n",
    "# Remove bad instances located near bottom of set\n",
    "dataset=dataset.iloc[:67936,:]\n",
    "\n",
    "# Remove all players with minutes = 0\n",
    "dataset = dataset[dataset.minutes!=0]\n",
    "\n",
    "# Set the target y as goal_scored and x as remaining columns\n",
    "dataset_test.drop([\"goals_scored\"], axis=1, inplace=True)\n",
    "X = dataset.iloc[:,dataset.columns != \"goals_scored\"].values\n",
    "y = dataset.iloc[:,dataset.columns == \"goals_scored\"].values"
   ]
  },
  {
   "cell_type": "markdown",
   "metadata": {},
   "source": [
    "# Split for train(.70) and test(.30) data"
   ]
  },
  {
   "cell_type": "code",
   "execution_count": 3,
   "metadata": {},
   "outputs": [
    {
     "name": "stdout",
     "output_type": "stream",
     "text": [
      "[0 1 2 3] 21981 21981\n"
     ]
    }
   ],
   "source": [
    "# Splitting the data into training and testing set\n",
    "X_train, X_test, y_train, y_test = train_test_split(X,y,test_size=0.3, random_state=5)\n",
    "\n",
    "print(np.unique(y_test), len(X_train), len(y_train))"
   ]
  },
  {
   "cell_type": "markdown",
   "metadata": {},
   "source": [
    "# Lets examine the data before setting it to the different models selected"
   ]
  },
  {
   "cell_type": "code",
   "execution_count": 4,
   "metadata": {},
   "outputs": [
    {
     "name": "stdout",
     "output_type": "stream",
     "text": [
      "[20040  1720   197    20     4]\n"
     ]
    },
    {
     "data": {
      "text/plain": [
       "<BarContainer object of 5 artists>"
      ]
     },
     "execution_count": 4,
     "metadata": {},
     "output_type": "execute_result"
    },
    {
     "data": {
      "image/png": "[encoded data removed]",
      "text/plain": [
       "<Figure size 432x288 with 1 Axes>"
      ]
     },
     "metadata": {
      "needs_background": "light"
     },
     "output_type": "display_data"
    }
   ],
   "source": [
    "total_goals = np.unique(y_train, return_counts=True)\n",
    "\n",
    "print(total_goals[1])\n",
    "plt.bar(total_goals[0],total_goals[1])"
   ]
  },
  {
   "cell_type": "markdown",
   "metadata": {},
   "source": [
    "# Normalizing the data to make sure no one variable pulls to much on the prediction. (Do We Need to Normalize)"
   ]
  },
  {
   "cell_type": "code",
   "execution_count": 5,
   "metadata": {},
   "outputs": [],
   "source": [
    "# Normalizing the features\n",
    "sc_X = StandardScaler()\n",
    "X_train = sc_X.fit_transform(X_train)\n",
    "X_test = sc_X.transform(X_test)"
   ]
  },
  {
   "cell_type": "markdown",
   "metadata": {},
   "source": [
    "# Fitting the data to a Multiple Linear Regression Model"
   ]
  },
  {
   "cell_type": "code",
   "execution_count": 6,
   "metadata": {
    "scrolled": true
   },
   "outputs": [
    {
     "name": "stdout",
     "output_type": "stream",
     "text": [
      "The weight parameters are:\n",
      "(0) assists: -0.11355238689970068\n",
      "(1) attempted_passes: 0.023603503839805584\n",
      "(2) big_chances_created: -0.016431930109867716\n",
      "(3) big_chances_missed: 0.003383009592019079\n",
      "(4) bonus: -0.010687710828110195\n",
      "(5) bps: 0.12160375553383374\n",
      "(6) clean_sheets: -0.04780839198100621\n",
      "(7) clearances_blocks_interceptions: -0.12758338548188045\n",
      "(8) completed_passes: -0.08132404682961314\n",
      "(9) creativity: -0.04055959688836441\n",
      "(10) dribbles: -0.029771875937498207\n",
      "(11) ea_index: 8.326672684688674e-17\n",
      "(12) element: -0.002485570746993772\n",
      "(13) errors_leading_to_goal: 0.013307204006412054\n",
      "(14) errors_leading_to_goal_attempt: 0.007418817669321582\n",
      "(15) fixture: 0.008941743271921314\n",
      "(16) fouls: 0.02720506553681132\n",
      "(17) goals_conceded: 0.005467528166487996\n",
      "(18) ict_index: 0.1931411271794323\n",
      "(19) id: 0.14551629466356703\n",
      "(20) influence: 0.16444688062387475\n",
      "(21) key_passes: -0.07473878429947792\n",
      "(22) loaned_in: 3.2959746043559335e-16\n",
      "(23) loaned_out: -1.1102230246251565e-16\n",
      "(24) minutes: -0.029408123106033326\n",
      "(25) offside: 0.009365676752444463\n",
      "(26) open_play_crosses: -0.02829565577462568\n",
      "(27) opponent_team: -0.001412555728852129\n",
      "(28) own_goals: 0.011993103543559026\n",
      "(29) penalties_conceded: 0.010998630158576682\n",
      "(30) penalties_missed: 0.005540468384640566\n",
      "(31) penalties_saved: -0.02606289063077001\n",
      "(32) recoveries: -0.009954327520041783\n",
      "(33) red_cards: 0.014058361605567088\n",
      "(34) round: -0.1549970621749893\n",
      "(35) saves: -0.12119161636411888\n",
      "(36) selected: -0.005886309642433155\n",
      "(37) tackled: 0.025064509462215126\n",
      "(38) tackles: -0.044365417050542054\n",
      "(39) target_missed: 0.03167975527761741\n",
      "(40) team_a_score: 0.007275554655799259\n",
      "(41) team_h_score: 0.006861653389737002\n",
      "(42) threat: -0.08980652728125452\n",
      "(43) total_points: 0.07491051943604576\n",
      "(44) transfers_balance: 0.0014059744706489824\n",
      "(45) transfers_in: -0.0010563639175966665\n",
      "(46) transfers_out: 0.0010174528177105402\n",
      "(47) value: 0.010618852092257575\n",
      "(48) was_home: -0.0013345495489635664\n",
      "(49) winning_goals: 0.017998534758974984\n",
      "(50) yellow_cards: 0.024005215011322974\n"
     ]
    }
   ],
   "source": [
    "# Fitting the multiple linear regresion to the training set\n",
    "mlr_obj = LinearRegression()\n",
    "mlr_obj.fit(X_train, y_train)\n",
    "\n",
    "\n",
    "num_culmn_raw  = X_train[0,:]\n",
    "\n",
    "print(\"The weight parameters are:\")\n",
    "\n",
    "for idx, col_name in enumerate(dataset_test.columns[:len(num_culmn_raw)]):\n",
    "    print(\"({}) {}: {}\".format(idx, col_name, mlr_obj.coef_[0][idx]))\n",
    "\n",
    "# Predicting on the test set\n",
    "mlr_y_pred = mlr_obj.predict(X_test)\n"
   ]
  },
  {
   "cell_type": "markdown",
   "metadata": {},
   "source": [
    "# Calculate the Mean Squared Error for the model"
   ]
  },
  {
   "cell_type": "code",
   "execution_count": 7,
   "metadata": {},
   "outputs": [
    {
     "name": "stdout",
     "output_type": "stream",
     "text": [
      "Mean Squared Error for MLR: 0.007712425904282417\n"
     ]
    }
   ],
   "source": [
    "print(\"Mean Squared Error for MLR:\", metrics.mean_squared_error(y_test, mlr_y_pred))"
   ]
  },
  {
   "cell_type": "markdown",
   "metadata": {},
   "source": [
    "# Using backwards elimination to trim the data"
   ]
  },
  {
   "cell_type": "code",
   "execution_count": 8,
   "metadata": {},
   "outputs": [
    {
     "name": "stdout",
     "output_type": "stream",
     "text": [
      "46\n",
      "46\n",
      "44\n",
      "44\n"
     ]
    }
   ],
   "source": [
    "def backwardElimination(x, sl):\n",
    "    \n",
    "    numVars = len(x[0])\n",
    "    for i in range(0, numVars):\n",
    "        \n",
    "        #print(\"check:\", i)\n",
    "\n",
    "        obj_OLS = sm.OLS(endog = y, exog = x).fit()\n",
    "        maxVar = max(obj_OLS.pvalues).astype(float)\n",
    "        #print(maxVar)\n",
    "\n",
    "        if maxVar > sl:\n",
    "            \n",
    "            for j in range(0, numVars - i):\n",
    "                \n",
    "                if (obj_OLS.pvalues[j].astype(float) == maxVar):\n",
    "                    print (j)\n",
    "                    x = np.delete(x, j, 1)\n",
    "                    dataset_test.drop([dataset_test.columns[j]], axis=1, inplace=True)\n",
    "                    \n",
    "                    \n",
    "    obj_OLS.summary()\n",
    "    return x\n",
    "\n",
    "\n",
    "X = X.astype(float)\n",
    "SL = 0.05\n",
    "X_sig = X[:,:]\n",
    "X_Modeled = backwardElimination(X_sig, SL)"
   ]
  },
  {
   "cell_type": "markdown",
   "metadata": {},
   "source": [
    "# Now run the trimed data with a linear regression model"
   ]
  },
  {
   "cell_type": "code",
   "execution_count": 9,
   "metadata": {
    "scrolled": true
   },
   "outputs": [
    {
     "name": "stdout",
     "output_type": "stream",
     "text": [
      "The weight parameters are:\n",
      "(0) assists: -0.3593774961646821\n",
      "(1) attempted_passes: 0.0014469652924986225\n",
      "(2) big_chances_created: -0.05589487431981373\n",
      "(3) big_chances_missed: 0.015787944135590974\n",
      "(4) bonus: -0.01371848294091123\n",
      "(5) bps: 0.011422876084351085\n",
      "(6) clean_sheets: -0.11392519975869347\n",
      "(7) clearances_blocks_interceptions: -0.03694601011568112\n",
      "(8) completed_passes: -0.004429774698403562\n",
      "(9) creativity: -0.004836475001181569\n",
      "(10) dribbles: -0.025429533884230884\n",
      "(11) ea_index: 1.2949032471287758e-11\n",
      "(12) element: -1.3976974770334238e-05\n",
      "(13) errors_leading_to_goal: 0.12373545647996434\n",
      "(14) errors_leading_to_goal_attempt: 0.048325098700333226\n",
      "(15) fixture: 4.126379984721879e-05\n",
      "(16) fouls: 0.028172369429384055\n",
      "(17) goals_conceded: 0.003359580833674515\n",
      "(18) ict_index: 0.0762784342304772\n",
      "(19) id: 2.244127839457722e-05\n",
      "(20) influence: 0.008361590684745585\n",
      "(21) key_passes: -0.07214168230576382\n",
      "(22) loaned_in: 4.440892098500626e-16\n",
      "(23) loaned_out: 2.498001805406602e-16\n",
      "(24) minutes: -0.0011012963852372701\n",
      "(25) offside: 0.021346516352292958\n",
      "(26) open_play_crosses: -0.05352670648366366\n",
      "(27) opponent_team: -0.00015842042876562746\n",
      "(28) own_goals: 0.2194244559612606\n",
      "(29) penalties_conceded: 0.12048091810538551\n",
      "(30) penalties_missed: 0.13815374059040056\n",
      "(31) penalties_saved: -0.6334635916313586\n",
      "(32) recoveries: -0.0031906586176508934\n",
      "(33) red_cards: 0.2445207872143869\n",
      "(34) round: -0.01375089964078601\n",
      "(35) saves: -0.13062658731700294\n",
      "(36) selected: -1.8828587506298458e-09\n",
      "(37) tackled: 0.016673533315912783\n",
      "(38) tackles: -0.046938911360727906\n",
      "(39) target_missed: 0.048878933149891536\n",
      "(40) team_a_score: 0.006745904274318515\n",
      "(41) team_h_score: 0.005774883740757479\n",
      "(42) threat: -0.007093586697397333\n",
      "(43) total_points: 0.0238658860433797\n",
      "(44) was_home: -0.0033506202250485413\n",
      "(45) winning_goals: 0.10501933660796998\n",
      "(46) yellow_cards: 0.07257875480585022\n"
     ]
    }
   ],
   "source": [
    "# Split the data\n",
    "X_sig_train, X_sig_test, y_sig_train, y_sig_test = train_test_split(\n",
    "    X_Modeled, y, test_size = 0.3)\n",
    "\n",
    "mlr_bw_obj = LinearRegression()\n",
    "mlr_bw_obj.fit(X_sig_train, y_sig_train)\n",
    "\n",
    "y_sig_pred = mlr_bw_obj.predict(X_sig_test)\n",
    "\n",
    "num_culmn_sig  = X_Modeled[0,:]\n",
    "\n",
    "print(\"The weight parameters are:\")\n",
    "\n",
    "for idx, col_name in enumerate(dataset_test.columns[:len(num_culmn_sig)]):\n",
    "    print(\"({}) {}: {}\".format(idx, col_name, mlr_bw_obj.coef_[0][idx]))\n",
    "\n",
    "#print(\"Mean Squared Error for MLR and Backward Elimination:\", metrics.mean_squared_error(y_sig_test, y_sig_pred))"
   ]
  },
  {
   "cell_type": "markdown",
   "metadata": {},
   "source": [
    "# MLR and Backward Elimination Mean Squared Error"
   ]
  },
  {
   "cell_type": "code",
   "execution_count": 10,
   "metadata": {},
   "outputs": [
    {
     "name": "stdout",
     "output_type": "stream",
     "text": [
      "Mean Squared Error for MLR and Backward Elimination: 0.008024204180166923\n"
     ]
    }
   ],
   "source": [
    "print(\"Mean Squared Error for MLR and Backward Elimination:\", metrics.mean_squared_error(y_sig_test, y_sig_pred))"
   ]
  },
  {
   "cell_type": "markdown",
   "metadata": {},
   "source": [
    "# Examine a Decison Tree regresion"
   ]
  },
  {
   "cell_type": "code",
   "execution_count": 11,
   "metadata": {},
   "outputs": [
    {
     "name": "stdout",
     "output_type": "stream",
     "text": [
      "Mean Squared Error for Decision Tree: 0.005731875597070375\n"
     ]
    }
   ],
   "source": [
    "dtr_obj = DecisionTreeRegressor()\n",
    "dtr_obj.fit(X_train, y_train)\n",
    "\n",
    "dtr_y_pred = dtr_obj.predict(X_test)\n",
    "\n",
    "print(\"Mean Squared Error for Decision Tree:\", metrics.mean_squared_error(y_test, dtr_y_pred))"
   ]
  },
  {
   "cell_type": "markdown",
   "metadata": {},
   "source": [
    "# Examine a Random Forrest model"
   ]
  },
  {
   "cell_type": "code",
   "execution_count": 12,
   "metadata": {},
   "outputs": [
    {
     "name": "stderr",
     "output_type": "stream",
     "text": [
      "/Users/suyash/anaconda3/lib/python3.7/site-packages/ipykernel_launcher.py:9: DataConversionWarning: A column-vector y was passed when a 1d array was expected. Please change the shape of y to (n_samples,), for example using ravel().\n",
      "  if __name__ == '__main__':\n",
      "/Users/suyash/anaconda3/lib/python3.7/site-packages/ipykernel_launcher.py:9: DataConversionWarning: A column-vector y was passed when a 1d array was expected. Please change the shape of y to (n_samples,), for example using ravel().\n",
      "  if __name__ == '__main__':\n",
      "/Users/suyash/anaconda3/lib/python3.7/site-packages/ipykernel_launcher.py:9: DataConversionWarning: A column-vector y was passed when a 1d array was expected. Please change the shape of y to (n_samples,), for example using ravel().\n",
      "  if __name__ == '__main__':\n",
      "/Users/suyash/anaconda3/lib/python3.7/site-packages/ipykernel_launcher.py:9: DataConversionWarning: A column-vector y was passed when a 1d array was expected. Please change the shape of y to (n_samples,), for example using ravel().\n",
      "  if __name__ == '__main__':\n",
      "/Users/suyash/anaconda3/lib/python3.7/site-packages/ipykernel_launcher.py:9: DataConversionWarning: A column-vector y was passed when a 1d array was expected. Please change the shape of y to (n_samples,), for example using ravel().\n",
      "  if __name__ == '__main__':\n",
      "/Users/suyash/anaconda3/lib/python3.7/site-packages/ipykernel_launcher.py:9: DataConversionWarning: A column-vector y was passed when a 1d array was expected. Please change the shape of y to (n_samples,), for example using ravel().\n",
      "  if __name__ == '__main__':\n",
      "/Users/suyash/anaconda3/lib/python3.7/site-packages/ipykernel_launcher.py:9: DataConversionWarning: A column-vector y was passed when a 1d array was expected. Please change the shape of y to (n_samples,), for example using ravel().\n",
      "  if __name__ == '__main__':\n",
      "/Users/suyash/anaconda3/lib/python3.7/site-packages/ipykernel_launcher.py:9: DataConversionWarning: A column-vector y was passed when a 1d array was expected. Please change the shape of y to (n_samples,), for example using ravel().\n",
      "  if __name__ == '__main__':\n",
      "/Users/suyash/anaconda3/lib/python3.7/site-packages/ipykernel_launcher.py:9: DataConversionWarning: A column-vector y was passed when a 1d array was expected. Please change the shape of y to (n_samples,), for example using ravel().\n",
      "  if __name__ == '__main__':\n",
      "/Users/suyash/anaconda3/lib/python3.7/site-packages/ipykernel_launcher.py:9: DataConversionWarning: A column-vector y was passed when a 1d array was expected. Please change the shape of y to (n_samples,), for example using ravel().\n",
      "  if __name__ == '__main__':\n",
      "/Users/suyash/anaconda3/lib/python3.7/site-packages/ipykernel_launcher.py:9: DataConversionWarning: A column-vector y was passed when a 1d array was expected. Please change the shape of y to (n_samples,), for example using ravel().\n",
      "  if __name__ == '__main__':\n",
      "/Users/suyash/anaconda3/lib/python3.7/site-packages/ipykernel_launcher.py:9: DataConversionWarning: A column-vector y was passed when a 1d array was expected. Please change the shape of y to (n_samples,), for example using ravel().\n",
      "  if __name__ == '__main__':\n",
      "/Users/suyash/anaconda3/lib/python3.7/site-packages/ipykernel_launcher.py:9: DataConversionWarning: A column-vector y was passed when a 1d array was expected. Please change the shape of y to (n_samples,), for example using ravel().\n",
      "  if __name__ == '__main__':\n",
      "/Users/suyash/anaconda3/lib/python3.7/site-packages/ipykernel_launcher.py:9: DataConversionWarning: A column-vector y was passed when a 1d array was expected. Please change the shape of y to (n_samples,), for example using ravel().\n",
      "  if __name__ == '__main__':\n",
      "/Users/suyash/anaconda3/lib/python3.7/site-packages/ipykernel_launcher.py:9: DataConversionWarning: A column-vector y was passed when a 1d array was expected. Please change the shape of y to (n_samples,), for example using ravel().\n",
      "  if __name__ == '__main__':\n",
      "/Users/suyash/anaconda3/lib/python3.7/site-packages/ipykernel_launcher.py:9: DataConversionWarning: A column-vector y was passed when a 1d array was expected. Please change the shape of y to (n_samples,), for example using ravel().\n",
      "  if __name__ == '__main__':\n",
      "/Users/suyash/anaconda3/lib/python3.7/site-packages/ipykernel_launcher.py:9: DataConversionWarning: A column-vector y was passed when a 1d array was expected. Please change the shape of y to (n_samples,), for example using ravel().\n",
      "  if __name__ == '__main__':\n",
      "/Users/suyash/anaconda3/lib/python3.7/site-packages/ipykernel_launcher.py:9: DataConversionWarning: A column-vector y was passed when a 1d array was expected. Please change the shape of y to (n_samples,), for example using ravel().\n",
      "  if __name__ == '__main__':\n",
      "/Users/suyash/anaconda3/lib/python3.7/site-packages/ipykernel_launcher.py:9: DataConversionWarning: A column-vector y was passed when a 1d array was expected. Please change the shape of y to (n_samples,), for example using ravel().\n",
      "  if __name__ == '__main__':\n",
      "/Users/suyash/anaconda3/lib/python3.7/site-packages/ipykernel_launcher.py:9: DataConversionWarning: A column-vector y was passed when a 1d array was expected. Please change the shape of y to (n_samples,), for example using ravel().\n",
      "  if __name__ == '__main__':\n",
      "/Users/suyash/anaconda3/lib/python3.7/site-packages/ipykernel_launcher.py:9: DataConversionWarning: A column-vector y was passed when a 1d array was expected. Please change the shape of y to (n_samples,), for example using ravel().\n",
      "  if __name__ == '__main__':\n",
      "/Users/suyash/anaconda3/lib/python3.7/site-packages/ipykernel_launcher.py:9: DataConversionWarning: A column-vector y was passed when a 1d array was expected. Please change the shape of y to (n_samples,), for example using ravel().\n",
      "  if __name__ == '__main__':\n",
      "/Users/suyash/anaconda3/lib/python3.7/site-packages/ipykernel_launcher.py:9: DataConversionWarning: A column-vector y was passed when a 1d array was expected. Please change the shape of y to (n_samples,), for example using ravel().\n",
      "  if __name__ == '__main__':\n",
      "/Users/suyash/anaconda3/lib/python3.7/site-packages/ipykernel_launcher.py:9: DataConversionWarning: A column-vector y was passed when a 1d array was expected. Please change the shape of y to (n_samples,), for example using ravel().\n",
      "  if __name__ == '__main__':\n",
      "/Users/suyash/anaconda3/lib/python3.7/site-packages/ipykernel_launcher.py:9: DataConversionWarning: A column-vector y was passed when a 1d array was expected. Please change the shape of y to (n_samples,), for example using ravel().\n",
      "  if __name__ == '__main__':\n",
      "/Users/suyash/anaconda3/lib/python3.7/site-packages/ipykernel_launcher.py:9: DataConversionWarning: A column-vector y was passed when a 1d array was expected. Please change the shape of y to (n_samples,), for example using ravel().\n",
      "  if __name__ == '__main__':\n",
      "/Users/suyash/anaconda3/lib/python3.7/site-packages/ipykernel_launcher.py:9: DataConversionWarning: A column-vector y was passed when a 1d array was expected. Please change the shape of y to (n_samples,), for example using ravel().\n",
      "  if __name__ == '__main__':\n",
      "/Users/suyash/anaconda3/lib/python3.7/site-packages/ipykernel_launcher.py:9: DataConversionWarning: A column-vector y was passed when a 1d array was expected. Please change the shape of y to (n_samples,), for example using ravel().\n",
      "  if __name__ == '__main__':\n",
      "/Users/suyash/anaconda3/lib/python3.7/site-packages/ipykernel_launcher.py:9: DataConversionWarning: A column-vector y was passed when a 1d array was expected. Please change the shape of y to (n_samples,), for example using ravel().\n",
      "  if __name__ == '__main__':\n",
      "/Users/suyash/anaconda3/lib/python3.7/site-packages/ipykernel_launcher.py:9: DataConversionWarning: A column-vector y was passed when a 1d array was expected. Please change the shape of y to (n_samples,), for example using ravel().\n",
      "  if __name__ == '__main__':\n"
     ]
    },
    {
     "name": "stdout",
     "output_type": "stream",
     "text": [
      "Lowest testing error = 0.0023272264090860844\n",
      "Associated number of trees (n_estimator) = 100\n"
     ]
    }
   ],
   "source": [
    "num_tree = []\n",
    "msqe = []\n",
    "\n",
    "for n in range (10, 301, 10):\n",
    "    \n",
    "    num_tree.append(n)\n",
    "    \n",
    "    randf_obj = RandomForestRegressor(n_estimators=n)\n",
    "    randf_obj.fit(X_train, y_train)\n",
    "    \n",
    "    randf_y_pred = randf_obj.predict(X_test)\n",
    "    \n",
    "    mean_sqr_eror = metrics.mean_squared_error(y_test, \n",
    "                                               randf_y_pred)\n",
    "    \n",
    "    # print(mean_sqr_eror)\n",
    "    \n",
    "    msqe.append(mean_sqr_eror)\n",
    "    \n",
    "print('Lowest testing error =', min(msqe))\n",
    "print('Associated number of trees (n_estimator) =', \n",
    "      num_tree[msqe.index(min(msqe))])"
   ]
  },
  {
   "cell_type": "code",
   "execution_count": 13,
   "metadata": {},
   "outputs": [
    {
     "name": "stdout",
     "output_type": "stream",
     "text": [
      "Lowest testing error = 0.0023272264090860844\n",
      "Associated number of trees (n_estimator) = 100\n"
     ]
    }
   ],
   "source": [
    "print('Lowest testing error =', min(msqe))\n",
    "print('Associated number of trees (n_estimator) =', \n",
    "      num_tree[msqe.index(min(msqe))])"
   ]
  },
  {
   "cell_type": "markdown",
   "metadata": {},
   "source": [
    "# PCA model examination"
   ]
  },
  {
   "cell_type": "code",
   "execution_count": 14,
   "metadata": {},
   "outputs": [
    {
     "name": "stdout",
     "output_type": "stream",
     "text": [
      "Lowest testing error = 0.007712425904282419\n",
      "Associated number of components (n_components) = 48\n"
     ]
    }
   ],
   "source": [
    "num_tree_pca = []\n",
    "pca_error = []\n",
    "\n",
    "for n in range(1, len(num_culmn_raw)):\n",
    "    num_tree_pca.append(n)\n",
    "    \n",
    "    pca_obj = PCA(n_components=n)\n",
    "    X_PCA_train = pca_obj.fit_transform(X_train)\n",
    "    X_PCA_test = pca_obj.transform(X_test)\n",
    "    components_variance = pca_obj.explained_variance_ratio_\n",
    "\n",
    "    # Fit a linear regression to the training set\n",
    "    mlr_pca_obj = LinearRegression()\n",
    "    mlr_pca_obj.fit(X_PCA_train, y_train)\n",
    "\n",
    "    y_mlr_pca_pred = mlr_pca_obj.predict(X_PCA_test)\n",
    "    \n",
    "    pca_error.append(metrics.mean_squared_error(y_test, y_mlr_pca_pred))\n",
    "    \n",
    "    #print(n)\n",
    "    #print(metrics.mean_squared_error(y_test, y_mlr_pca_pred))\n",
    "    \n",
    "print('Lowest testing error =', min(pca_error))\n",
    "print('Associated number of components (n_components) =', \n",
    "      num_tree_pca[pca_error.index(min(pca_error))])"
   ]
  },
  {
   "cell_type": "markdown",
   "metadata": {},
   "source": [
    "# K-Fold Tests"
   ]
  },
  {
   "cell_type": "code",
   "execution_count": 15,
   "metadata": {
    "scrolled": true
   },
   "outputs": [
    {
     "name": "stdout",
     "output_type": "stream",
     "text": [
      "MLR Mean: -266986248806492.8\n",
      "MLR Standard Deviation: 800958746419481.1\n",
      "\n",
      "MLR/Backward Elimination Mean: -266986248806492.8\n",
      "MLR/Backward Elimination Deviation: 800958746419481.1\n",
      "\n",
      "Decission Tree Mean: 0.9442331311251871\n",
      "Decission Tree Deviation: 0.01358284891724565\n",
      "\n"
     ]
    },
    {
     "name": "stderr",
     "output_type": "stream",
     "text": [
      "/Users/suyash/anaconda3/lib/python3.7/site-packages/sklearn/model_selection/_validation.py:514: DataConversionWarning: A column-vector y was passed when a 1d array was expected. Please change the shape of y to (n_samples,), for example using ravel().\n",
      "  estimator.fit(X_train, y_train, **fit_params)\n",
      "/Users/suyash/anaconda3/lib/python3.7/site-packages/sklearn/model_selection/_validation.py:514: DataConversionWarning: A column-vector y was passed when a 1d array was expected. Please change the shape of y to (n_samples,), for example using ravel().\n",
      "  estimator.fit(X_train, y_train, **fit_params)\n",
      "/Users/suyash/anaconda3/lib/python3.7/site-packages/sklearn/model_selection/_validation.py:514: DataConversionWarning: A column-vector y was passed when a 1d array was expected. Please change the shape of y to (n_samples,), for example using ravel().\n",
      "  estimator.fit(X_train, y_train, **fit_params)\n",
      "/Users/suyash/anaconda3/lib/python3.7/site-packages/sklearn/model_selection/_validation.py:514: DataConversionWarning: A column-vector y was passed when a 1d array was expected. Please change the shape of y to (n_samples,), for example using ravel().\n",
      "  estimator.fit(X_train, y_train, **fit_params)\n",
      "/Users/suyash/anaconda3/lib/python3.7/site-packages/sklearn/model_selection/_validation.py:514: DataConversionWarning: A column-vector y was passed when a 1d array was expected. Please change the shape of y to (n_samples,), for example using ravel().\n",
      "  estimator.fit(X_train, y_train, **fit_params)\n",
      "/Users/suyash/anaconda3/lib/python3.7/site-packages/sklearn/model_selection/_validation.py:514: DataConversionWarning: A column-vector y was passed when a 1d array was expected. Please change the shape of y to (n_samples,), for example using ravel().\n",
      "  estimator.fit(X_train, y_train, **fit_params)\n",
      "/Users/suyash/anaconda3/lib/python3.7/site-packages/sklearn/model_selection/_validation.py:514: DataConversionWarning: A column-vector y was passed when a 1d array was expected. Please change the shape of y to (n_samples,), for example using ravel().\n",
      "  estimator.fit(X_train, y_train, **fit_params)\n",
      "/Users/suyash/anaconda3/lib/python3.7/site-packages/sklearn/model_selection/_validation.py:514: DataConversionWarning: A column-vector y was passed when a 1d array was expected. Please change the shape of y to (n_samples,), for example using ravel().\n",
      "  estimator.fit(X_train, y_train, **fit_params)\n",
      "/Users/suyash/anaconda3/lib/python3.7/site-packages/sklearn/model_selection/_validation.py:514: DataConversionWarning: A column-vector y was passed when a 1d array was expected. Please change the shape of y to (n_samples,), for example using ravel().\n",
      "  estimator.fit(X_train, y_train, **fit_params)\n",
      "/Users/suyash/anaconda3/lib/python3.7/site-packages/sklearn/model_selection/_validation.py:514: DataConversionWarning: A column-vector y was passed when a 1d array was expected. Please change the shape of y to (n_samples,), for example using ravel().\n",
      "  estimator.fit(X_train, y_train, **fit_params)\n"
     ]
    },
    {
     "name": "stdout",
     "output_type": "stream",
     "text": [
      "Random Forest Mean: 0.9731096908701187\n",
      "Random Forest Standard Deviation: 0.006103652798246471\n",
      "\n",
      "MLR/PCA Mean: 0.9304882025182014\n",
      "MLR/PCA Standard Deviation: 0.004201896372276194\n"
     ]
    }
   ],
   "source": [
    "# Multiple Linear Regression Raw\n",
    "modelAccuracies = cross_val_score(estimator=mlr_obj, X=X_train, y=y_train, cv=10)\n",
    "print(\"MLR Mean:\", modelAccuracies.mean())\n",
    "print(\"MLR Standard Deviation:\", modelAccuracies.std())\n",
    "\n",
    "print()\n",
    "\n",
    "# Multilinear Regression with Backward Elimination\n",
    "modelAccuracies = cross_val_score(estimator=mlr_bw_obj, X=X_train, y=y_train, cv=10)\n",
    "print(\"MLR/Backward Elimination Mean:\", modelAccuracies.mean())\n",
    "print(\"MLR/Backward Elimination Deviation:\", modelAccuracies.std())\n",
    "\n",
    "print()\n",
    "\n",
    "# Decision Tree Model\n",
    "modelAccuracies = cross_val_score(estimator=dtr_obj, X=X_train, y=y_train, cv=10)\n",
    "print(\"Decission Tree Mean:\", modelAccuracies.mean())\n",
    "print(\"Decission Tree Deviation:\", modelAccuracies.std())\n",
    "\n",
    "print()\n",
    "\n",
    "# Random Forest Model\n",
    "randf_obj = RandomForestRegressor(n_estimators=num_tree[msqe.index(min(msqe))])\n",
    "modelAccuracies = cross_val_score(estimator=randf_obj, X=X_train, y=y_train, cv=10)\n",
    "print(\"Random Forest Mean:\", modelAccuracies.mean())\n",
    "print(\"Random Forest Standard Deviation:\", modelAccuracies.std())\n",
    "\n",
    "print()\n",
    "\n",
    "# PCA Model\n",
    "modelAccuracies = cross_val_score(estimator=mlr_pca_obj, X=X_train, y=y_train, cv=5)\n",
    "print(\"MLR/PCA Mean:\", modelAccuracies.mean())\n",
    "print(\"MLR/PCA Standard Deviation:\", modelAccuracies.std())"
   ]
  }
 ],
 "metadata": {
  "kernelspec": {
   "display_name": "Python 3",
   "language": "python",
   "name": "python3"
  },
  "language_info": {
   "codemirror_mode": {
    "name": "ipython",
    "version": 3
   },
   "file_extension": ".py",
   "mimetype": "text/x-python",
   "name": "python",
   "nbconvert_exporter": "python",
   "pygments_lexer": "ipython3",
   "version": "3.7.3"
  }
 },
 "nbformat": 4,
 "nbformat_minor": 2
}
