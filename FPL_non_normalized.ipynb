{
 "cells": [
  {
   "cell_type": "markdown",
   "metadata": {},
   "source": [
    "# Import the libraries that will be used throughout the examination of the data"
   ]
  },
  {
   "cell_type": "code",
   "execution_count": 1,
   "metadata": {},
   "outputs": [],
   "source": [
    "# Importing important Libraries used by all\n",
    "import numpy as np\n",
    "import matplotlib.pyplot as plt\n",
    "import pandas as pd\n",
    "\n",
    "# Import library for split and train\n",
    "from sklearn.model_selection import train_test_split\n",
    "\n",
    "# Import for linear Regression\n",
    "from sklearn.linear_model import LinearRegression\n",
    "\n",
    "# Import for PCA\n",
    "from sklearn.decomposition import PCA\n",
    "\n",
    "# Import for Random Forest\n",
    "from sklearn.ensemble import RandomForestRegressor\n",
    "\n",
    "# Import for Decision Tree Reg\n",
    "from sklearn.tree import DecisionTreeRegressor\n",
    "\n",
    "# Import for K-Fold\n",
    "from sklearn.svm import SVC\n",
    "\n",
    "# K-Fold cross validation\n",
    "from sklearn.model_selection import cross_val_score\n",
    "\n",
    "# Import for normalizing\n",
    "from sklearn.preprocessing import StandardScaler\n",
    "\n",
    "# Import for finding the error of the model\n",
    "from sklearn import metrics\n",
    "\n",
    "# Import for Polynomial Regression\n",
    "from sklearn.preprocessing import PolynomialFeatures\n",
    "\n",
    "#Backward Elimination\n",
    "import statsmodels.api as sm\n",
    "\n",
    "#K-Fold Cross Validation\n",
    "from sklearn.model_selection import cross_val_score\n",
    "\n",
    "#Applying PCA\n",
    "from sklearn.decomposition import PCA"
   ]
  },
  {
   "cell_type": "markdown",
   "metadata": {},
   "source": [
    "# Load in the premier league data set and clean it up so it can be examined"
   ]
  },
  {
   "cell_type": "code",
   "execution_count": 2,
   "metadata": {},
   "outputs": [
    {
     "name": "stderr",
     "output_type": "stream",
     "text": [
      "/Users/sshrest/opt/anaconda3/lib/python3.7/site-packages/IPython/core/interactiveshell.py:3058: DtypeWarning: Columns (12,30,52) have mixed types. Specify dtype option on import or set low_memory=False.\n",
      "  interactivity=interactivity, compiler=compiler, result=result)\n"
     ]
    }
   ],
   "source": [
    "# Loading in the data set being used\n",
    "dataset = pd.read_csv('complete_gws.csv', encoding=\"ISO-8859-1\")\n",
    "dataset_test = pd.read_csv('complete_gws.csv', encoding=\"ISO-8859-1\")\n",
    "\n",
    "# Clean up the data\n",
    "# DROP VALUES:\n",
    "dataset.drop([\"name\", \"kickoff_time\", \"kickoff_time_formatted\",\"ea_index\",\"loaned_in\",\"loaned_out\",\"selected\",\"id\",\n",
    "              \"transfers_balance\",\"transfers_in\",\"transfers_out\",\n",
    "             \"element\", \"selected\", \"value\"]\n",
    "            , axis=1, inplace=True)\n",
    "\n",
    "dataset_test.drop([\"name\", \"kickoff_time\", \"kickoff_time_formatted\",\"ea_index\",\"loaned_in\",\"loaned_out\",\"selected\",\"id\",\n",
    "              \"transfers_balance\",\"transfers_in\",\"transfers_out\",\n",
    "             \"element\", \"selected\", \"value\"]\n",
    "            , axis=1, inplace=True)\n",
    "\n",
    "# Remove bad instances located near bottom of set\n",
    "dataset=dataset.iloc[:67936,:]\n",
    "\n",
    "# Remove all players with minutes = 0\n",
    "dataset = dataset[dataset.minutes!=0]\n",
    "\n",
    "\n",
    "# Set the target y as goal_scored and x as remaining columns\n",
    "dataset_test.drop([\"goals_scored\"], axis=1, inplace=True)\n",
    "X = dataset.iloc[:,dataset.columns != \"goals_scored\"].values\n",
    "y = dataset.iloc[:,dataset.columns == \"goals_scored\"].values\n"
   ]
  },
  {
   "cell_type": "markdown",
   "metadata": {},
   "source": [
    "# Split for train(.70) and test(.30) data"
   ]
  },
  {
   "cell_type": "code",
   "execution_count": 3,
   "metadata": {},
   "outputs": [
    {
     "name": "stdout",
     "output_type": "stream",
     "text": [
      "Examine y_test: [0 1 2 3]\n"
     ]
    }
   ],
   "source": [
    "# Splitting the data into training and testing set\n",
    "X_train, X_test, y_train, y_test = train_test_split(X,y,test_size=0.3, random_state=5)\n",
    "\n",
    "print(\"Examine y_test:\",np.unique(y_test))"
   ]
  },
  {
   "cell_type": "markdown",
   "metadata": {},
   "source": [
    "# Lets examine the data before setting it to the different models selected"
   ]
  },
  {
   "cell_type": "code",
   "execution_count": 4,
   "metadata": {},
   "outputs": [
    {
     "name": "stdout",
     "output_type": "stream",
     "text": [
      "Goals: [0 1 2 3 4]\n",
      "Counts: [20040  1720   197    20     4]\n"
     ]
    },
    {
     "data": {
      "text/plain": [
       "<BarContainer object of 5 artists>"
      ]
     },
     "execution_count": 4,
     "metadata": {},
     "output_type": "execute_result"
    },
    {
     "data": {
      "image/png": "[encoded data removed]",
      "text/plain": [
       "<Figure size 432x288 with 1 Axes>"
      ]
     },
     "metadata": {
      "needs_background": "light"
     },
     "output_type": "display_data"
    }
   ],
   "source": [
    "total_goals = np.unique(y_train, return_counts=True)\n",
    "print(\"Goals:\",total_goals[0])\n",
    "print(\"Counts:\",total_goals[1])\n",
    "plt.bar(total_goals[0],total_goals[1])"
   ]
  },
  {
   "cell_type": "markdown",
   "metadata": {},
   "source": [
    "# Fitting the data to a Multiple Linear Regression Model"
   ]
  },
  {
   "cell_type": "code",
   "execution_count": 5,
   "metadata": {
    "scrolled": true
   },
   "outputs": [
    {
     "name": "stdout",
     "output_type": "stream",
     "text": [
      "The weight parameters are:\n",
      "(0) red_cards: 0.24067770904985256\n",
      "(1) own_goals: 0.21545584840597373\n",
      "(2) penalties_missed: 0.12746597965456255\n",
      "(3) errors_leading_to_goal: 0.12154078986611888\n",
      "(4) penalties_conceded: 0.11424615553712827\n",
      "(5) winning_goals: 0.1102624273136205\n",
      "(6) yellow_cards: 0.0743993830886241\n",
      "(7) errors_leading_to_goal_attempt: 0.0503369573208094\n",
      "(8) target_missed: 0.0479261297206929\n",
      "(9) ict_index: 0.046508927787989825\n",
      "(10) fouls: 0.027855943135959883\n",
      "(11) total_points: 0.02465191329878164\n",
      "(12) offside: 0.022304813179787886\n",
      "(13) tackled: 0.016079250881033232\n",
      "(14) big_chances_missed: 0.013084007188018807\n",
      "(15) bps: 0.011472265954534341\n",
      "(16) influence: 0.011167343412671503\n",
      "(17) team_a_score: 0.0065332958263155496\n",
      "(18) team_h_score: 0.005410787004883118\n",
      "(19) goals_conceded: 0.00426219418815026\n",
      "(20) attempted_passes: 0.0009473674542686744\n",
      "(21) round: 0.0006710033821079447\n",
      "(22) fixture: -8.357720909269069e-05\n",
      "(23) opponent_team: -0.00020343012708544213\n",
      "(24) minutes: -0.0010672428462697714\n",
      "(25) creativity: -0.0015724675607074064\n",
      "(26) was_home: -0.003421602558314807\n",
      "(27) recoveries: -0.003461565484851881\n",
      "(28) completed_passes: -0.003962315045306504\n",
      "(29) threat: -0.004109706917402586\n",
      "(30) bonus: -0.015194088801484894\n",
      "(31) dribbles: -0.025383635116208943\n",
      "(32) clearances_blocks_interceptions: -0.03656257087557159\n",
      "(33) tackles: -0.044922682709410175\n",
      "(34) big_chances_created: -0.052679824011294264\n",
      "(35) open_play_crosses: -0.054766233214192286\n",
      "(36) key_passes: -0.07560233866769371\n",
      "(37) clean_sheets: -0.11316825837357253\n",
      "(38) saves: -0.12993337151094023\n",
      "(39) assists: -0.36525037487854994\n",
      "(40) penalties_saved: -0.6181639471117508\n"
     ]
    }
   ],
   "source": [
    "# Fitting the multiple linear regresion to the training set\n",
    "mlr_obj = LinearRegression()\n",
    "mlr_obj.fit(X_train, y_train)\n",
    "\n",
    "\n",
    "num_culmn_raw  = X_train[0,:]\n",
    "\n",
    "print(\"The weight parameters are:\")\n",
    "\n",
    "#sort and print the weight parameters for each column\n",
    "copy_of_coef=list(mlr_obj.coef_[0])\n",
    "list_of_coeff=list(mlr_obj.coef_[0])\n",
    "copy_of_coef.sort(reverse=True)\n",
    "\n",
    "for idx, coeff in enumerate(copy_of_coef):\n",
    "    index=list_of_coeff.index(copy_of_coef[idx])\n",
    "    print(\"({}) {}: {}\".format(idx, dataset_test.columns[index], copy_of_coef[idx] ))\n",
    "\n",
    "mlr_y_pred = mlr_obj.predict(X_test)\n"
   ]
  },
  {
   "cell_type": "markdown",
   "metadata": {},
   "source": [
    "# Calculate the Mean Squared Error for the model"
   ]
  },
  {
   "cell_type": "code",
   "execution_count": 6,
   "metadata": {},
   "outputs": [
    {
     "name": "stdout",
     "output_type": "stream",
     "text": [
      "Mean Squared Error for MLR: 0.007790253809881702\n"
     ]
    }
   ],
   "source": [
    "mlr_mse=metrics.mean_squared_error(y_test, mlr_y_pred)\n",
    "print(\"Mean Squared Error for MLR:\", mlr_mse)"
   ]
  },
  {
   "cell_type": "markdown",
   "metadata": {},
   "source": [
    "# Using backwards elimination to trim the data"
   ]
  },
  {
   "cell_type": "code",
   "execution_count": 7,
   "metadata": {},
   "outputs": [],
   "source": [
    "def backwardElimination(x, sl):\n",
    "    \n",
    "    numVars = len(x[0])\n",
    "    for i in range(0, numVars):\n",
    "        \n",
    "        obj_OLS = sm.OLS(endog = y, exog = x).fit()\n",
    "        maxVar = max(obj_OLS.pvalues).astype(float)\n",
    "\n",
    "        if maxVar > sl:\n",
    "            \n",
    "            for j in range(0, numVars - i):\n",
    "                \n",
    "                if (obj_OLS.pvalues[j].astype(float) == maxVar):\n",
    "                    x = np.delete(x, j, 1)\n",
    "                    dataset_test.drop([dataset_test.columns[j]], axis=1, inplace=True)\n",
    "                    print(\"Droped column: \",j)\n",
    "                    \n",
    "    obj_OLS.summary()\n",
    "    return x\n",
    "\n",
    "\n",
    "X = X.astype(float)\n",
    "SL = 0.05\n",
    "X_sig = X[:,:]\n",
    "X_Modeled = backwardElimination(X_sig, SL)"
   ]
  },
  {
   "cell_type": "markdown",
   "metadata": {},
   "source": [
    "# Now run the trimed data with a linear regression model"
   ]
  },
  {
   "cell_type": "code",
   "execution_count": 8,
   "metadata": {
    "scrolled": true
   },
   "outputs": [
    {
     "name": "stdout",
     "output_type": "stream",
     "text": [
      "The weight parameters are:\n",
      "(0) red_cards: 0.2462940494857625\n",
      "(1) own_goals: 0.21474575412097177\n",
      "(2) errors_leading_to_goal: 0.12405237800929703\n",
      "(3) penalties_conceded: 0.1137499767784397\n",
      "(4) winning_goals: 0.10653086293453196\n",
      "(5) penalties_missed: 0.10305708381486704\n",
      "(6) yellow_cards: 0.07292014435041791\n",
      "(7) ict_index: 0.053383877229466435\n",
      "(8) target_missed: 0.04735473722437936\n",
      "(9) errors_leading_to_goal_attempt: 0.0465374975954134\n",
      "(10) fouls: 0.02847606978566471\n",
      "(11) total_points: 0.02377560888541076\n",
      "(12) offside: 0.022305929297449657\n",
      "(13) tackled: 0.016125457443186074\n",
      "(14) big_chances_missed: 0.014210980220363444\n",
      "(15) bps: 0.011542614747574596\n",
      "(16) influence: 0.010537670601249913\n",
      "(17) team_a_score: 0.0068376170149381035\n",
      "(18) team_h_score: 0.005405102556750121\n",
      "(19) goals_conceded: 0.00349771884090215\n",
      "(20) attempted_passes: 0.0011109219622344728\n",
      "(21) round: 0.00040442160818166917\n",
      "(22) fixture: -5.3298232573639265e-05\n",
      "(23) opponent_team: -0.00010966587764841785\n",
      "(24) minutes: -0.001024960671369961\n",
      "(25) creativity: -0.0023679406264360634\n",
      "(26) was_home: -0.002612752887613848\n",
      "(27) recoveries: -0.003512977634811358\n",
      "(28) completed_passes: -0.004165565874259301\n",
      "(29) threat: -0.004803588787165438\n",
      "(30) bonus: -0.014474130181648415\n",
      "(31) dribbles: -0.02613789854038155\n",
      "(32) clearances_blocks_interceptions: -0.03687624279004499\n",
      "(33) tackles: -0.045043967822853664\n",
      "(34) open_play_crosses: -0.05370891098223626\n",
      "(35) big_chances_created: -0.054439299842083684\n",
      "(36) key_passes: -0.07458245482881637\n",
      "(37) clean_sheets: -0.11018911117458484\n",
      "(38) saves: -0.1310168395960862\n",
      "(39) assists: -0.36310764875621115\n",
      "(40) penalties_saved: -0.6183006685213165\n"
     ]
    }
   ],
   "source": [
    "# Split the data\n",
    "X_sig_train, X_sig_test, y_sig_train, y_sig_test = train_test_split(\n",
    "    X_Modeled, y, test_size = 0.3)\n",
    "\n",
    "mlr_bw_obj = LinearRegression()\n",
    "mlr_bw_obj.fit(X_sig_train, y_sig_train)\n",
    "\n",
    "y_sig_pred = mlr_bw_obj.predict(X_sig_test)\n",
    "\n",
    "num_culmn_sig  = X_Modeled[0,:]\n",
    "\n",
    "print(\"The weight parameters are:\")\n",
    "\n",
    "#sort and print the weight parameters for each column\n",
    "\n",
    "copy_of_coef=list(mlr_bw_obj.coef_[0])\n",
    "list_of_coeff=list(mlr_bw_obj.coef_[0])\n",
    "copy_of_coef.sort(reverse=True)\n",
    "\n",
    "for idx, coeff in enumerate(copy_of_coef):\n",
    "    index=list_of_coeff.index(copy_of_coef[idx])\n",
    "    print(\"({}) {}: {}\".format(idx, dataset_test.columns[index], copy_of_coef[idx] ))\n",
    "#print(\"Mean Squared Error for MLR and Backward Elimination:\", metrics.mean_squared_error(y_sig_test, y_sig_pred))"
   ]
  },
  {
   "cell_type": "markdown",
   "metadata": {},
   "source": [
    "# MLR and Backward Elimination Mean Squared Error"
   ]
  },
  {
   "cell_type": "code",
   "execution_count": 9,
   "metadata": {},
   "outputs": [
    {
     "name": "stdout",
     "output_type": "stream",
     "text": [
      "Mean Squared Error for MLR and Backward Elimination: 0.007946201965473609\n"
     ]
    }
   ],
   "source": [
    "mlr_be_mse=metrics.mean_squared_error(y_sig_test, y_sig_pred)\n",
    "print(\"Mean Squared Error for MLR and Backward Elimination:\", mlr_be_mse)"
   ]
  },
  {
   "cell_type": "markdown",
   "metadata": {},
   "source": [
    "# Examine a Decison Tree regression"
   ]
  },
  {
   "cell_type": "code",
   "execution_count": 10,
   "metadata": {},
   "outputs": [
    {
     "name": "stdout",
     "output_type": "stream",
     "text": [
      "Mean Squared Error for Decision Tree: 0.0050950005307292216\n"
     ]
    }
   ],
   "source": [
    "dtr_obj = DecisionTreeRegressor()\n",
    "dtr_obj.fit(X_train, y_train)\n",
    "\n",
    "dtr_y_pred = dtr_obj.predict(X_test)\n",
    "\n",
    "dtr_mse=metrics.mean_squared_error(y_test, dtr_y_pred)\n",
    "print(\"Mean Squared Error for Decision Tree:\", dtr_mse)"
   ]
  },
  {
   "cell_type": "markdown",
   "metadata": {},
   "source": [
    "# Examine a Random Forrest model"
   ]
  },
  {
   "cell_type": "code",
   "execution_count": 11,
   "metadata": {},
   "outputs": [
    {
     "name": "stderr",
     "output_type": "stream",
     "text": [
      "/Users/sshrest/opt/anaconda3/lib/python3.7/site-packages/ipykernel_launcher.py:10: DataConversionWarning: A column-vector y was passed when a 1d array was expected. Please change the shape of y to (n_samples,), for example using ravel().\n",
      "  # Remove the CWD from sys.path while we load stuff.\n",
      "/Users/sshrest/opt/anaconda3/lib/python3.7/site-packages/ipykernel_launcher.py:10: DataConversionWarning: A column-vector y was passed when a 1d array was expected. Please change the shape of y to (n_samples,), for example using ravel().\n",
      "  # Remove the CWD from sys.path while we load stuff.\n",
      "/Users/sshrest/opt/anaconda3/lib/python3.7/site-packages/ipykernel_launcher.py:10: DataConversionWarning: A column-vector y was passed when a 1d array was expected. Please change the shape of y to (n_samples,), for example using ravel().\n",
      "  # Remove the CWD from sys.path while we load stuff.\n",
      "/Users/sshrest/opt/anaconda3/lib/python3.7/site-packages/ipykernel_launcher.py:10: DataConversionWarning: A column-vector y was passed when a 1d array was expected. Please change the shape of y to (n_samples,), for example using ravel().\n",
      "  # Remove the CWD from sys.path while we load stuff.\n",
      "/Users/sshrest/opt/anaconda3/lib/python3.7/site-packages/ipykernel_launcher.py:10: DataConversionWarning: A column-vector y was passed when a 1d array was expected. Please change the shape of y to (n_samples,), for example using ravel().\n",
      "  # Remove the CWD from sys.path while we load stuff.\n",
      "/Users/sshrest/opt/anaconda3/lib/python3.7/site-packages/ipykernel_launcher.py:10: DataConversionWarning: A column-vector y was passed when a 1d array was expected. Please change the shape of y to (n_samples,), for example using ravel().\n",
      "  # Remove the CWD from sys.path while we load stuff.\n",
      "/Users/sshrest/opt/anaconda3/lib/python3.7/site-packages/ipykernel_launcher.py:10: DataConversionWarning: A column-vector y was passed when a 1d array was expected. Please change the shape of y to (n_samples,), for example using ravel().\n",
      "  # Remove the CWD from sys.path while we load stuff.\n",
      "/Users/sshrest/opt/anaconda3/lib/python3.7/site-packages/ipykernel_launcher.py:10: DataConversionWarning: A column-vector y was passed when a 1d array was expected. Please change the shape of y to (n_samples,), for example using ravel().\n",
      "  # Remove the CWD from sys.path while we load stuff.\n",
      "/Users/sshrest/opt/anaconda3/lib/python3.7/site-packages/ipykernel_launcher.py:10: DataConversionWarning: A column-vector y was passed when a 1d array was expected. Please change the shape of y to (n_samples,), for example using ravel().\n",
      "  # Remove the CWD from sys.path while we load stuff.\n",
      "/Users/sshrest/opt/anaconda3/lib/python3.7/site-packages/ipykernel_launcher.py:10: DataConversionWarning: A column-vector y was passed when a 1d array was expected. Please change the shape of y to (n_samples,), for example using ravel().\n",
      "  # Remove the CWD from sys.path while we load stuff.\n",
      "/Users/sshrest/opt/anaconda3/lib/python3.7/site-packages/ipykernel_launcher.py:10: DataConversionWarning: A column-vector y was passed when a 1d array was expected. Please change the shape of y to (n_samples,), for example using ravel().\n",
      "  # Remove the CWD from sys.path while we load stuff.\n",
      "/Users/sshrest/opt/anaconda3/lib/python3.7/site-packages/ipykernel_launcher.py:10: DataConversionWarning: A column-vector y was passed when a 1d array was expected. Please change the shape of y to (n_samples,), for example using ravel().\n",
      "  # Remove the CWD from sys.path while we load stuff.\n",
      "/Users/sshrest/opt/anaconda3/lib/python3.7/site-packages/ipykernel_launcher.py:10: DataConversionWarning: A column-vector y was passed when a 1d array was expected. Please change the shape of y to (n_samples,), for example using ravel().\n",
      "  # Remove the CWD from sys.path while we load stuff.\n",
      "/Users/sshrest/opt/anaconda3/lib/python3.7/site-packages/ipykernel_launcher.py:10: DataConversionWarning: A column-vector y was passed when a 1d array was expected. Please change the shape of y to (n_samples,), for example using ravel().\n",
      "  # Remove the CWD from sys.path while we load stuff.\n",
      "/Users/sshrest/opt/anaconda3/lib/python3.7/site-packages/ipykernel_launcher.py:10: DataConversionWarning: A column-vector y was passed when a 1d array was expected. Please change the shape of y to (n_samples,), for example using ravel().\n",
      "  # Remove the CWD from sys.path while we load stuff.\n",
      "/Users/sshrest/opt/anaconda3/lib/python3.7/site-packages/ipykernel_launcher.py:10: DataConversionWarning: A column-vector y was passed when a 1d array was expected. Please change the shape of y to (n_samples,), for example using ravel().\n",
      "  # Remove the CWD from sys.path while we load stuff.\n",
      "/Users/sshrest/opt/anaconda3/lib/python3.7/site-packages/ipykernel_launcher.py:10: DataConversionWarning: A column-vector y was passed when a 1d array was expected. Please change the shape of y to (n_samples,), for example using ravel().\n",
      "  # Remove the CWD from sys.path while we load stuff.\n",
      "/Users/sshrest/opt/anaconda3/lib/python3.7/site-packages/ipykernel_launcher.py:10: DataConversionWarning: A column-vector y was passed when a 1d array was expected. Please change the shape of y to (n_samples,), for example using ravel().\n",
      "  # Remove the CWD from sys.path while we load stuff.\n",
      "/Users/sshrest/opt/anaconda3/lib/python3.7/site-packages/ipykernel_launcher.py:10: DataConversionWarning: A column-vector y was passed when a 1d array was expected. Please change the shape of y to (n_samples,), for example using ravel().\n",
      "  # Remove the CWD from sys.path while we load stuff.\n",
      "/Users/sshrest/opt/anaconda3/lib/python3.7/site-packages/ipykernel_launcher.py:10: DataConversionWarning: A column-vector y was passed when a 1d array was expected. Please change the shape of y to (n_samples,), for example using ravel().\n",
      "  # Remove the CWD from sys.path while we load stuff.\n",
      "/Users/sshrest/opt/anaconda3/lib/python3.7/site-packages/ipykernel_launcher.py:10: DataConversionWarning: A column-vector y was passed when a 1d array was expected. Please change the shape of y to (n_samples,), for example using ravel().\n",
      "  # Remove the CWD from sys.path while we load stuff.\n",
      "/Users/sshrest/opt/anaconda3/lib/python3.7/site-packages/ipykernel_launcher.py:10: DataConversionWarning: A column-vector y was passed when a 1d array was expected. Please change the shape of y to (n_samples,), for example using ravel().\n",
      "  # Remove the CWD from sys.path while we load stuff.\n",
      "/Users/sshrest/opt/anaconda3/lib/python3.7/site-packages/ipykernel_launcher.py:10: DataConversionWarning: A column-vector y was passed when a 1d array was expected. Please change the shape of y to (n_samples,), for example using ravel().\n",
      "  # Remove the CWD from sys.path while we load stuff.\n",
      "/Users/sshrest/opt/anaconda3/lib/python3.7/site-packages/ipykernel_launcher.py:10: DataConversionWarning: A column-vector y was passed when a 1d array was expected. Please change the shape of y to (n_samples,), for example using ravel().\n",
      "  # Remove the CWD from sys.path while we load stuff.\n",
      "/Users/sshrest/opt/anaconda3/lib/python3.7/site-packages/ipykernel_launcher.py:10: DataConversionWarning: A column-vector y was passed when a 1d array was expected. Please change the shape of y to (n_samples,), for example using ravel().\n",
      "  # Remove the CWD from sys.path while we load stuff.\n",
      "/Users/sshrest/opt/anaconda3/lib/python3.7/site-packages/ipykernel_launcher.py:10: DataConversionWarning: A column-vector y was passed when a 1d array was expected. Please change the shape of y to (n_samples,), for example using ravel().\n",
      "  # Remove the CWD from sys.path while we load stuff.\n",
      "/Users/sshrest/opt/anaconda3/lib/python3.7/site-packages/ipykernel_launcher.py:10: DataConversionWarning: A column-vector y was passed when a 1d array was expected. Please change the shape of y to (n_samples,), for example using ravel().\n",
      "  # Remove the CWD from sys.path while we load stuff.\n",
      "/Users/sshrest/opt/anaconda3/lib/python3.7/site-packages/ipykernel_launcher.py:10: DataConversionWarning: A column-vector y was passed when a 1d array was expected. Please change the shape of y to (n_samples,), for example using ravel().\n",
      "  # Remove the CWD from sys.path while we load stuff.\n",
      "/Users/sshrest/opt/anaconda3/lib/python3.7/site-packages/ipykernel_launcher.py:10: DataConversionWarning: A column-vector y was passed when a 1d array was expected. Please change the shape of y to (n_samples,), for example using ravel().\n",
      "  # Remove the CWD from sys.path while we load stuff.\n"
     ]
    },
    {
     "name": "stderr",
     "output_type": "stream",
     "text": [
      "/Users/sshrest/opt/anaconda3/lib/python3.7/site-packages/ipykernel_launcher.py:10: DataConversionWarning: A column-vector y was passed when a 1d array was expected. Please change the shape of y to (n_samples,), for example using ravel().\n",
      "  # Remove the CWD from sys.path while we load stuff.\n"
     ]
    },
    {
     "name": "stdout",
     "output_type": "stream",
     "text": [
      "Lowest testing error = 0.0022792177357038364\n",
      "Associated number of trees (n_estimator) = 270\n"
     ]
    },
    {
     "data": {
      "image/png": "[encoded data removed]",
      "text/plain": [
       "<Figure size 432x288 with 1 Axes>"
      ]
     },
     "metadata": {
      "needs_background": "light"
     },
     "output_type": "display_data"
    }
   ],
   "source": [
    "num_tree = []\n",
    "msqe = []\n",
    "x_axis=[]\n",
    "\n",
    "for n in range (10, 301, 10):\n",
    "    \n",
    "    num_tree.append(n)\n",
    "    \n",
    "    randf_obj = RandomForestRegressor(n_estimators=n)\n",
    "    randf_obj.fit(X_train, y_train)\n",
    "    \n",
    "    randf_y_pred = randf_obj.predict(X_test)\n",
    "    \n",
    "    mean_sqr_eror = metrics.mean_squared_error(y_test, \n",
    "                                               randf_y_pred)\n",
    "    x_axis.append(n)\n",
    "    msqe.append(mean_sqr_eror)\n",
    "\n",
    "plt.title('Random Forest')\n",
    "plt.xlabel('n_estimators')\n",
    "plt.ylabel('MSE')\n",
    "plt.plot(x_axis,msqe)\n",
    "print('Lowest testing error =', min(msqe))\n",
    "print('Associated number of trees (n_estimator) =', \n",
    "      num_tree[msqe.index(min(msqe))])"
   ]
  },
  {
   "cell_type": "code",
   "execution_count": 12,
   "metadata": {},
   "outputs": [
    {
     "name": "stdout",
     "output_type": "stream",
     "text": [
      "Lowest testing error = 0.0022792177357038364\n",
      "Associated number of trees (n_estimator) = 270\n"
     ]
    }
   ],
   "source": [
    "print('Lowest testing error =', min(msqe))\n",
    "print('Associated number of trees (n_estimator) =', \n",
    "      num_tree[msqe.index(min(msqe))])"
   ]
  },
  {
   "cell_type": "markdown",
   "metadata": {},
   "source": [
    "# PCA model examination"
   ]
  },
  {
   "cell_type": "code",
   "execution_count": 13,
   "metadata": {},
   "outputs": [
    {
     "name": "stdout",
     "output_type": "stream",
     "text": [
      "Lowest testing error = 0.00853666990743264\n",
      "Associated number of components (n_components) = 40\n"
     ]
    },
    {
     "data": {
      "image/png": "[encoded data removed]",
      "text/plain": [
       "<Figure size 432x288 with 1 Axes>"
      ]
     },
     "metadata": {
      "needs_background": "light"
     },
     "output_type": "display_data"
    }
   ],
   "source": [
    "num_tree_pca = []\n",
    "pca_error = []\n",
    "x_axis=[]\n",
    "\n",
    "for n in range(1, len(num_culmn_raw)):\n",
    "    num_tree_pca.append(n)\n",
    "    \n",
    "    pca_obj = PCA(n_components=n)\n",
    "    X_PCA_train = pca_obj.fit_transform(X_train)\n",
    "    X_PCA_test = pca_obj.transform(X_test)\n",
    "    components_variance = pca_obj.explained_variance_ratio_\n",
    "\n",
    "    # Fit a linear regression to the training set\n",
    "    mlr_pca_obj = LinearRegression()\n",
    "    mlr_pca_obj.fit(X_PCA_train, y_train)\n",
    "\n",
    "    y_mlr_pca_pred = mlr_pca_obj.predict(X_PCA_test)\n",
    "    x_axis.append(n)\n",
    "\n",
    "    pca_error.append(metrics.mean_squared_error(y_test, y_mlr_pca_pred))\n",
    "    \n",
    " \n",
    "plt.title('PCA')\n",
    "plt.xlabel('n_components')\n",
    "plt.ylabel('MSE')\n",
    "plt.plot(x_axis,pca_error)    \n",
    "print('Lowest testing error =', min(pca_error))\n",
    "print('Associated number of components (n_components) =', \n",
    "      num_tree_pca[pca_error.index(min(pca_error))])"
   ]
  },
  {
   "cell_type": "markdown",
   "metadata": {},
   "source": [
    "# Visualize MSE results of computed models"
   ]
  },
  {
   "cell_type": "code",
   "execution_count": 14,
   "metadata": {},
   "outputs": [
    {
     "data": {
      "image/png": "[encoded data removed]",
      "text/plain": [
       "<Figure size 432x288 with 1 Axes>"
      ]
     },
     "metadata": {
      "needs_background": "light"
     },
     "output_type": "display_data"
    }
   ],
   "source": [
    "plot_y=[1,2,3,4,5]\n",
    "plot_x=[mlr_mse,mlr_be_mse,dtr_mse,min(msqe),min(pca_error)]\n",
    "\n",
    "plot_labels=[\"MLR\",\"MLR/Backward Elimination\",\"Decision Tree\",\"Random Forest\",\"PCA\"]\n",
    "plt.barh(plot_y, plot_x, align='center')\n",
    "plt.yticks(plot_y, plot_labels)\n",
    "plt.xlabel(\"Mean Square Error\")\n",
    "plt.show()"
   ]
  },
  {
   "cell_type": "markdown",
   "metadata": {},
   "source": [
    "# K-Fold Tests"
   ]
  },
  {
   "cell_type": "code",
   "execution_count": 15,
   "metadata": {
    "scrolled": true
   },
   "outputs": [
    {
     "name": "stdout",
     "output_type": "stream",
     "text": [
      "MLR Mean: 0.9289505739138916\n",
      "MLR Standard Deviation: 0.006570637340117199\n",
      "\n",
      "MLR/Backward Elimination Mean: 0.9289505739138916\n",
      "MLR/Backward Elimination Deviation: 0.006570637340117199\n",
      "\n",
      "Decission Tree Mean: 0.9502210502924007\n",
      "Decission Tree Deviation: 0.008961278421391826\n",
      "\n"
     ]
    },
    {
     "name": "stderr",
     "output_type": "stream",
     "text": [
      "/Users/sshrest/opt/anaconda3/lib/python3.7/site-packages/sklearn/model_selection/_validation.py:516: DataConversionWarning: A column-vector y was passed when a 1d array was expected. Please change the shape of y to (n_samples,), for example using ravel().\n",
      "  estimator.fit(X_train, y_train, **fit_params)\n",
      "/Users/sshrest/opt/anaconda3/lib/python3.7/site-packages/sklearn/model_selection/_validation.py:516: DataConversionWarning: A column-vector y was passed when a 1d array was expected. Please change the shape of y to (n_samples,), for example using ravel().\n",
      "  estimator.fit(X_train, y_train, **fit_params)\n",
      "/Users/sshrest/opt/anaconda3/lib/python3.7/site-packages/sklearn/model_selection/_validation.py:516: DataConversionWarning: A column-vector y was passed when a 1d array was expected. Please change the shape of y to (n_samples,), for example using ravel().\n",
      "  estimator.fit(X_train, y_train, **fit_params)\n",
      "/Users/sshrest/opt/anaconda3/lib/python3.7/site-packages/sklearn/model_selection/_validation.py:516: DataConversionWarning: A column-vector y was passed when a 1d array was expected. Please change the shape of y to (n_samples,), for example using ravel().\n",
      "  estimator.fit(X_train, y_train, **fit_params)\n",
      "/Users/sshrest/opt/anaconda3/lib/python3.7/site-packages/sklearn/model_selection/_validation.py:516: DataConversionWarning: A column-vector y was passed when a 1d array was expected. Please change the shape of y to (n_samples,), for example using ravel().\n",
      "  estimator.fit(X_train, y_train, **fit_params)\n",
      "/Users/sshrest/opt/anaconda3/lib/python3.7/site-packages/sklearn/model_selection/_validation.py:516: DataConversionWarning: A column-vector y was passed when a 1d array was expected. Please change the shape of y to (n_samples,), for example using ravel().\n",
      "  estimator.fit(X_train, y_train, **fit_params)\n",
      "/Users/sshrest/opt/anaconda3/lib/python3.7/site-packages/sklearn/model_selection/_validation.py:516: DataConversionWarning: A column-vector y was passed when a 1d array was expected. Please change the shape of y to (n_samples,), for example using ravel().\n",
      "  estimator.fit(X_train, y_train, **fit_params)\n",
      "/Users/sshrest/opt/anaconda3/lib/python3.7/site-packages/sklearn/model_selection/_validation.py:516: DataConversionWarning: A column-vector y was passed when a 1d array was expected. Please change the shape of y to (n_samples,), for example using ravel().\n",
      "  estimator.fit(X_train, y_train, **fit_params)\n",
      "/Users/sshrest/opt/anaconda3/lib/python3.7/site-packages/sklearn/model_selection/_validation.py:516: DataConversionWarning: A column-vector y was passed when a 1d array was expected. Please change the shape of y to (n_samples,), for example using ravel().\n",
      "  estimator.fit(X_train, y_train, **fit_params)\n",
      "/Users/sshrest/opt/anaconda3/lib/python3.7/site-packages/sklearn/model_selection/_validation.py:516: DataConversionWarning: A column-vector y was passed when a 1d array was expected. Please change the shape of y to (n_samples,), for example using ravel().\n",
      "  estimator.fit(X_train, y_train, **fit_params)\n"
     ]
    },
    {
     "name": "stdout",
     "output_type": "stream",
     "text": [
      "Random Forest Mean: 0.974910712792347\n",
      "Random Forest Standard Deviation: 0.0063899459183493525\n",
      "\n",
      "MLR/PCA Mean: 0.9291971524931553\n",
      "MLR/PCA Standard Deviation: 0.004336414184795933\n"
     ]
    }
   ],
   "source": [
    "#initialize for plot\n",
    "plot_x_mean=[]\n",
    "plot_x_std=[]\n",
    "\n",
    "# Multiple Linear Regression Raw\n",
    "modelAccuracies = cross_val_score(estimator=mlr_obj, X=X_train, y=y_train, cv=10)\n",
    "plot_x_mean.append(modelAccuracies.mean())\n",
    "plot_x_std.append(modelAccuracies.std())\n",
    "print(\"MLR Mean:\", modelAccuracies.mean())\n",
    "print(\"MLR Standard Deviation:\", modelAccuracies.std())\n",
    "\n",
    "print()\n",
    "\n",
    "# Multilinear Regression with Backward Elimination\n",
    "modelAccuracies = cross_val_score(estimator=mlr_bw_obj, X=X_train, y=y_train, cv=10)\n",
    "plot_x_mean.append(modelAccuracies.mean())\n",
    "plot_x_std.append(modelAccuracies.std())\n",
    "print(\"MLR/Backward Elimination Mean:\", modelAccuracies.mean())\n",
    "print(\"MLR/Backward Elimination Deviation:\", modelAccuracies.std())\n",
    "\n",
    "print()\n",
    "\n",
    "# Decision Tree Model\n",
    "modelAccuracies = cross_val_score(estimator=dtr_obj, X=X_train, y=y_train, cv=10)\n",
    "plot_x_mean.append(modelAccuracies.mean())\n",
    "plot_x_std.append(modelAccuracies.std())\n",
    "print(\"Decission Tree Mean:\", modelAccuracies.mean())\n",
    "print(\"Decission Tree Deviation:\", modelAccuracies.std())\n",
    "\n",
    "print()\n",
    "\n",
    "# Random Forest Model\n",
    "randf_obj = RandomForestRegressor(n_estimators=num_tree[msqe.index(min(msqe))])\n",
    "modelAccuracies = cross_val_score(estimator=randf_obj, X=X_train, y=y_train, cv=10)\n",
    "plot_x_mean.append(modelAccuracies.mean())\n",
    "plot_x_std.append(modelAccuracies.std())\n",
    "print(\"Random Forest Mean:\", modelAccuracies.mean())\n",
    "print(\"Random Forest Standard Deviation:\", modelAccuracies.std())\n",
    "\n",
    "print()\n",
    "\n",
    "# PCA Model\n",
    "modelAccuracies = cross_val_score(estimator=mlr_pca_obj, X=X_train, y=y_train, cv=5)\n",
    "plot_x_mean.append(modelAccuracies.mean())\n",
    "plot_x_std.append(modelAccuracies.std())\n",
    "print(\"MLR/PCA Mean:\", modelAccuracies.mean())\n",
    "print(\"MLR/PCA Standard Deviation:\", modelAccuracies.std())"
   ]
  },
  {
   "cell_type": "markdown",
   "metadata": {},
   "source": [
    "# Plot model accuracies Means from K folds test"
   ]
  },
  {
   "cell_type": "code",
   "execution_count": 16,
   "metadata": {},
   "outputs": [
    {
     "name": "stdout",
     "output_type": "stream",
     "text": [
      "[0.007790253809881702, 0.007946201965473609, 0.0050950005307292216, 0.0022792177357038364, 0.00853666990743264]\n"
     ]
    },
    {
     "data": {
      "image/png": "[encoded data removed]",
      "text/plain": [
       "<Figure size 432x288 with 1 Axes>"
      ]
     },
     "metadata": {
      "needs_background": "light"
     },
     "output_type": "display_data"
    }
   ],
   "source": [
    "plot_y=[1,2,3,4,5]\n",
    "print(plot_x)\n",
    "plot_labels=[\"MLR\",\"MLR/Backward Elimination\",\"Decision Tree\",\"Random Forest\",\"MLR/PCA\"]\n",
    "plt.barh(plot_y, plot_x_mean, align='center')\n",
    "plt.yticks(plot_y, plot_labels)\n",
    "plt.xlabel(\"Mean\")\n",
    "plt.show()"
   ]
  },
  {
   "cell_type": "markdown",
   "metadata": {},
   "source": [
    "# Plot model accuracies Standard Deviation from K folds test"
   ]
  },
  {
   "cell_type": "code",
   "execution_count": 17,
   "metadata": {},
   "outputs": [
    {
     "name": "stdout",
     "output_type": "stream",
     "text": [
      "[0.007790253809881702, 0.007946201965473609, 0.0050950005307292216, 0.0022792177357038364, 0.00853666990743264]\n"
     ]
    },
    {
     "data": {
      "image/png": "[encoded data removed]",
      "text/plain": [
       "<Figure size 432x288 with 1 Axes>"
      ]
     },
     "metadata": {
      "needs_background": "light"
     },
     "output_type": "display_data"
    }
   ],
   "source": [
    "plot_y=[1,2,3,4,5]\n",
    "print(plot_x)\n",
    "plot_labels=[\"MLR\",\"MLR/Backward Elimination\",\"Decision Tree\",\"Random Forest\",\"MLR/PCA\"]\n",
    "plt.barh(plot_y, plot_x_std, align='center')\n",
    "plt.yticks(plot_y, plot_labels)\n",
    "plt.xlabel(\"Standard Deviation\")\n",
    "plt.show()"
   ]
  }
 ],
 "metadata": {
  "kernelspec": {
   "display_name": "Python 3",
   "language": "python",
   "name": "python3"
  },
  "language_info": {
   "codemirror_mode": {
    "name": "ipython",
    "version": 3
   },
   "file_extension": ".py",
   "mimetype": "text/x-python",
   "name": "python",
   "nbconvert_exporter": "python",
   "pygments_lexer": "ipython3",
   "version": "3.7.4"
  }
 },
 "nbformat": 4,
 "nbformat_minor": 2
}
